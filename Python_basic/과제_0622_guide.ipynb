{
 "cells": [
  {
   "cell_type": "code",
   "execution_count": 2,
   "id": "7c03f4e7",
   "metadata": {},
   "outputs": [
    {
     "name": "stdout",
     "output_type": "stream",
     "text": [
      "2\n",
      "1\n"
     ]
    }
   ],
   "source": [
    "# 사칙연산\n",
    "# 5를 2로 나누었을때의 몫과 나머지를 구하세요.\n",
    "print(5//2)\n",
    "print(5%2)"
   ]
  },
  {
   "cell_type": "code",
   "execution_count": 6,
   "id": "4622380e",
   "metadata": {},
   "outputs": [
    {
     "data": {
      "text/plain": [
       "1030301"
      ]
     },
     "execution_count": 6,
     "metadata": {},
     "output_type": "execute_result"
    }
   ],
   "source": [
    "# 101의 3승을 구하세요\n",
    "101**3"
   ]
  },
  {
   "cell_type": "code",
   "execution_count": 7,
   "id": "af7a246c",
   "metadata": {},
   "outputs": [
    {
     "name": "stdout",
     "output_type": "stream",
     "text": [
      "Python 3.8.3\n"
     ]
    }
   ],
   "source": [
    "# Python과 3.8.3을 합쳐서 Python 3.8.3으로 출력하세요\n",
    "print('Python '+'3.8.3')"
   ]
  },
  {
   "cell_type": "code",
   "execution_count": 11,
   "id": "5d546b57",
   "metadata": {},
   "outputs": [
    {
     "data": {
      "text/plain": [
       "int"
      ]
     },
     "execution_count": 11,
     "metadata": {},
     "output_type": "execute_result"
    }
   ],
   "source": [
    "# a = 5 a = '10' a = 15일때 a의 자료형은 무엇인가?\n",
    "a = 5; a = '10'; a = 15;\n",
    "type(a)"
   ]
  },
  {
   "cell_type": "code",
   "execution_count": 20,
   "id": "9f5a1f2f",
   "metadata": {},
   "outputs": [
    {
     "name": "stdout",
     "output_type": "stream",
     "text": [
      "2\n"
     ]
    }
   ],
   "source": [
    "# 5의 3승을 3으로 나누었을때의 나머지를 복합 대입 연산자를 이용해서 구하세요.\n",
    "num = 5; num **= 3; num %= 3;\n",
    "print(num)"
   ]
  },
  {
   "cell_type": "code",
   "execution_count": 22,
   "id": "4d74c71e",
   "metadata": {},
   "outputs": [
    {
     "name": "stdout",
     "output_type": "stream",
     "text": [
      "당신의 이름은 무엇입니까?> kevin\n",
      "kevin\n"
     ]
    }
   ],
   "source": [
    "# 이름을 물어보고 답하는 내용을 출력하세요\n",
    "String = input('당신의 이름은 무엇입니까?> ')\n",
    "print(String)"
   ]
  },
  {
   "cell_type": "code",
   "execution_count": 26,
   "id": "7357ce63",
   "metadata": {},
   "outputs": [
    {
     "name": "stdout",
     "output_type": "stream",
     "text": [
      "첫번째 숫자를 입력: 10\n",
      "두번째 숫자를 입력: 2\n",
      "세번째 숫자를 입력: 2\n",
      "50.0\n"
     ]
    }
   ],
   "source": [
    "# 숫자 3개를 입력해서 첫번째 숫자를 두번째 숫자 승한 뒤에 세번째 숫자로 나누었을 때 몫을 구하세요.\n",
    "a = input('첫번째 숫자를 입력: ')\n",
    "int_a = int(a)\n",
    "b = input('두번째 숫자를 입력: ')\n",
    "int_b = int(b)\n",
    "c = input('세번째 숫자를 입력: ')\n",
    "int_c = int(c)\n",
    "print(int_a ** int_b / int_c)"
   ]
  },
  {
   "cell_type": "code",
   "execution_count": 28,
   "id": "0e4e005b",
   "metadata": {},
   "outputs": [
    {
     "name": "stdout",
     "output_type": "stream",
     "text": [
      "첫번째: 1\n",
      "두번째: 2\n",
      "세번째: 3\n",
      "네번째: 4\n",
      "다섯번째: 5\n",
      "12345\n"
     ]
    }
   ],
   "source": [
    "# 1부터 5까지 입력해서 12345를 출력하세요\n",
    "a = input('첫번째: ')\n",
    "b = input('두번째: ')\n",
    "c = input('세번째: ')\n",
    "d = input('네번째: ')\n",
    "e = input('다섯번째: ')\n",
    "print(a+b+c+d+e)"
   ]
  },
  {
   "cell_type": "code",
   "execution_count": 3,
   "id": "73256707",
   "metadata": {},
   "outputs": [
    {
     "data": {
      "text/plain": [
       "[0, 1, 2, 3, 4, 5, 6, 7, 8, 9, 'a', 'b', 'c']"
      ]
     },
     "execution_count": 3,
     "metadata": {},
     "output_type": "execute_result"
    }
   ],
   "source": [
    "import numpy as np\n",
    "\n",
    "a = np.arange(10).tolist()\n",
    "b = ['a','b','c']\n",
    "a + b"
   ]
  },
  {
   "cell_type": "code",
   "execution_count": 4,
   "id": "928128cf",
   "metadata": {},
   "outputs": [
    {
     "data": {
      "text/plain": [
       "[0, 1, 2, 3, 4, 5, 6, 7, 8, 'b', 'c']"
      ]
     },
     "execution_count": 4,
     "metadata": {},
     "output_type": "execute_result"
    }
   ],
   "source": [
    "# [0, 1, 2, 3, 4, 5, 6, 7, 8, 9, 'a', 'b', 'c']에서 9와 'a'를 삭제 후 리스트로 출력하세요\n",
    "a = [0, 1, 2, 3, 4, 5, 6, 7, 8, 9, 'a', 'b', 'c']\n",
    "a[9:11] = []\n",
    "a"
   ]
  },
  {
   "cell_type": "code",
   "execution_count": 8,
   "id": "59d58ddf",
   "metadata": {},
   "outputs": [
    {
     "data": {
      "text/plain": [
       "[0, 1, 2, 3, 4, 5, 6, 7, 8, 'b']"
      ]
     },
     "execution_count": 8,
     "metadata": {},
     "output_type": "execute_result"
    }
   ],
   "source": [
    "# [0, 1, 2, 3, 4, 5, 6, 7, 8, 'b', 'c']에서 'c'를 삭제 후 출력하세요.\n",
    "b = [0, 1, 2, 3, 4, 5, 6, 7, 8, 'b', 'c']\n",
    "del b[-1]\n",
    "b"
   ]
  },
  {
   "cell_type": "code",
   "execution_count": 12,
   "id": "3f65854e",
   "metadata": {},
   "outputs": [
    {
     "data": {
      "text/plain": [
       "[4, 8, 5, 4, 8, 4, 3, 9, 1, 9]"
      ]
     },
     "execution_count": 12,
     "metadata": {},
     "output_type": "execute_result"
    }
   ],
   "source": [
    "np.random.randint(10,size=10).tolist()"
   ]
  },
  {
   "cell_type": "code",
   "execution_count": 16,
   "id": "d3d033d2",
   "metadata": {},
   "outputs": [
    {
     "name": "stdout",
     "output_type": "stream",
     "text": [
      "[1, 3, 4, 4, 4, 5, 8, 8, 9, 9]\n",
      "[9, 9, 8, 8, 5, 4, 4, 4, 3, 1]\n",
      "[9, 9, 8, 8, 5, 4, 4, 4, 3, 1]\n"
     ]
    }
   ],
   "source": [
    "# [4, 8, 5, 4, 8, 4, 3, 9, 1, 9]를 내림차순으로 정렬하세요\n",
    "c = [4, 8, 5, 4, 8, 4, 3, 9, 1, 9]\n",
    "c.sort()\n",
    "print(c)\n",
    "s = sorted(c, reverse=True)\n",
    "c.reverse()\n",
    "print(c)\n",
    "print(s)b"
   ]
  },
  {
   "cell_type": "code",
   "execution_count": null,
   "id": "a6ae2fec",
   "metadata": {},
   "outputs": [],
   "source": [
    "# Q. 태어난 연도를 입력받아 띠를 출력하는 프로그램을 작성하세요.\n",
    "# 원숭이, 닭, 개, 돼지, 쥐, 소, 범, 토끼, 용, 뱀, 말, 양띠"
   ]
  },
  {
   "cell_type": "code",
   "execution_count": 1,
   "id": "a77170b5",
   "metadata": {},
   "outputs": [
    {
     "name": "stdout",
     "output_type": "stream",
     "text": [
      "태어난 연도를 입력하세요> 1975\n",
      "토끼띠입니다.\n"
     ]
    }
   ],
   "source": [
    "# A.\n",
    "birth_year = input(\"태어난 연도를 입력하세요> \")\n",
    "byear = int(birth_year)\n",
    "if byear % 12 == 0:\n",
    "    print(\"원숭이띠입니다.\")\n",
    "elif byear % 12 == 1:\n",
    "    print(\"닭띠입니다.\")\n",
    "elif byear % 12 == 2:\n",
    "    print(\"개띠입니다.\")\n",
    "elif byear % 12 == 3:\n",
    "    print(\"돼지띠입니다.\")\n",
    "elif byear % 12 == 4:\n",
    "    print(\"쥐띠입니다.\")\n",
    "elif byear % 12 == 5:\n",
    "    print(\"소띠입니다.\")\n",
    "elif byear % 12 == 6:\n",
    "    print(\"범띠입니다.\")\n",
    "elif byear % 12 == 7:\n",
    "    print(\"토끼띠입니다.\")\n",
    "elif byear % 12 == 8:\n",
    "    print(\"용띠입니다.\")\n",
    "elif byear % 12 == 9:\n",
    "    print(\"뱀띠입니다.\")\n",
    "elif byear % 12 == 10:\n",
    "    print(\"말띠입니다.\")\n",
    "else:\n",
    "    print(\"양띠입니다.\")"
   ]
  },
  {
   "cell_type": "markdown",
   "id": "27866d8e",
   "metadata": {},
   "source": [
    "Q. 계절 구분 프로그램\n",
    " - 시나리오 : 3 ~ 5월은 봄, 6 ~ 8월은 여름, 9 ~ 11월은 가을, 12 ~ 2월은 겨울로 구분. 지금 계절을 알려주는 프로그램\n",
    " - 각 계절별 출력 멘트는 계절에 맞게 창작\n",
    " - if 조건문으로 datetime 모듈을 import해서 datetime.now 함수를 사용해서 작성"
   ]
  },
  {
   "cell_type": "code",
   "execution_count": 4,
   "id": "02df7cdf",
   "metadata": {},
   "outputs": [
    {
     "name": "stdout",
     "output_type": "stream",
     "text": [
      "현재의 계절은 여름입니다!!!\n"
     ]
    }
   ],
   "source": [
    "# A.\n",
    "import datetime\n",
    "t = datetime.datetime.now()\n",
    "if 3<= t.month <= 5:\n",
    "    print(\"현재의 계절은 봄입니다!!!\")\n",
    "if 6<= t.month <= 8:\n",
    "    print(\"현재의 계절은 여름입니다!!!\")\n",
    "if 9<= t.month <= 11:\n",
    "    print(\"현재의 계절은 가을입니다!!!\")\n",
    "if 1<= t.month <= 2 or t.month == 12:\n",
    "    print(\"현재의 계절은 겨울입니다!!!\")"
   ]
  }
 ],
 "metadata": {
  "kernelspec": {
   "display_name": "Python 3",
   "language": "python",
   "name": "python3"
  },
  "language_info": {
   "codemirror_mode": {
    "name": "ipython",
    "version": 3
   },
   "file_extension": ".py",
   "mimetype": "text/x-python",
   "name": "python",
   "nbconvert_exporter": "python",
   "pygments_lexer": "ipython3",
   "version": "3.8.10"
  }
 },
 "nbformat": 4,
 "nbformat_minor": 5
}
