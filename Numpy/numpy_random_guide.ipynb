{
 "cells": [
  {
   "cell_type": "code",
   "execution_count": 18,
   "id": "cc8c34e2",
   "metadata": {},
   "outputs": [
    {
     "name": "stdout",
     "output_type": "stream",
     "text": [
      "[4, 2, 3, 1, 5]\n",
      "[3, 5, 4, 1, 2]\n"
     ]
    }
   ],
   "source": [
    "# 파이썬 ramdom 함수\n",
    "import random\n",
    "# print(random.random())             # 0.0<= x <1.0 사이\n",
    "# print(random.randint(1,10))        # 1에서 10사이의 정수중에서 난수값 리턴\n",
    "# print(random.uniform(10,20))       # min max 사이 float 리턴\n",
    "# print(random.randrange(10))        # 지정범위 int 리턴\n",
    "# print(random.choice([1,2,3,4,5]))  # 리스트 내부에 있는 요소를 랜덤하게 선택\n",
    "li = [1,2,3,4,5]\n",
    "# print(random.sample(li,5))         # 리스트 요소를 중복이 안되게 리턴\n",
    "random.shuffle(li)                   # 리스트 요소를 다시 섞어서 리턴\n",
    "print(li)"
   ]
  },
  {
   "cell_type": "code",
   "execution_count": null,
   "id": "691246df",
   "metadata": {},
   "outputs": [],
   "source": [
    "# 넘파이의 np.random\n",
    "# rand : 0.0 ~ 1.0 사이의 균일 분포\n",
    "# randn : 가우시안 표준 정규 분포\n",
    "# randint : 균일 분포의 정수 난수"
   ]
  },
  {
   "cell_type": "code",
   "execution_count": 25,
   "id": "4cea4389",
   "metadata": {},
   "outputs": [
    {
     "data": {
      "text/plain": [
       "array([[0.64589411, 0.43758721],\n",
       "       [0.891773  , 0.96366276],\n",
       "       [0.38344152, 0.79172504]])"
      ]
     },
     "execution_count": 25,
     "metadata": {},
     "output_type": "execute_result"
    }
   ],
   "source": [
    "# 0.0 ~ 1.0 사이의 균일 분포인 실수\n",
    "import numpy as np\n",
    "np.random.seed(0)\n",
    "np.random.rand(5)\n",
    "np.random.rand(3,2)"
   ]
  },
  {
   "cell_type": "code",
   "execution_count": 24,
   "id": "aa1cf21b",
   "metadata": {},
   "outputs": [
    {
     "data": {
      "text/plain": [
       "array([[12, 10, 13, 15, 19],\n",
       "       [14, 14, 16, 14, 14],\n",
       "       [13, 14, 14, 18, 14]])"
      ]
     },
     "execution_count": 24,
     "metadata": {},
     "output_type": "execute_result"
    }
   ],
   "source": [
    "np.random.randint(5) # 0 ~ 4까지 정수 난수 1개\n",
    "np.random.randint(1,20)\n",
    "np.random.randint(10, size=10)\n",
    "np.random.randint(10,20,size=10)\n",
    "np.random.randint(10,20,size=(3,5))"
   ]
  },
  {
   "cell_type": "code",
   "execution_count": 35,
   "id": "255f9207",
   "metadata": {},
   "outputs": [
    {
     "data": {
      "text/plain": [
       "array([0, 1, 1, 1, 1])"
      ]
     },
     "execution_count": 35,
     "metadata": {},
     "output_type": "execute_result"
    }
   ],
   "source": [
    "np.random.choice([1,2,3,4,5])\n",
    "# np.random.choice(5,5,replace=False)\n",
    "np.random.choice(5,5)"
   ]
  },
  {
   "cell_type": "code",
   "execution_count": 39,
   "id": "d2379fdb",
   "metadata": {},
   "outputs": [
    {
     "data": {
      "text/plain": [
       "[0, 1, 2, 3, 4]"
      ]
     },
     "execution_count": 39,
     "metadata": {},
     "output_type": "execute_result"
    }
   ],
   "source": [
    "list = [0,1,2,3,4]\n",
    "np.random.shuffle(list)\n",
    "# np.random.choice(5,5,replace=False)\n",
    "list"
   ]
  },
  {
   "cell_type": "code",
   "execution_count": 41,
   "id": "f5928d89",
   "metadata": {},
   "outputs": [
    {
     "data": {
      "text/plain": [
       "array([[-0.3756659 , -0.03822364],\n",
       "       [ 0.36797447, -0.0447237 ],\n",
       "       [-0.30237513, -2.2244036 ]])"
      ]
     },
     "execution_count": 41,
     "metadata": {},
     "output_type": "execute_result"
    }
   ],
   "source": [
    "np.random.randn(6)\n",
    "np.random.randn(3,2)"
   ]
  },
  {
   "cell_type": "code",
   "execution_count": 45,
   "id": "feef077c",
   "metadata": {},
   "outputs": [
    {
     "data": {
      "text/plain": [
       "array([[0.26473016, 0.39782075, 0.55282148],\n",
       "       [0.16494046, 0.36980809, 0.14644176]])"
      ]
     },
     "execution_count": 45,
     "metadata": {},
     "output_type": "execute_result"
    }
   ],
   "source": [
    "# 범위내 실수 출력\n",
    "np.random.uniform(1,2,3)\n",
    "np.random.uniform(0,1,(2,3))"
   ]
  },
  {
   "cell_type": "code",
   "execution_count": 44,
   "id": "ef7df9ec",
   "metadata": {},
   "outputs": [
    {
     "data": {
      "text/plain": [
       "array([[0.50896896, 0.91672295, 0.92115761],\n",
       "       [0.08311249, 0.27771856, 0.0093567 ]])"
      ]
     },
     "execution_count": 44,
     "metadata": {},
     "output_type": "execute_result"
    }
   ],
   "source": [
    "# random_sample은 uniform 하수의 최소값, 최대값을 각각 0,1로 지정한 것과 같음\n",
    "np.random.random_sample((2,3))"
   ]
  },
  {
   "cell_type": "markdown",
   "id": "53c55336",
   "metadata": {},
   "source": [
    "## 과제\n",
    "### Q. 고객 구매데이터 생성(id, 성별, 연령, 지역, 상품, 가격, 구매시간) 하고 데이터 프레임으로 변환한 후 아래 사항을 수행하세요.\n",
    "#### 구매 데이터 생성\n",
    "- id : 1번 ~ 1000번 일련번호(관측치 1000개)\n",
    "- gender : 0,1 정수 난수 생성\n",
    "- age : 10 ~ 80사이 정수 난수를 생성하고 범주화하여 age_cat 파생\n",
    "- region : 1 ~ 10 사이 정수 난수 생성\n",
    "- product : 1개 제품 이상\n",
    "- price_avg_19 : 1000 ~ 50000 사이 실수 난수 생성하고 범주화하여 price_avg_cat 파생\n",
    "- price_avg_20 : 1000 ~ 50000 사이 실수 난수 생성하고 범주화하여 price_avg_cat 파생\n",
    "- qty_19 : 1 ~ 100 사이 정수 난수 생성하여('19년 구매 수량) \n",
    "- qty_20 : 1 ~ 100 사이 정수 난수 생성하여('20년 구매 수량)\n",
    "- time_19 : 01 ~ 24 사이 정수 난수 생성하고 오전, 오후, 야간 으로 범주화하여 time_cat_19 파생('19년에 가장 자주 구매한 시간대)\n",
    "- time_20 : 01 ~ 24 사이 정수 난수 생성하고 오전, 오후, 야간 으로 범주화하여 time_cat 파생('20년에 가장 자주 구매한 시간대)\n",
    "- 구매액은 price * qty로 산출('19년, '20년 각각 계산)하여 pur_19, pur_20 컬럼으로 생성 \n",
    "- 종속변수(결과변수)는 (pur_20 - pur_19)으로 계산하여 구매액 증감을 0(감소), 1(증가)로 범주화하여 pur_gap 컬럼 생성\n",
    "- np.nan으로 각 컬럼별로 10개씩 null값을 삽입하고 각 칼럼의 특성을 고려한 null 값 처리\n",
    "\n",
    "#### 인사이트 도출\n",
    "- 통계적 분석 및 시각화하여 탐색한 후 불필요한 컬럼은 삭제하고 필요시 추가 파생변수 생성한 후 분석용 데이터셋을 작성하고 인사이트 3개 이상 도출\n",
    "- 인사이트 도출하지 못한 경우 데이터를 수정하여 다시 탐색한 후 인사이트 도출 및 기술\n",
    "\n",
    "#### 데이터 수정시 참조\n",
    "- 구매액 증감에 영향을 주는 주요 요인과 관련된 인사이트를 만들 수 있는 데이터로 변경하는 점에 중점을 둠\n",
    "- 구매 감소한 고객의 특성으로 성별, 지역, 선호제픔, 선호 구매시간대, 평균 구매가 level(저가, 중가, 고가)별로 데이터 수정\n",
    "- 연령, 성별로 상품유형, 구매단가, 구매시간대 등을 복합적으로 그룹화하여 데이터 특성 부여\n",
    "- 연도별로 상기한 사항들의 변동과 구매 감소간의 상관성을 부여하는 데이터 수정\n",
    "- 데이터 수정은 불린 인덱싱으로 특정 그룹을 선택한 후 고객 특성에 맞는 값으로 변경"
   ]
  }
 ],
 "metadata": {
  "kernelspec": {
   "display_name": "Python 3",
   "language": "python",
   "name": "python3"
  },
  "language_info": {
   "codemirror_mode": {
    "name": "ipython",
    "version": 3
   },
   "file_extension": ".py",
   "mimetype": "text/x-python",
   "name": "python",
   "nbconvert_exporter": "python",
   "pygments_lexer": "ipython3",
   "version": "3.8.10"
  }
 },
 "nbformat": 4,
 "nbformat_minor": 5
}
