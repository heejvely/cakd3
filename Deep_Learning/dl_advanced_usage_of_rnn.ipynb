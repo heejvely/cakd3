{
  "nbformat": 4,
  "nbformat_minor": 0,
  "metadata": {
    "colab": {
      "name": "dl_advanced-usage-of-rnn.ipynb",
      "provenance": [],
      "mount_file_id": "1PRyKm95-YEF74huf01KFVxxfi8CIoV1M",
      "authorship_tag": "ABX9TyM2TTkTNyueW0VyKBDdshbX",
      "include_colab_link": true
    },
    "kernelspec": {
      "name": "python3",
      "display_name": "Python 3"
    },
    "language_info": {
      "name": "python"
    }
  },
  "cells": [
    {
      "cell_type": "markdown",
      "metadata": {
        "id": "view-in-github",
        "colab_type": "text"
      },
      "source": [
        "<a href=\"https://colab.research.google.com/github/bnv20/cakd3/blob/main/dl_advanced_usage_of_rnn.ipynb\" target=\"_parent\"><img src=\"https://colab.research.google.com/assets/colab-badge.svg\" alt=\"Open In Colab\"/></a>"
      ]
    },
    {
      "cell_type": "markdown",
      "metadata": {
        "id": "KreSYQXeYrXK"
      },
      "source": [
        "\n",
        "* 순환 드롭아웃 : 순환 층에서 과대적합을 방지하기 위해 케라스에 내장되어 있는 드롭아웃을 사용합니다.\n",
        "* 순환 층 스태킹 : 네트워크의 표현 능력을 증가시킵니다(대신 계산 비용이 많이 듭니다).\n",
        "* 양방향 순환 층 : 순환 네트워크에 같은 정보를 다른 방향으로 주입하여 정확도를 높이고 기억을 좀 더 오래 유지시킵니다."
      ]
    },
    {
      "cell_type": "markdown",
      "metadata": {
        "id": "CTVlhSLcZJxA"
      },
      "source": [
        "\n",
        "막스 플랑크 생물지구화학 연구소( http://www.bgc-jena.mpg.de/wetter/ )의 지상 관측소에서 수집한 것"
      ]
    },
    {
      "cell_type": "code",
      "metadata": {
        "id": "j3tUAWs_YYj9"
      },
      "source": [
        "!mkdir jena_climate"
      ],
      "execution_count": null,
      "outputs": []
    },
    {
      "cell_type": "code",
      "metadata": {
        "colab": {
          "base_uri": "https://localhost:8080/"
        },
        "id": "y2s2WKWCZis0",
        "outputId": "1835c028-ce12-40ec-fba0-eac06c66b5af"
      },
      "source": [
        "!ls"
      ],
      "execution_count": null,
      "outputs": [
        {
          "output_type": "stream",
          "name": "stdout",
          "text": [
            "drive  jena_climate  sample_data\n"
          ]
        }
      ]
    },
    {
      "cell_type": "code",
      "metadata": {
        "colab": {
          "base_uri": "https://localhost:8080/"
        },
        "id": "V96l67GiZrAN",
        "outputId": "1ce6b72c-0dbf-417e-b3ad-a33fce622b0c"
      },
      "source": [
        "%cd jena_climate/"
      ],
      "execution_count": null,
      "outputs": [
        {
          "output_type": "stream",
          "name": "stdout",
          "text": [
            "/content/jena_climate\n"
          ]
        }
      ]
    },
    {
      "cell_type": "code",
      "metadata": {
        "colab": {
          "base_uri": "https://localhost:8080/"
        },
        "id": "Xhf5jtkKZwFs",
        "outputId": "ed845cc1-28c8-41fc-a783-ff96865e5b89"
      },
      "source": [
        "!wget https://s3.amazonaws.com/keras-datasets/jena_climate_2009_2016.csv.zip"
      ],
      "execution_count": null,
      "outputs": [
        {
          "output_type": "stream",
          "name": "stdout",
          "text": [
            "--2021-10-27 01:40:05--  https://s3.amazonaws.com/keras-datasets/jena_climate_2009_2016.csv.zip\n",
            "Resolving s3.amazonaws.com (s3.amazonaws.com)... 54.231.49.43\n",
            "Connecting to s3.amazonaws.com (s3.amazonaws.com)|54.231.49.43|:443... connected.\n",
            "HTTP request sent, awaiting response... 200 OK\n",
            "Length: 13565642 (13M) [application/zip]\n",
            "Saving to: ‘jena_climate_2009_2016.csv.zip’\n",
            "\n",
            "jena_climate_2009_2 100%[===================>]  12.94M  12.6MB/s    in 1.0s    \n",
            "\n",
            "2021-10-27 01:40:06 (12.6 MB/s) - ‘jena_climate_2009_2016.csv.zip’ saved [13565642/13565642]\n",
            "\n"
          ]
        }
      ]
    },
    {
      "cell_type": "code",
      "metadata": {
        "colab": {
          "base_uri": "https://localhost:8080/"
        },
        "id": "FcYw4ie0Z6dK",
        "outputId": "06b2f735-7aff-483a-c01e-09b0b4af0fb3"
      },
      "source": [
        "!unzip jena_climate_2009_2016.csv.zip"
      ],
      "execution_count": null,
      "outputs": [
        {
          "output_type": "stream",
          "name": "stdout",
          "text": [
            "Archive:  jena_climate_2009_2016.csv.zip\n",
            "  inflating: jena_climate_2009_2016.csv  \n",
            "  inflating: __MACOSX/._jena_climate_2009_2016.csv  \n"
          ]
        }
      ]
    },
    {
      "cell_type": "code",
      "metadata": {
        "colab": {
          "base_uri": "https://localhost:8080/"
        },
        "id": "t1YHMp0IZ-xG",
        "outputId": "a4552172-126b-4a90-abe2-ddfbeca7c063"
      },
      "source": [
        "!ls"
      ],
      "execution_count": null,
      "outputs": [
        {
          "output_type": "stream",
          "name": "stdout",
          "text": [
            "jena_climate_2009_2016.csv  jena_climate_2009_2016.csv.zip  __MACOSX\n"
          ]
        }
      ]
    },
    {
      "cell_type": "code",
      "metadata": {
        "id": "oxMQIhC-aB32"
      },
      "source": [
        "!mkdir /content/drive/MyDrive/cakd3_colab/dl_keras/datasets/jena_climate/"
      ],
      "execution_count": null,
      "outputs": []
    },
    {
      "cell_type": "code",
      "metadata": {
        "colab": {
          "base_uri": "https://localhost:8080/"
        },
        "id": "OnN5pXnras2i",
        "outputId": "2a270aa0-f1b5-4f78-a7a0-e4d5aa82a22b"
      },
      "source": [
        "!pwd"
      ],
      "execution_count": null,
      "outputs": [
        {
          "output_type": "stream",
          "name": "stdout",
          "text": [
            "/content/jena_climate\n"
          ]
        }
      ]
    },
    {
      "cell_type": "code",
      "metadata": {
        "id": "B7LtfAnvadgZ"
      },
      "source": [
        "!cp ./jena_climate_2009_2016.csv /content/drive/MyDrive/cakd3_colab/dl_keras/datasets/jena_climate/"
      ],
      "execution_count": null,
      "outputs": []
    },
    {
      "cell_type": "code",
      "metadata": {
        "colab": {
          "base_uri": "https://localhost:8080/"
        },
        "id": "whMHtUgXa1bW",
        "outputId": "2cdd528b-46b1-4f7e-bcb8-c6e4e9d58baa"
      },
      "source": [
        "import os\n",
        "\n",
        "data_dir = '/content/drive/MyDrive/cakd3_colab/dl_keras/datasets/jena_climate/'\n",
        "fname = os.path.join(data_dir, 'jena_climate_2009_2016.csv')\n",
        "\n",
        "f = open(fname)\n",
        "data = f.read()\n",
        "f.close()\n",
        "\n",
        "lines = data.split('\\n')\n",
        "header = lines[0].split(',')\n",
        "lines = lines[1:] # exclude header \n",
        "\n",
        "print(header)\n",
        "print(len(lines))"
      ],
      "execution_count": 1,
      "outputs": [
        {
          "output_type": "stream",
          "name": "stdout",
          "text": [
            "['\"Date Time\"', '\"p (mbar)\"', '\"T (degC)\"', '\"Tpot (K)\"', '\"Tdew (degC)\"', '\"rh (%)\"', '\"VPmax (mbar)\"', '\"VPact (mbar)\"', '\"VPdef (mbar)\"', '\"sh (g/kg)\"', '\"H2OC (mmol/mol)\"', '\"rho (g/m**3)\"', '\"wv (m/s)\"', '\"max. wv (m/s)\"', '\"wd (deg)\"']\n",
            "420451\n"
          ]
        }
      ]
    },
    {
      "cell_type": "code",
      "metadata": {
        "colab": {
          "base_uri": "https://localhost:8080/",
          "height": 310
        },
        "id": "cPb2AbpHQYnS",
        "outputId": "c7991660-77c0-4678-aa91-868057d881ea"
      },
      "source": [
        "import pandas as pd\n",
        "\n",
        "df = pd.read_csv('/content/drive/MyDrive/cakd3_colab/dl_keras/datasets/jena_climate/jena_climate_2009_2016.csv')\n",
        "df.head()\n",
        "# df.tail()"
      ],
      "execution_count": 6,
      "outputs": [
        {
          "output_type": "execute_result",
          "data": {
            "text/html": [
              "<div>\n",
              "<style scoped>\n",
              "    .dataframe tbody tr th:only-of-type {\n",
              "        vertical-align: middle;\n",
              "    }\n",
              "\n",
              "    .dataframe tbody tr th {\n",
              "        vertical-align: top;\n",
              "    }\n",
              "\n",
              "    .dataframe thead th {\n",
              "        text-align: right;\n",
              "    }\n",
              "</style>\n",
              "<table border=\"1\" class=\"dataframe\">\n",
              "  <thead>\n",
              "    <tr style=\"text-align: right;\">\n",
              "      <th></th>\n",
              "      <th>Date Time</th>\n",
              "      <th>p (mbar)</th>\n",
              "      <th>T (degC)</th>\n",
              "      <th>Tpot (K)</th>\n",
              "      <th>Tdew (degC)</th>\n",
              "      <th>rh (%)</th>\n",
              "      <th>VPmax (mbar)</th>\n",
              "      <th>VPact (mbar)</th>\n",
              "      <th>VPdef (mbar)</th>\n",
              "      <th>sh (g/kg)</th>\n",
              "      <th>H2OC (mmol/mol)</th>\n",
              "      <th>rho (g/m**3)</th>\n",
              "      <th>wv (m/s)</th>\n",
              "      <th>max. wv (m/s)</th>\n",
              "      <th>wd (deg)</th>\n",
              "    </tr>\n",
              "  </thead>\n",
              "  <tbody>\n",
              "    <tr>\n",
              "      <th>0</th>\n",
              "      <td>01.01.2009 00:10:00</td>\n",
              "      <td>996.52</td>\n",
              "      <td>-8.02</td>\n",
              "      <td>265.40</td>\n",
              "      <td>-8.90</td>\n",
              "      <td>93.3</td>\n",
              "      <td>3.33</td>\n",
              "      <td>3.11</td>\n",
              "      <td>0.22</td>\n",
              "      <td>1.94</td>\n",
              "      <td>3.12</td>\n",
              "      <td>1307.75</td>\n",
              "      <td>1.03</td>\n",
              "      <td>1.75</td>\n",
              "      <td>152.3</td>\n",
              "    </tr>\n",
              "    <tr>\n",
              "      <th>1</th>\n",
              "      <td>01.01.2009 00:20:00</td>\n",
              "      <td>996.57</td>\n",
              "      <td>-8.41</td>\n",
              "      <td>265.01</td>\n",
              "      <td>-9.28</td>\n",
              "      <td>93.4</td>\n",
              "      <td>3.23</td>\n",
              "      <td>3.02</td>\n",
              "      <td>0.21</td>\n",
              "      <td>1.89</td>\n",
              "      <td>3.03</td>\n",
              "      <td>1309.80</td>\n",
              "      <td>0.72</td>\n",
              "      <td>1.50</td>\n",
              "      <td>136.1</td>\n",
              "    </tr>\n",
              "    <tr>\n",
              "      <th>2</th>\n",
              "      <td>01.01.2009 00:30:00</td>\n",
              "      <td>996.53</td>\n",
              "      <td>-8.51</td>\n",
              "      <td>264.91</td>\n",
              "      <td>-9.31</td>\n",
              "      <td>93.9</td>\n",
              "      <td>3.21</td>\n",
              "      <td>3.01</td>\n",
              "      <td>0.20</td>\n",
              "      <td>1.88</td>\n",
              "      <td>3.02</td>\n",
              "      <td>1310.24</td>\n",
              "      <td>0.19</td>\n",
              "      <td>0.63</td>\n",
              "      <td>171.6</td>\n",
              "    </tr>\n",
              "    <tr>\n",
              "      <th>3</th>\n",
              "      <td>01.01.2009 00:40:00</td>\n",
              "      <td>996.51</td>\n",
              "      <td>-8.31</td>\n",
              "      <td>265.12</td>\n",
              "      <td>-9.07</td>\n",
              "      <td>94.2</td>\n",
              "      <td>3.26</td>\n",
              "      <td>3.07</td>\n",
              "      <td>0.19</td>\n",
              "      <td>1.92</td>\n",
              "      <td>3.08</td>\n",
              "      <td>1309.19</td>\n",
              "      <td>0.34</td>\n",
              "      <td>0.50</td>\n",
              "      <td>198.0</td>\n",
              "    </tr>\n",
              "    <tr>\n",
              "      <th>4</th>\n",
              "      <td>01.01.2009 00:50:00</td>\n",
              "      <td>996.51</td>\n",
              "      <td>-8.27</td>\n",
              "      <td>265.15</td>\n",
              "      <td>-9.04</td>\n",
              "      <td>94.1</td>\n",
              "      <td>3.27</td>\n",
              "      <td>3.08</td>\n",
              "      <td>0.19</td>\n",
              "      <td>1.92</td>\n",
              "      <td>3.09</td>\n",
              "      <td>1309.00</td>\n",
              "      <td>0.32</td>\n",
              "      <td>0.63</td>\n",
              "      <td>214.3</td>\n",
              "    </tr>\n",
              "  </tbody>\n",
              "</table>\n",
              "</div>"
            ],
            "text/plain": [
              "             Date Time  p (mbar)  T (degC)  ...  wv (m/s)  max. wv (m/s)  wd (deg)\n",
              "0  01.01.2009 00:10:00    996.52     -8.02  ...      1.03           1.75     152.3\n",
              "1  01.01.2009 00:20:00    996.57     -8.41  ...      0.72           1.50     136.1\n",
              "2  01.01.2009 00:30:00    996.53     -8.51  ...      0.19           0.63     171.6\n",
              "3  01.01.2009 00:40:00    996.51     -8.31  ...      0.34           0.50     198.0\n",
              "4  01.01.2009 00:50:00    996.51     -8.27  ...      0.32           0.63     214.3\n",
              "\n",
              "[5 rows x 15 columns]"
            ]
          },
          "metadata": {},
          "execution_count": 6
        }
      ]
    },
    {
      "cell_type": "code",
      "metadata": {
        "colab": {
          "base_uri": "https://localhost:8080/"
        },
        "id": "EWWd2f-ESCGq",
        "outputId": "4d88e9df-5037-4892-8f36-ea21a5821891"
      },
      "source": [
        "len(header)"
      ],
      "execution_count": 4,
      "outputs": [
        {
          "output_type": "execute_result",
          "data": {
            "text/plain": [
              "15"
            ]
          },
          "metadata": {},
          "execution_count": 4
        }
      ]
    },
    {
      "cell_type": "code",
      "metadata": {
        "colab": {
          "base_uri": "https://localhost:8080/"
        },
        "id": "YNmNAk8XSIHj",
        "outputId": "f67c143c-9478-4b0b-eaf1-2df36ced5dfc"
      },
      "source": [
        "lines[:5]"
      ],
      "execution_count": 5,
      "outputs": [
        {
          "output_type": "execute_result",
          "data": {
            "text/plain": [
              "['01.01.2009 00:10:00,996.52,-8.02,265.40,-8.90,93.30,3.33,3.11,0.22,1.94,3.12,1307.75,1.03,1.75,152.30',\n",
              " '01.01.2009 00:20:00,996.57,-8.41,265.01,-9.28,93.40,3.23,3.02,0.21,1.89,3.03,1309.80,0.72,1.50,136.10',\n",
              " '01.01.2009 00:30:00,996.53,-8.51,264.91,-9.31,93.90,3.21,3.01,0.20,1.88,3.02,1310.24,0.19,0.63,171.60',\n",
              " '01.01.2009 00:40:00,996.51,-8.31,265.12,-9.07,94.20,3.26,3.07,0.19,1.92,3.08,1309.19,0.34,0.50,198.00',\n",
              " '01.01.2009 00:50:00,996.51,-8.27,265.15,-9.04,94.10,3.27,3.08,0.19,1.92,3.09,1309.00,0.32,0.63,214.30']"
            ]
          },
          "metadata": {},
          "execution_count": 5
        }
      ]
    },
    {
      "cell_type": "code",
      "metadata": {
        "colab": {
          "base_uri": "https://localhost:8080/"
        },
        "id": "XMbCppFXShaD",
        "outputId": "dd6b7ffc-6a44-424b-9b29-4a9e825ee0a2"
      },
      "source": [
        "import numpy as np\n",
        "\n",
        "float_data = np.zeros((len(lines), len(header) - 1))\n",
        "for i, line in enumerate(lines):\n",
        "  values = [float(x) for x in line.split(',')[1:]]\n",
        "  float_data[i,:] = values\n",
        "\n",
        "print(float_data.shape)\n",
        "float_data[0,:]"
      ],
      "execution_count": 7,
      "outputs": [
        {
          "output_type": "stream",
          "name": "stdout",
          "text": [
            "(420451, 14)\n"
          ]
        },
        {
          "output_type": "execute_result",
          "data": {
            "text/plain": [
              "array([ 9.96520e+02, -8.02000e+00,  2.65400e+02, -8.90000e+00,\n",
              "        9.33000e+01,  3.33000e+00,  3.11000e+00,  2.20000e-01,\n",
              "        1.94000e+00,  3.12000e+00,  1.30775e+03,  1.03000e+00,\n",
              "        1.75000e+00,  1.52300e+02])"
            ]
          },
          "metadata": {},
          "execution_count": 7
        }
      ]
    },
    {
      "cell_type": "code",
      "metadata": {
        "colab": {
          "base_uri": "https://localhost:8080/",
          "height": 268
        },
        "id": "eMamXyavTYE1",
        "outputId": "7154c21f-282f-4449-b631-36da292efa04"
      },
      "source": [
        "import matplotlib.pyplot as plt\n",
        "\n",
        "temp = float_data[:,1] # 온도(섭씨)\n",
        "plt.plot(range(len(temp)), temp)\n",
        "plt.show()"
      ],
      "execution_count": 8,
      "outputs": [
        {
          "output_type": "display_data",
          "data": {
            "image/png": "[encoded data removed]",
            "text/plain": [
              "<Figure size 432x288 with 1 Axes>"
            ]
          },
          "metadata": {
            "needs_background": "light"
          }
        }
      ]
    },
    {
      "cell_type": "code",
      "metadata": {
        "colab": {
          "base_uri": "https://localhost:8080/"
        },
        "id": "Jm5RX5ThT4gO",
        "outputId": "a3084d8c-3f78-416e-da00-a047d5b6481a"
      },
      "source": [
        "# 처음 10일간의 온도 데이터\n",
        "print(24*60/10)"
      ],
      "execution_count": 9,
      "outputs": [
        {
          "output_type": "stream",
          "name": "stdout",
          "text": [
            "144.0\n"
          ]
        }
      ]
    },
    {
      "cell_type": "code",
      "metadata": {
        "colab": {
          "base_uri": "https://localhost:8080/",
          "height": 265
        },
        "id": "LJFqo61JUPg5",
        "outputId": "027be20c-b2f2-4125-a819-e9e4c93c4e30"
      },
      "source": [
        "plt.plot(range(1440), temp[:1440])\n",
        "plt.show()"
      ],
      "execution_count": 10,
      "outputs": [
        {
          "output_type": "display_data",
          "data": {
            "image/png": "[encoded data removed]",
            "text/plain": [
              "<Figure size 432x288 with 1 Axes>"
            ]
          },
          "metadata": {
            "needs_background": "light"
          }
        }
      ]
    },
    {
      "cell_type": "code",
      "metadata": {
        "id": "uHHEHlllWwbS"
      },
      "source": [
        "mean = float_data[:200000].mean(axis=0)\n",
        "float_data -= mean\n",
        "std = float_data[:200000].std(axis=0)\n",
        "float_data /= std "
      ],
      "execution_count": 11,
      "outputs": []
    },
    {
      "cell_type": "code",
      "metadata": {
        "colab": {
          "base_uri": "https://localhost:8080/"
        },
        "id": "YQWkh8TjXO9J",
        "outputId": "3c7ef88e-f732-44fe-f35c-b3c7f7cfb6c7"
      },
      "source": [
        "float_data.shape"
      ],
      "execution_count": 12,
      "outputs": [
        {
          "output_type": "execute_result",
          "data": {
            "text/plain": [
              "(420451, 14)"
            ]
          },
          "metadata": {},
          "execution_count": 12
        }
      ]
    },
    {
      "cell_type": "markdown",
      "metadata": {
        "id": "IJ_qjWU1XVty"
      },
      "source": [
        "* `lookback` : 입력으로 사용하기 위해 거슬러 올라갈 타임스텝\n",
        "* `delay` : 타깃으로 사용할 미래의 타임스텝\n",
        "* `min_index`와 `max_index` : 추출할 타임스텝의 범위를 지정하기 위한 `data` 배열의 인덱스. 검증 데이터와 테스트 데이터를 분리하는 데 사용합니다.\n",
        "* `shuffle` : 샘플을 섞을지 시간 순서대로 추출할지 결정합니다.\n",
        "* `batch_size` : 배치의 샘플 수\n",
        "* `step` : 데이터를 샘플링할 타임스텝 간격. 한 시간에 하나의 데이터 포인트를 추출하기 위해 6으로 지정하겠습니다."
      ]
    },
    {
      "cell_type": "code",
      "metadata": {
        "id": "dHzJfZVaXbmi"
      },
      "source": [
        "# 시계열 데이터와 타깃을 반환하는 제너레이터 함수\n",
        "def generator(data, lookback, delay, min_index, max_index,\n",
        "              shuffle=False, batch_size=128, step=6):\n",
        "    if max_index is None:\n",
        "        max_index = len(data) - delay - 1\n",
        "    i = min_index + lookback\n",
        "    while 1:\n",
        "        if shuffle:\n",
        "            rows = np.random.randint(\n",
        "                min_index + lookback, max_index, size=batch_size)\n",
        "        else:\n",
        "            if i + batch_size >= max_index:\n",
        "                i = min_index + lookback\n",
        "            rows = np.arange(i, min(i + batch_size, max_index))\n",
        "            i += len(rows)\n",
        "\n",
        "        samples = np.zeros((len(rows),\n",
        "                           lookback // step,\n",
        "                           data.shape[-1]))\n",
        "        targets = np.zeros((len(rows),))\n",
        "        for j, row in enumerate(rows):\n",
        "            indices = range(rows[j] - lookback, rows[j], step)\n",
        "            samples[j] = data[indices]\n",
        "            targets[j] = data[rows[j] + delay][1]\n",
        "        yield samples, targets"
      ],
      "execution_count": 13,
      "outputs": []
    },
    {
      "cell_type": "code",
      "metadata": {
        "colab": {
          "base_uri": "https://localhost:8080/"
        },
        "id": "jKYyBIETXpu5",
        "outputId": "23b56caa-8cef-4853-9d5e-a921ce0c765d"
      },
      "source": [
        "lookback = 1440\n",
        "step = 6\n",
        "delay = 144\n",
        "batch_size = 128\n",
        "\n",
        "train_gen = generator(float_data,\n",
        "                      lookback = lookback,\n",
        "                      delay = delay,\n",
        "                      min_index = 0,\n",
        "                      max_index = 200000,\n",
        "                      shuffle = True,\n",
        "                      step = step,\n",
        "                      batch_size = batch_size)\n",
        "\n",
        "val_gen = generator(float_data,\n",
        "                      lookback = lookback,\n",
        "                      delay = delay,\n",
        "                      min_index = 200001,\n",
        "                      max_index = 300000,                      \n",
        "                      step = step,\n",
        "                      batch_size = batch_size)\n",
        "test_gen = generator(float_data,\n",
        "                      lookback = lookback,\n",
        "                      delay = delay,\n",
        "                      min_index = 300001,\n",
        "                      max_index = None,                      \n",
        "                      step = step,\n",
        "                      batch_size = batch_size)\n",
        "\n",
        "val_steps = (300000 - 200001 - lookback) // batch_size # val_gen에서 추출할 횟수\n",
        "\n",
        "test_steps = (len(float_data) - 300001 - lookback) // batch_size\n",
        "\n",
        "print(val_steps)\n",
        "print(test_steps)"
      ],
      "execution_count": 14,
      "outputs": [
        {
          "output_type": "stream",
          "name": "stdout",
          "text": [
            "769\n",
            "929\n"
          ]
        }
      ]
    },
    {
      "cell_type": "code",
      "metadata": {
        "colab": {
          "base_uri": "https://localhost:8080/"
        },
        "id": "0N30mOODZPNy",
        "outputId": "80f3787b-76bf-487b-e456-c2573ebd9aaf"
      },
      "source": [
        "# 상식적인 기준점 \n",
        "def evaluate_naive_method():\n",
        "    batch_maes = []\n",
        "    for step in range(val_steps):\n",
        "        samples, targets = next(val_gen)\n",
        "        preds = samples[:, -1, 1]\n",
        "        mae = np.mean(np.abs(preds - targets))\n",
        "        batch_maes.append(mae)\n",
        "    print(np.mean(batch_maes))\n",
        "    \n",
        "evaluate_naive_method()"
      ],
      "execution_count": 15,
      "outputs": [
        {
          "output_type": "stream",
          "name": "stdout",
          "text": [
            "0.2897359729905486\n"
          ]
        }
      ]
    },
    {
      "cell_type": "code",
      "metadata": {
        "colab": {
          "base_uri": "https://localhost:8080/"
        },
        "id": "fOFZsn_Cc7v3",
        "outputId": "d1bcca3a-0c4d-4434-b221-1bf3d20b0e67"
      },
      "source": [
        "# 섭씨 2.57°C\n",
        "0.29*std[1]"
      ],
      "execution_count": 16,
      "outputs": [
        {
          "output_type": "execute_result",
          "data": {
            "text/plain": [
              "2.5672247338393395"
            ]
          },
          "metadata": {},
          "execution_count": 16
        }
      ]
    },
    {
      "cell_type": "code",
      "metadata": {
        "colab": {
          "base_uri": "https://localhost:8080/"
        },
        "id": "P3cOxjs6dU7X",
        "outputId": "6893418e-7150-4b99-84ea-3651f87527c5"
      },
      "source": [
        "from tensorflow.keras.models import Sequential\n",
        "from tensorflow.keras import layers\n",
        "from tensorflow.keras.optimizers import RMSprop\n",
        "\n",
        "model = Sequential()\n",
        "model.add(layers.Flatten(input_shape=(lookback // step, float_data.shape[-1])))\n",
        "model.add(layers.Dense(32, activation='relu'))\n",
        "model.add(layers.Dense(1))\n",
        "\n",
        "model.compile(optimizer=RMSprop(), loss='mae')\n",
        "history = model.fit(train_gen,\n",
        "                    steps_per_epoch=500, # 훈련 샘플 수 / 배치 사이즈\n",
        "                    epochs = 20,\n",
        "                    validation_data=val_gen,\n",
        "                    validation_steps=val_steps)"
      ],
      "execution_count": 18,
      "outputs": [
        {
          "output_type": "stream",
          "name": "stdout",
          "text": [
            "Epoch 1/20\n",
            "500/500 [==============================] - 19s 37ms/step - loss: 1.5920 - val_loss: 0.8959\n",
            "Epoch 2/20\n",
            "500/500 [==============================] - 20s 40ms/step - loss: 0.5764 - val_loss: 0.3439\n",
            "Epoch 3/20\n",
            "500/500 [==============================] - 17s 33ms/step - loss: 0.3161 - val_loss: 0.3443\n",
            "Epoch 4/20\n",
            "500/500 [==============================] - 19s 38ms/step - loss: 0.2758 - val_loss: 0.2977\n",
            "Epoch 5/20\n",
            "500/500 [==============================] - 19s 38ms/step - loss: 0.2591 - val_loss: 0.3365\n",
            "Epoch 6/20\n",
            "500/500 [==============================] - 19s 38ms/step - loss: 0.2518 - val_loss: 0.3140\n",
            "Epoch 7/20\n",
            "500/500 [==============================] - 17s 33ms/step - loss: 0.2419 - val_loss: 0.3186\n",
            "Epoch 8/20\n",
            "500/500 [==============================] - 17s 34ms/step - loss: 0.2342 - val_loss: 0.3366\n",
            "Epoch 9/20\n",
            "500/500 [==============================] - 20s 40ms/step - loss: 0.2300 - val_loss: 0.3133\n",
            "Epoch 10/20\n",
            "500/500 [==============================] - 20s 40ms/step - loss: 0.2254 - val_loss: 0.3366\n",
            "Epoch 11/20\n",
            "500/500 [==============================] - 18s 37ms/step - loss: 0.2225 - val_loss: 0.3270\n",
            "Epoch 12/20\n",
            "500/500 [==============================] - 20s 40ms/step - loss: 0.2172 - val_loss: 0.3309\n",
            "Epoch 13/20\n",
            "500/500 [==============================] - 20s 40ms/step - loss: 0.2150 - val_loss: 0.3213\n",
            "Epoch 14/20\n",
            "500/500 [==============================] - 20s 40ms/step - loss: 0.2115 - val_loss: 0.3698\n",
            "Epoch 15/20\n",
            "500/500 [==============================] - 20s 40ms/step - loss: 0.2094 - val_loss: 0.3220\n",
            "Epoch 16/20\n",
            "500/500 [==============================] - 19s 39ms/step - loss: 0.2080 - val_loss: 0.3242\n",
            "Epoch 17/20\n",
            "500/500 [==============================] - 19s 38ms/step - loss: 0.2050 - val_loss: 0.3539\n",
            "Epoch 18/20\n",
            "500/500 [==============================] - 16s 33ms/step - loss: 0.2020 - val_loss: 0.3403\n",
            "Epoch 19/20\n",
            "500/500 [==============================] - 19s 38ms/step - loss: 0.1993 - val_loss: 0.3289\n",
            "Epoch 20/20\n",
            "500/500 [==============================] - 17s 33ms/step - loss: 0.1999 - val_loss: 0.3301\n"
          ]
        }
      ]
    },
    {
      "cell_type": "code",
      "metadata": {
        "colab": {
          "base_uri": "https://localhost:8080/",
          "height": 281
        },
        "id": "WZhPmLXIeoM5",
        "outputId": "cdaa83f9-4fe5-4e4b-8235-de9d76c5d8bf"
      },
      "source": [
        "import matplotlib.pyplot as plt\n",
        "\n",
        "loss = history.history['loss']\n",
        "val_loss = history.history['val_loss']\n",
        "\n",
        "epochs = range(1, len(loss) + 1)\n",
        "\n",
        "plt.figure()\n",
        "\n",
        "plt.plot(epochs, loss, 'bo', label = 'Training loss')\n",
        "plt.plot(epochs, val_loss, 'b', label= 'Validation loss')\n",
        "plt.title('Training and validation loss')\n",
        "plt.legend()\n",
        "plt.show()"
      ],
      "execution_count": 19,
      "outputs": [
        {
          "output_type": "display_data",
          "data": {
            "image/png": "[encoded data removed]",
            "text/plain": [
              "<Figure size 432x288 with 1 Axes>"
            ]
          },
          "metadata": {
            "needs_background": "light"
          }
        }
      ]
    },
    {
      "cell_type": "markdown",
      "metadata": {
        "id": "W7yKFlsCfm4T"
      },
      "source": [
        "일부 검증 손실은 학습을 사용하지 않은 기준점에 가깝지만 안정적이지 못함.\n"
      ]
    },
    {
      "cell_type": "markdown",
      "metadata": {
        "id": "J9ezYO3-gEPY"
      },
      "source": [
        "[과제]\n",
        "- GRU 층을 사용\n",
        "- 과대적합을 감소시키기 위해 순환 드롭아웃 사용\n",
        "- 스태킹 순환 층(GRU Layer 추가)"
      ]
    },
    {
      "cell_type": "code",
      "metadata": {
        "id": "TT-wPxuidEm0"
      },
      "source": [
        ""
      ],
      "execution_count": null,
      "outputs": []
    }
  ]
}
