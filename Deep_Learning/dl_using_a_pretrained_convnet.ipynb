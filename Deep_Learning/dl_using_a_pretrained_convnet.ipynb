{
  "nbformat": 4,
  "nbformat_minor": 0,
  "metadata": {
    "colab": {
      "name": "dl_using-a-pretrained-convnet.ipynb",
      "provenance": [],
      "collapsed_sections": [],
      "machine_shape": "hm",
      "mount_file_id": "1Mg3S-Vh_Q1JZOQRqkimHz7AS3-_D0Afb",
      "authorship_tag": "ABX9TyOIUHXAhvNrPvpYKgMHKsX4",
      "include_colab_link": true
    },
    "kernelspec": {
      "name": "python3",
      "display_name": "Python 3"
    },
    "language_info": {
      "name": "python"
    },
    "accelerator": "GPU"
  },
  "cells": [
    {
      "cell_type": "markdown",
      "metadata": {
        "id": "view-in-github",
        "colab_type": "text"
      },
      "source": [
        "<a href=\"https://colab.research.google.com/github/bnv20/cakd3/blob/main/dl_using_a_pretrained_convnet.ipynb\" target=\"_parent\"><img src=\"https://colab.research.google.com/assets/colab-badge.svg\" alt=\"Open In Colab\"/></a>"
      ]
    },
    {
      "cell_type": "markdown",
      "metadata": {
        "id": "Tk_v7Hf_-eSr"
      },
      "source": [
        "ImageNet 데이터셋에 훈련된 VGG16 네트워크의 합성곱 기반층을 사용하여 강아지와 고양이 이미지에서 유용한 특성을 추출해 보겠습니다. 그런 다음 이 특성으로 강아지 vs. 고양이 분류기를 훈련합니다.\n",
        "\n",
        "VGG16 모델은 케라스에 패키지로 포함되어 있습니다. `keras.applications` 모듈에서 임포트할 수 있습니다. `keras.applications` 모듈에서 사용 가능한 이미지 분류 모델은 다음과 같습니다(모두 ImageNet 데이터셋에서 훈련되었습니다):\n",
        "\n",
        "* Xception\n",
        "* InceptionV3\n",
        "* ResNet50\n",
        "* VGG16\n",
        "* VGG19\n",
        "* MobileNet\n",
        "\n",
        "VGG16 모델을 만들어 보죠:"
      ]
    },
    {
      "cell_type": "code",
      "metadata": {
        "id": "sYk47PN46K-q"
      },
      "source": [
        "from tensorflow.keras.applications import VGG16\n",
        "conv_base = VGG16(weights= 'imagenet',\n",
        "                  include_top=False,\n",
        "                  input_shape=(150,150,3))"
      ],
      "execution_count": 42,
      "outputs": []
    },
    {
      "cell_type": "code",
      "metadata": {
        "colab": {
          "base_uri": "https://localhost:8080/"
        },
        "id": "-EOZ4gg5_oXg",
        "outputId": "57c8a0ee-9d96-4064-a4b2-86ed416cecb6"
      },
      "source": [
        "conv_base.summary()"
      ],
      "execution_count": 3,
      "outputs": [
        {
          "output_type": "stream",
          "name": "stdout",
          "text": [
            "Model: \"vgg16\"\n",
            "_________________________________________________________________\n",
            "Layer (type)                 Output Shape              Param #   \n",
            "=================================================================\n",
            "input_1 (InputLayer)         [(None, 150, 150, 3)]     0         \n",
            "_________________________________________________________________\n",
            "block1_conv1 (Conv2D)        (None, 150, 150, 64)      1792      \n",
            "_________________________________________________________________\n",
            "block1_conv2 (Conv2D)        (None, 150, 150, 64)      36928     \n",
            "_________________________________________________________________\n",
            "block1_pool (MaxPooling2D)   (None, 75, 75, 64)        0         \n",
            "_________________________________________________________________\n",
            "block2_conv1 (Conv2D)        (None, 75, 75, 128)       73856     \n",
            "_________________________________________________________________\n",
            "block2_conv2 (Conv2D)        (None, 75, 75, 128)       147584    \n",
            "_________________________________________________________________\n",
            "block2_pool (MaxPooling2D)   (None, 37, 37, 128)       0         \n",
            "_________________________________________________________________\n",
            "block3_conv1 (Conv2D)        (None, 37, 37, 256)       295168    \n",
            "_________________________________________________________________\n",
            "block3_conv2 (Conv2D)        (None, 37, 37, 256)       590080    \n",
            "_________________________________________________________________\n",
            "block3_conv3 (Conv2D)        (None, 37, 37, 256)       590080    \n",
            "_________________________________________________________________\n",
            "block3_pool (MaxPooling2D)   (None, 18, 18, 256)       0         \n",
            "_________________________________________________________________\n",
            "block4_conv1 (Conv2D)        (None, 18, 18, 512)       1180160   \n",
            "_________________________________________________________________\n",
            "block4_conv2 (Conv2D)        (None, 18, 18, 512)       2359808   \n",
            "_________________________________________________________________\n",
            "block4_conv3 (Conv2D)        (None, 18, 18, 512)       2359808   \n",
            "_________________________________________________________________\n",
            "block4_pool (MaxPooling2D)   (None, 9, 9, 512)         0         \n",
            "_________________________________________________________________\n",
            "block5_conv1 (Conv2D)        (None, 9, 9, 512)         2359808   \n",
            "_________________________________________________________________\n",
            "block5_conv2 (Conv2D)        (None, 9, 9, 512)         2359808   \n",
            "_________________________________________________________________\n",
            "block5_conv3 (Conv2D)        (None, 9, 9, 512)         2359808   \n",
            "_________________________________________________________________\n",
            "block5_pool (MaxPooling2D)   (None, 4, 4, 512)         0         \n",
            "=================================================================\n",
            "Total params: 14,714,688\n",
            "Trainable params: 14,714,688\n",
            "Non-trainable params: 0\n",
            "_________________________________________________________________\n"
          ]
        }
      ]
    },
    {
      "cell_type": "code",
      "metadata": {
        "colab": {
          "base_uri": "https://localhost:8080/"
        },
        "id": "kXM8ZBQq_zDG",
        "outputId": "54dc5e2f-66cf-41e2-bf55-43fc400f2a4d"
      },
      "source": [
        "# 데이터 증식을 사용하지 않는 빠른 특성 추출\n",
        "\n",
        "import os\n",
        "import numpy as np\n",
        "from tensorflow.keras.preprocessing.image import ImageDataGenerator\n",
        "\n",
        "base_dir = '/content/drive/MyDrive/cakd3_colab/dl_keras/datasets/cats_and_dogs_small'\n",
        "\n",
        "train_dir = os.path.join(base_dir, 'train')\n",
        "validation_dir = os.path.join(base_dir, 'validation')\n",
        "test_dir = os.path.join(base_dir,'test')\n",
        "\n",
        "datagen = ImageDataGenerator(rescale=1./255)\n",
        "batch_size = 20\n",
        "\n",
        "def extract_features(directory, sample_count):\n",
        "  features = np.zeros(shape=(sample_count,4,4,512))\n",
        "  labels = np.zeros(shape=(sample_count))\n",
        "  generator = datagen.flow_from_directory(\n",
        "      directory,\n",
        "      target_size = (150,150),\n",
        "      batch_size = batch_size,\n",
        "      class_mode = 'binary')\n",
        "  i=0\n",
        "  for inputs_batch, labels_batch in generator:\n",
        "    features_batch = conv_base.predict(inputs_batch)\n",
        "    features[i * batch_size : (i+1) * batch_size] = features_batch\n",
        "    labels[i * batch_size : (i+1) * batch_size] = labels_batch\n",
        "    i += 1\n",
        "    if i * batch_size >= sample_count:\n",
        "      break\n",
        "  return features, labels\n",
        "\n",
        "train_features, train_labels = extract_features(train_dir, 2000)\n",
        "validation_features, validation_labels = extract_features(validation_dir,1000)\n",
        "test_features,test_labels = extract_features(test_dir, 1000)"
      ],
      "execution_count": null,
      "outputs": [
        {
          "output_type": "stream",
          "name": "stdout",
          "text": [
            "Found 2000 images belonging to 2 classes.\n",
            "Found 1000 images belonging to 2 classes.\n",
            "Found 1000 images belonging to 2 classes.\n"
          ]
        }
      ]
    },
    {
      "cell_type": "code",
      "metadata": {
        "colab": {
          "base_uri": "https://localhost:8080/"
        },
        "id": "Z_-bK6EwI5u-",
        "outputId": "75efaa36-7be0-4086-a4fd-7fbd5bd43271"
      },
      "source": [
        "train_features.shape\n",
        "validation_features.shape"
      ],
      "execution_count": null,
      "outputs": [
        {
          "output_type": "execute_result",
          "data": {
            "text/plain": [
              "(1000, 4, 4, 512)"
            ]
          },
          "metadata": {},
          "execution_count": 6
        }
      ]
    },
    {
      "cell_type": "code",
      "metadata": {
        "id": "BdoRe3HRJPAy"
      },
      "source": [
        "train_features = np.reshape(train_features, (2000, 4*4*512))\n",
        "validation_features = np.reshape(validation_features, (1000,4*4*512))\n",
        "test_features = np.reshape(test_features,(1000,4*4*512))"
      ],
      "execution_count": null,
      "outputs": []
    },
    {
      "cell_type": "code",
      "metadata": {
        "colab": {
          "base_uri": "https://localhost:8080/"
        },
        "id": "Z0kH2Bt0JoR1",
        "outputId": "94557718-2e58-47f6-a729-874c8f70f81e"
      },
      "source": [
        "train_features.shape"
      ],
      "execution_count": null,
      "outputs": [
        {
          "output_type": "execute_result",
          "data": {
            "text/plain": [
              "(2000, 8192)"
            ]
          },
          "metadata": {},
          "execution_count": 8
        }
      ]
    },
    {
      "cell_type": "code",
      "metadata": {
        "colab": {
          "base_uri": "https://localhost:8080/"
        },
        "id": "5U-5cpyGJtWT",
        "outputId": "4b6596a7-7b5f-4bea-be6f-1d4b11dd899c"
      },
      "source": [
        "from tensorflow.keras import models\n",
        "from tensorflow.keras import layers\n",
        "from tensorflow.keras import optimizers\n",
        "\n",
        "model = models.Sequential()\n",
        "model.add(layers.Dense(256,activation='relu',input_dim=4*4*512))\n",
        "model.add(layers.Dense(1,activation='sigmoid'))\n",
        "\n",
        "model.compile(optimizer = optimizers.RMSprop(lr = 2e-5),\n",
        "              loss='binary_crossentropy',\n",
        "              metrics = ['acc'])\n",
        "\n",
        "history = model.fit(train_features, train_labels,\n",
        "                    epochs=30,\n",
        "                    batch_size=20,\n",
        "                    validation_data=(validation_features,validation_labels))"
      ],
      "execution_count": null,
      "outputs": [
        {
          "output_type": "stream",
          "name": "stderr",
          "text": [
            "/usr/local/lib/python3.7/dist-packages/keras/optimizer_v2/optimizer_v2.py:356: UserWarning: The `lr` argument is deprecated, use `learning_rate` instead.\n",
            "  \"The `lr` argument is deprecated, use `learning_rate` instead.\")\n"
          ]
        },
        {
          "output_type": "stream",
          "name": "stdout",
          "text": [
            "Epoch 1/30\n",
            "100/100 [==============================] - 1s 4ms/step - loss: 0.4870 - acc: 0.8020 - val_loss: 0.3941 - val_acc: 0.8550\n",
            "Epoch 2/30\n",
            "100/100 [==============================] - 0s 3ms/step - loss: 0.3378 - acc: 0.8705 - val_loss: 0.3181 - val_acc: 0.8820\n",
            "Epoch 3/30\n",
            "100/100 [==============================] - 0s 3ms/step - loss: 0.2787 - acc: 0.8975 - val_loss: 0.2879 - val_acc: 0.8910\n",
            "Epoch 4/30\n",
            "100/100 [==============================] - 0s 3ms/step - loss: 0.2435 - acc: 0.9085 - val_loss: 0.2744 - val_acc: 0.8900\n",
            "Epoch 5/30\n",
            "100/100 [==============================] - 0s 3ms/step - loss: 0.2197 - acc: 0.9265 - val_loss: 0.2598 - val_acc: 0.8980\n",
            "Epoch 6/30\n",
            "100/100 [==============================] - 0s 3ms/step - loss: 0.1982 - acc: 0.9275 - val_loss: 0.2545 - val_acc: 0.9020\n",
            "Epoch 7/30\n",
            "100/100 [==============================] - 0s 3ms/step - loss: 0.1814 - acc: 0.9415 - val_loss: 0.2499 - val_acc: 0.9040\n",
            "Epoch 8/30\n",
            "100/100 [==============================] - 0s 3ms/step - loss: 0.1662 - acc: 0.9455 - val_loss: 0.2412 - val_acc: 0.9030\n",
            "Epoch 9/30\n",
            "100/100 [==============================] - 0s 3ms/step - loss: 0.1530 - acc: 0.9510 - val_loss: 0.2476 - val_acc: 0.8980\n",
            "Epoch 10/30\n",
            "100/100 [==============================] - 0s 3ms/step - loss: 0.1452 - acc: 0.9505 - val_loss: 0.2532 - val_acc: 0.9000\n",
            "Epoch 11/30\n",
            "100/100 [==============================] - 0s 3ms/step - loss: 0.1334 - acc: 0.9585 - val_loss: 0.2348 - val_acc: 0.9040\n",
            "Epoch 12/30\n",
            "100/100 [==============================] - 0s 3ms/step - loss: 0.1234 - acc: 0.9625 - val_loss: 0.2346 - val_acc: 0.9030\n",
            "Epoch 13/30\n",
            "100/100 [==============================] - 0s 3ms/step - loss: 0.1152 - acc: 0.9665 - val_loss: 0.2340 - val_acc: 0.9040\n",
            "Epoch 14/30\n",
            "100/100 [==============================] - 0s 3ms/step - loss: 0.1086 - acc: 0.9695 - val_loss: 0.2338 - val_acc: 0.9020\n",
            "Epoch 15/30\n",
            "100/100 [==============================] - 0s 3ms/step - loss: 0.1022 - acc: 0.9685 - val_loss: 0.2508 - val_acc: 0.9000\n",
            "Epoch 16/30\n",
            "100/100 [==============================] - 0s 3ms/step - loss: 0.0946 - acc: 0.9725 - val_loss: 0.2338 - val_acc: 0.9030\n",
            "Epoch 17/30\n",
            "100/100 [==============================] - 0s 3ms/step - loss: 0.0876 - acc: 0.9760 - val_loss: 0.2434 - val_acc: 0.9070\n",
            "Epoch 18/30\n",
            "100/100 [==============================] - 0s 3ms/step - loss: 0.0832 - acc: 0.9770 - val_loss: 0.2387 - val_acc: 0.9040\n",
            "Epoch 19/30\n",
            "100/100 [==============================] - 0s 3ms/step - loss: 0.0768 - acc: 0.9820 - val_loss: 0.2395 - val_acc: 0.9040\n",
            "Epoch 20/30\n",
            "100/100 [==============================] - 0s 3ms/step - loss: 0.0726 - acc: 0.9840 - val_loss: 0.2412 - val_acc: 0.9070\n",
            "Epoch 21/30\n",
            "100/100 [==============================] - 0s 3ms/step - loss: 0.0674 - acc: 0.9880 - val_loss: 0.2388 - val_acc: 0.9020\n",
            "Epoch 22/30\n",
            "100/100 [==============================] - 0s 3ms/step - loss: 0.0635 - acc: 0.9895 - val_loss: 0.2398 - val_acc: 0.9000\n",
            "Epoch 23/30\n",
            "100/100 [==============================] - 0s 3ms/step - loss: 0.0596 - acc: 0.9875 - val_loss: 0.2544 - val_acc: 0.9020\n",
            "Epoch 24/30\n",
            "100/100 [==============================] - 0s 3ms/step - loss: 0.0545 - acc: 0.9920 - val_loss: 0.2475 - val_acc: 0.9040\n",
            "Epoch 25/30\n",
            "100/100 [==============================] - 0s 3ms/step - loss: 0.0510 - acc: 0.9940 - val_loss: 0.2455 - val_acc: 0.9020\n",
            "Epoch 26/30\n",
            "100/100 [==============================] - 0s 3ms/step - loss: 0.0474 - acc: 0.9960 - val_loss: 0.2614 - val_acc: 0.9030\n",
            "Epoch 27/30\n",
            "100/100 [==============================] - 0s 3ms/step - loss: 0.0443 - acc: 0.9960 - val_loss: 0.2525 - val_acc: 0.9030\n",
            "Epoch 28/30\n",
            "100/100 [==============================] - 0s 3ms/step - loss: 0.0410 - acc: 0.9980 - val_loss: 0.2507 - val_acc: 0.9010\n",
            "Epoch 29/30\n",
            "100/100 [==============================] - 0s 3ms/step - loss: 0.0379 - acc: 0.9965 - val_loss: 0.2584 - val_acc: 0.9010\n",
            "Epoch 30/30\n",
            "100/100 [==============================] - 0s 3ms/step - loss: 0.0351 - acc: 0.9985 - val_loss: 0.2561 - val_acc: 0.9000\n"
          ]
        }
      ]
    },
    {
      "cell_type": "code",
      "metadata": {
        "colab": {
          "base_uri": "https://localhost:8080/",
          "height": 545
        },
        "id": "KKTNIVq_KtuG",
        "outputId": "f4833c71-ee8a-40d9-e447-edd76a5953cc"
      },
      "source": [
        "import matplotlib.pyplot as plt\n",
        "\n",
        "acc = history.history['acc']\n",
        "val_acc = history.history['val_acc']\n",
        "loss = history.history['loss']\n",
        "val_loss = history.history['val_loss']\n",
        "\n",
        "epochs = range(len(acc))\n",
        "\n",
        "plt.plot(epochs, acc, 'bo',label='Training acc')\n",
        "plt.plot(epochs, val_acc, 'b', label= 'Validation acc')\n",
        "plt.title('Training and validation accuracy')\n",
        "plt.legend()\n",
        "\n",
        "plt.figure()\n",
        "\n",
        "plt.plot(epochs, loss, 'bo',label='Training loss')\n",
        "plt.plot(epochs, val_loss, 'b', label= 'Validation loss')\n",
        "plt.title('Training and validation loss')\n",
        "plt.legend()\n",
        "plt.show()"
      ],
      "execution_count": null,
      "outputs": [
        {
          "output_type": "display_data",
          "data": {
            "image/png": "[encoded data removed]",
            "text/plain": [
              "<Figure size 432x288 with 1 Axes>"
            ]
          },
          "metadata": {
            "needs_background": "light"
          }
        },
        {
          "output_type": "display_data",
          "data": {
            "image/png": "[encoded data removed]",
            "text/plain": [
              "<Figure size 432x288 with 1 Axes>"
            ]
          },
          "metadata": {
            "needs_background": "light"
          }
        }
      ]
    },
    {
      "cell_type": "code",
      "metadata": {
        "id": "2HdTqloWLoNE"
      },
      "source": [
        "# 데이터 증식 기법 사용\n",
        "\n",
        "from tensorflow.keras import models\n",
        "from tensorflow.keras import layers\n",
        "\n",
        "model = models.Sequential()\n",
        "model.add(conv_base)\n",
        "model.add(layers.Flatten())\n",
        "model.add(layers.Dense(256,activation='relu'))\n",
        "model.add(layers.Dense(1,activation='sigmoid'))"
      ],
      "execution_count": 43,
      "outputs": []
    },
    {
      "cell_type": "code",
      "metadata": {
        "colab": {
          "base_uri": "https://localhost:8080/"
        },
        "id": "zcQs6GhoD9Er",
        "outputId": "4e400125-d558-42f8-e843-8e6555ed9c7a"
      },
      "source": [
        "from tensorflow.keras.applications import VGG16\n",
        "conv_base = VGG16(weights= 'imagenet',\n",
        "                  include_top=False,\n",
        "                  input_shape=(150,150,3))\n",
        "\n",
        "model.summary()"
      ],
      "execution_count": 44,
      "outputs": [
        {
          "output_type": "stream",
          "name": "stdout",
          "text": [
            "Model: \"sequential_5\"\n",
            "_________________________________________________________________\n",
            "Layer (type)                 Output Shape              Param #   \n",
            "=================================================================\n",
            "vgg16 (Functional)           (None, 4, 4, 512)         14714688  \n",
            "_________________________________________________________________\n",
            "flatten_4 (Flatten)          (None, 8192)              0         \n",
            "_________________________________________________________________\n",
            "dense_8 (Dense)              (None, 256)               2097408   \n",
            "_________________________________________________________________\n",
            "dense_9 (Dense)              (None, 1)                 257       \n",
            "=================================================================\n",
            "Total params: 16,812,353\n",
            "Trainable params: 16,812,353\n",
            "Non-trainable params: 0\n",
            "_________________________________________________________________\n"
          ]
        }
      ]
    },
    {
      "cell_type": "code",
      "metadata": {
        "colab": {
          "base_uri": "https://localhost:8080/"
        },
        "id": "yjKP0brvbUYu",
        "outputId": "03cb417f-382c-4f64-80fe-18d1f015a362"
      },
      "source": [
        "print('conv_base를 동결하기 전 훈련되는 가중치의 수:',\n",
        "      len(model.trainable_weights))"
      ],
      "execution_count": 45,
      "outputs": [
        {
          "output_type": "stream",
          "name": "stdout",
          "text": [
            "conv_base를 동결하기 전 훈련되는 가중치의 수: 30\n"
          ]
        }
      ]
    },
    {
      "cell_type": "code",
      "metadata": {
        "id": "MECOT-SIbgUz"
      },
      "source": [
        "conv_base.trainable = False"
      ],
      "execution_count": 46,
      "outputs": []
    },
    {
      "cell_type": "code",
      "metadata": {
        "colab": {
          "base_uri": "https://localhost:8080/"
        },
        "id": "XUmlz7tbbos7",
        "outputId": "e6596105-c631-4aa5-a87e-b23d18d7af16"
      },
      "source": [
        "print('conv_base를 동결한 후 훈련되는 가중치의 수: ',\n",
        "      len(model.trainable_weights))"
      ],
      "execution_count": 47,
      "outputs": [
        {
          "output_type": "stream",
          "name": "stdout",
          "text": [
            "conv_base를 동결한 후 훈련되는 가중치의 수:  4\n"
          ]
        }
      ]
    },
    {
      "cell_type": "code",
      "metadata": {
        "id": "u4J0koTvHKZ0"
      },
      "source": [
        "import os\n",
        "import numpy as np\n",
        "from tensorflow.keras import models\n",
        "from tensorflow.keras import layers\n",
        "from tensorflow.keras import optimizers\n",
        "\n",
        "base_dir = '/content/drive/MyDrive/cakd3_colab/dl_keras/datasets/cats_and_dogs_small'\n",
        "train_dir = os.path.join(base_dir, 'train')\n",
        "validation_dir = os.path.join(base_dir, 'validation')\n",
        "test_dir = os.path.join(base_dir,'test')\n"
      ],
      "execution_count": 48,
      "outputs": []
    },
    {
      "cell_type": "code",
      "metadata": {
        "colab": {
          "base_uri": "https://localhost:8080/"
        },
        "id": "ohw1aoWREXLt",
        "outputId": "09de7a9d-6f8f-446d-fba5-4428bf3697e1"
      },
      "source": [
        "from tensorflow.keras.preprocessing.image import ImageDataGenerator\n",
        "\n",
        "train_datagen = ImageDataGenerator(\n",
        "    rescale = 1./255,\n",
        "    rotation_range = 20,\n",
        "    width_shift_range=0.1,\n",
        "    height_shift_range=0.1,\n",
        "    shear_range=0.1,\n",
        "    zoom_range=0.1,\n",
        "    horizontal_flip=True,\n",
        "    fill_mode='nearest'\n",
        ")\n",
        "test_datagen = ImageDataGenerator(rescale=1./255)\n",
        "\n",
        "train_generator = train_datagen.flow_from_directory(\n",
        "    train_dir,\n",
        "    target_size=(150,150),\n",
        "    batch_size=20,\n",
        "    class_mode='binary'\n",
        ")\n",
        "\n",
        "validation_generator = test_datagen.flow_from_directory(\n",
        "    validation_dir,\n",
        "    target_size=(150,150),\n",
        "    batch_size=20,\n",
        "    class_mode='binary'\n",
        ")\n",
        "model.compile(loss = 'binary_crossentropy',\n",
        "              optimizer=optimizers.RMSprop(learning_rate=2e-5),\n",
        "              metrics=['acc'])\n",
        "\n",
        "history = model.fit(\n",
        "    train_generator,\n",
        "    steps_per_epoch = 100,\n",
        "    epochs=30,\n",
        "    validation_data=validation_generator,\n",
        "    validation_steps=50,\n",
        "    verbose=2\n",
        ")"
      ],
      "execution_count": 49,
      "outputs": [
        {
          "output_type": "stream",
          "name": "stdout",
          "text": [
            "Found 2000 images belonging to 2 classes.\n",
            "Found 1000 images belonging to 2 classes.\n",
            "Epoch 1/30\n",
            "100/100 - 18s - loss: 0.5616 - acc: 0.7240 - val_loss: 0.4278 - val_acc: 0.8380\n",
            "Epoch 2/30\n",
            "100/100 - 18s - loss: 0.4202 - acc: 0.8260 - val_loss: 0.3441 - val_acc: 0.8660\n",
            "Epoch 3/30\n",
            "100/100 - 18s - loss: 0.3662 - acc: 0.8520 - val_loss: 0.3084 - val_acc: 0.8710\n",
            "Epoch 4/30\n",
            "100/100 - 18s - loss: 0.3340 - acc: 0.8635 - val_loss: 0.2873 - val_acc: 0.8900\n",
            "Epoch 5/30\n",
            "100/100 - 17s - loss: 0.3034 - acc: 0.8740 - val_loss: 0.2867 - val_acc: 0.8830\n",
            "Epoch 6/30\n",
            "100/100 - 18s - loss: 0.3059 - acc: 0.8730 - val_loss: 0.2615 - val_acc: 0.8930\n",
            "Epoch 7/30\n",
            "100/100 - 18s - loss: 0.2871 - acc: 0.8810 - val_loss: 0.2552 - val_acc: 0.8980\n",
            "Epoch 8/30\n",
            "100/100 - 18s - loss: 0.2711 - acc: 0.8870 - val_loss: 0.2496 - val_acc: 0.9000\n",
            "Epoch 9/30\n",
            "100/100 - 18s - loss: 0.2622 - acc: 0.8960 - val_loss: 0.2514 - val_acc: 0.8990\n",
            "Epoch 10/30\n",
            "100/100 - 17s - loss: 0.2554 - acc: 0.8995 - val_loss: 0.2413 - val_acc: 0.9010\n",
            "Epoch 11/30\n",
            "100/100 - 18s - loss: 0.2520 - acc: 0.8995 - val_loss: 0.2405 - val_acc: 0.9030\n",
            "Epoch 12/30\n",
            "100/100 - 18s - loss: 0.2404 - acc: 0.8995 - val_loss: 0.2357 - val_acc: 0.9000\n",
            "Epoch 13/30\n",
            "100/100 - 18s - loss: 0.2419 - acc: 0.9060 - val_loss: 0.2331 - val_acc: 0.9010\n",
            "Epoch 14/30\n",
            "100/100 - 17s - loss: 0.2402 - acc: 0.9005 - val_loss: 0.2341 - val_acc: 0.9030\n",
            "Epoch 15/30\n",
            "100/100 - 18s - loss: 0.2296 - acc: 0.9070 - val_loss: 0.2334 - val_acc: 0.9070\n",
            "Epoch 16/30\n",
            "100/100 - 17s - loss: 0.2212 - acc: 0.9090 - val_loss: 0.2332 - val_acc: 0.9080\n",
            "Epoch 17/30\n",
            "100/100 - 18s - loss: 0.2215 - acc: 0.9095 - val_loss: 0.2335 - val_acc: 0.9100\n",
            "Epoch 18/30\n",
            "100/100 - 17s - loss: 0.2107 - acc: 0.9125 - val_loss: 0.2327 - val_acc: 0.9060\n",
            "Epoch 19/30\n",
            "100/100 - 17s - loss: 0.2172 - acc: 0.9120 - val_loss: 0.2318 - val_acc: 0.9080\n",
            "Epoch 20/30\n",
            "100/100 - 17s - loss: 0.2161 - acc: 0.9190 - val_loss: 0.2494 - val_acc: 0.8960\n",
            "Epoch 21/30\n",
            "100/100 - 18s - loss: 0.2187 - acc: 0.9055 - val_loss: 0.2337 - val_acc: 0.9040\n",
            "Epoch 22/30\n",
            "100/100 - 18s - loss: 0.2034 - acc: 0.9200 - val_loss: 0.2387 - val_acc: 0.9010\n",
            "Epoch 23/30\n",
            "100/100 - 17s - loss: 0.2015 - acc: 0.9155 - val_loss: 0.2305 - val_acc: 0.9100\n",
            "Epoch 24/30\n",
            "100/100 - 17s - loss: 0.1995 - acc: 0.9150 - val_loss: 0.2319 - val_acc: 0.9040\n",
            "Epoch 25/30\n",
            "100/100 - 17s - loss: 0.1937 - acc: 0.9295 - val_loss: 0.2324 - val_acc: 0.9030\n",
            "Epoch 26/30\n",
            "100/100 - 18s - loss: 0.1909 - acc: 0.9230 - val_loss: 0.2459 - val_acc: 0.9000\n",
            "Epoch 27/30\n",
            "100/100 - 17s - loss: 0.1921 - acc: 0.9245 - val_loss: 0.2299 - val_acc: 0.9080\n",
            "Epoch 28/30\n",
            "100/100 - 18s - loss: 0.1798 - acc: 0.9260 - val_loss: 0.2298 - val_acc: 0.9110\n",
            "Epoch 29/30\n",
            "100/100 - 18s - loss: 0.1912 - acc: 0.9235 - val_loss: 0.2376 - val_acc: 0.9050\n",
            "Epoch 30/30\n",
            "100/100 - 18s - loss: 0.1848 - acc: 0.9260 - val_loss: 0.2325 - val_acc: 0.9090\n"
          ]
        }
      ]
    },
    {
      "cell_type": "code",
      "metadata": {
        "id": "6TDX0GtiHuWA"
      },
      "source": [
        "model.save('/content/drive/MyDrive/cakd3_colab/dl_keras/cats_and_dogs_small_3.h5')"
      ],
      "execution_count": 50,
      "outputs": []
    },
    {
      "cell_type": "code",
      "metadata": {
        "colab": {
          "base_uri": "https://localhost:8080/",
          "height": 545
        },
        "id": "baeK3vBOIM8d",
        "outputId": "2d7b31ef-4c70-413d-b723-8e212f6282bb"
      },
      "source": [
        "import matplotlib.pyplot as plt\n",
        "\n",
        "acc = history.history['acc']\n",
        "val_acc = history.history['val_acc']\n",
        "loss = history.history['loss']\n",
        "val_loss = history.history['val_loss']\n",
        "\n",
        "epochs = range(len(acc))\n",
        "\n",
        "plt.plot(epochs, acc, 'bo', label='Training acc')\n",
        "plt.plot(epochs, val_acc, 'b', label='Validation acc')\n",
        "plt.title('Training and validation accuracy')\n",
        "plt.legend()\n",
        "\n",
        "plt.figure()\n",
        "\n",
        "plt.plot(epochs, loss, 'bo', label='Training loss')\n",
        "plt.plot(epochs, val_loss, 'b', label='Validation loss')\n",
        "plt.title('Training and validation loss')\n",
        "plt.legend()\n",
        "\n",
        "plt.show()"
      ],
      "execution_count": 51,
      "outputs": [
        {
          "output_type": "display_data",
          "data": {
            "image/png": "[encoded data removed]",
            "text/plain": [
              "<Figure size 432x288 with 1 Axes>"
            ]
          },
          "metadata": {
            "needs_background": "light"
          }
        },
        {
          "output_type": "display_data",
          "data": {
            "image/png": "[encoded data removed]",
            "text/plain": [
              "<Figure size 432x288 with 1 Axes>"
            ]
          },
          "metadata": {
            "needs_background": "light"
          }
        }
      ]
    },
    {
      "cell_type": "code",
      "metadata": {
        "colab": {
          "base_uri": "https://localhost:8080/"
        },
        "id": "t47X2H-_OMWq",
        "outputId": "c20b45f3-eb7b-4060-f6a3-5bef01143e2f"
      },
      "source": [
        "conv_base.summary()"
      ],
      "execution_count": 13,
      "outputs": [
        {
          "output_type": "stream",
          "name": "stdout",
          "text": [
            "Model: \"vgg16\"\n",
            "_________________________________________________________________\n",
            "Layer (type)                 Output Shape              Param #   \n",
            "=================================================================\n",
            "input_1 (InputLayer)         [(None, 150, 150, 3)]     0         \n",
            "_________________________________________________________________\n",
            "block1_conv1 (Conv2D)        (None, 150, 150, 64)      1792      \n",
            "_________________________________________________________________\n",
            "block1_conv2 (Conv2D)        (None, 150, 150, 64)      36928     \n",
            "_________________________________________________________________\n",
            "block1_pool (MaxPooling2D)   (None, 75, 75, 64)        0         \n",
            "_________________________________________________________________\n",
            "block2_conv1 (Conv2D)        (None, 75, 75, 128)       73856     \n",
            "_________________________________________________________________\n",
            "block2_conv2 (Conv2D)        (None, 75, 75, 128)       147584    \n",
            "_________________________________________________________________\n",
            "block2_pool (MaxPooling2D)   (None, 37, 37, 128)       0         \n",
            "_________________________________________________________________\n",
            "block3_conv1 (Conv2D)        (None, 37, 37, 256)       295168    \n",
            "_________________________________________________________________\n",
            "block3_conv2 (Conv2D)        (None, 37, 37, 256)       590080    \n",
            "_________________________________________________________________\n",
            "block3_conv3 (Conv2D)        (None, 37, 37, 256)       590080    \n",
            "_________________________________________________________________\n",
            "block3_pool (MaxPooling2D)   (None, 18, 18, 256)       0         \n",
            "_________________________________________________________________\n",
            "block4_conv1 (Conv2D)        (None, 18, 18, 512)       1180160   \n",
            "_________________________________________________________________\n",
            "block4_conv2 (Conv2D)        (None, 18, 18, 512)       2359808   \n",
            "_________________________________________________________________\n",
            "block4_conv3 (Conv2D)        (None, 18, 18, 512)       2359808   \n",
            "_________________________________________________________________\n",
            "block4_pool (MaxPooling2D)   (None, 9, 9, 512)         0         \n",
            "_________________________________________________________________\n",
            "block5_conv1 (Conv2D)        (None, 9, 9, 512)         2359808   \n",
            "_________________________________________________________________\n",
            "block5_conv2 (Conv2D)        (None, 9, 9, 512)         2359808   \n",
            "_________________________________________________________________\n",
            "block5_conv3 (Conv2D)        (None, 9, 9, 512)         2359808   \n",
            "_________________________________________________________________\n",
            "block5_pool (MaxPooling2D)   (None, 4, 4, 512)         0         \n",
            "=================================================================\n",
            "Total params: 14,714,688\n",
            "Trainable params: 14,714,688\n",
            "Non-trainable params: 0\n",
            "_________________________________________________________________\n"
          ]
        }
      ]
    },
    {
      "cell_type": "code",
      "metadata": {
        "id": "qIntpQLOOXkE"
      },
      "source": [
        "# 미세조정\n",
        "\n",
        "conv_base.trainable = True\n",
        "\n",
        "set_trainable = False\n",
        "for layer in conv_base.layers:\n",
        "  if layer.name == 'block5_conv1':\n",
        "    set_trainable = True\n",
        "  if set_trainable:\n",
        "    layer.trainable = True\n",
        "  else:\n",
        "    layer.trainable = False\n"
      ],
      "execution_count": 53,
      "outputs": []
    },
    {
      "cell_type": "code",
      "metadata": {
        "colab": {
          "base_uri": "https://localhost:8080/"
        },
        "id": "GAp9WfibPGgj",
        "outputId": "9f4bd97a-1497-45ec-8b3b-126c502ea0a2"
      },
      "source": [
        "model.compile(loss='binary_crossentropy',\n",
        "              optimizer = optimizers.RMSprop(learning_rate=1e-5),\n",
        "              metrics=['acc'])\n",
        "history = model.fit(\n",
        "    train_generator,\n",
        "    steps_per_epoch=100,\n",
        "    epochs=100,\n",
        "    validation_data=validation_generator,\n",
        "    validation_steps=50\n",
        ")"
      ],
      "execution_count": 54,
      "outputs": [
        {
          "output_type": "stream",
          "name": "stdout",
          "text": [
            "Epoch 1/100\n",
            "100/100 [==============================] - 19s 183ms/step - loss: 0.1937 - acc: 0.9200 - val_loss: 0.2242 - val_acc: 0.9080\n",
            "Epoch 2/100\n",
            "100/100 [==============================] - 18s 179ms/step - loss: 0.1680 - acc: 0.9325 - val_loss: 0.2324 - val_acc: 0.9050\n",
            "Epoch 3/100\n",
            "100/100 [==============================] - 18s 179ms/step - loss: 0.1411 - acc: 0.9420 - val_loss: 0.2579 - val_acc: 0.8940\n",
            "Epoch 4/100\n",
            "100/100 [==============================] - 18s 179ms/step - loss: 0.1249 - acc: 0.9520 - val_loss: 0.2096 - val_acc: 0.9220\n",
            "Epoch 5/100\n",
            "100/100 [==============================] - 18s 180ms/step - loss: 0.1074 - acc: 0.9595 - val_loss: 0.2383 - val_acc: 0.9120\n",
            "Epoch 6/100\n",
            "100/100 [==============================] - 18s 180ms/step - loss: 0.0935 - acc: 0.9680 - val_loss: 0.2186 - val_acc: 0.9310\n",
            "Epoch 7/100\n",
            "100/100 [==============================] - 18s 182ms/step - loss: 0.0849 - acc: 0.9685 - val_loss: 0.2364 - val_acc: 0.9200\n",
            "Epoch 8/100\n",
            "100/100 [==============================] - 18s 180ms/step - loss: 0.0725 - acc: 0.9715 - val_loss: 0.2011 - val_acc: 0.9290\n",
            "Epoch 9/100\n",
            "100/100 [==============================] - 18s 179ms/step - loss: 0.0665 - acc: 0.9770 - val_loss: 0.1995 - val_acc: 0.9310\n",
            "Epoch 10/100\n",
            "100/100 [==============================] - 18s 179ms/step - loss: 0.0553 - acc: 0.9805 - val_loss: 0.2345 - val_acc: 0.9270\n",
            "Epoch 11/100\n",
            "100/100 [==============================] - 18s 179ms/step - loss: 0.0497 - acc: 0.9810 - val_loss: 0.2060 - val_acc: 0.9330\n",
            "Epoch 12/100\n",
            "100/100 [==============================] - 18s 179ms/step - loss: 0.0440 - acc: 0.9850 - val_loss: 0.2678 - val_acc: 0.9160\n",
            "Epoch 13/100\n",
            "100/100 [==============================] - 18s 179ms/step - loss: 0.0389 - acc: 0.9865 - val_loss: 0.2287 - val_acc: 0.9350\n",
            "Epoch 14/100\n",
            "100/100 [==============================] - 18s 177ms/step - loss: 0.0410 - acc: 0.9850 - val_loss: 0.2409 - val_acc: 0.9180\n",
            "Epoch 15/100\n",
            "100/100 [==============================] - 18s 179ms/step - loss: 0.0343 - acc: 0.9875 - val_loss: 0.2490 - val_acc: 0.9300\n",
            "Epoch 16/100\n",
            "100/100 [==============================] - 18s 179ms/step - loss: 0.0258 - acc: 0.9925 - val_loss: 0.2443 - val_acc: 0.9280\n",
            "Epoch 17/100\n",
            "100/100 [==============================] - 18s 178ms/step - loss: 0.0344 - acc: 0.9885 - val_loss: 0.2256 - val_acc: 0.9350\n",
            "Epoch 18/100\n",
            "100/100 [==============================] - 18s 178ms/step - loss: 0.0244 - acc: 0.9920 - val_loss: 0.2300 - val_acc: 0.9320\n",
            "Epoch 19/100\n",
            "100/100 [==============================] - 18s 178ms/step - loss: 0.0176 - acc: 0.9935 - val_loss: 0.2407 - val_acc: 0.9310\n",
            "Epoch 20/100\n",
            "100/100 [==============================] - 18s 179ms/step - loss: 0.0238 - acc: 0.9925 - val_loss: 0.2501 - val_acc: 0.9320\n",
            "Epoch 21/100\n",
            "100/100 [==============================] - 18s 177ms/step - loss: 0.0203 - acc: 0.9930 - val_loss: 0.2645 - val_acc: 0.9300\n",
            "Epoch 22/100\n",
            "100/100 [==============================] - 18s 179ms/step - loss: 0.0171 - acc: 0.9940 - val_loss: 0.2469 - val_acc: 0.9320\n",
            "Epoch 23/100\n",
            "100/100 [==============================] - 18s 178ms/step - loss: 0.0240 - acc: 0.9910 - val_loss: 0.2290 - val_acc: 0.9370\n",
            "Epoch 24/100\n",
            "100/100 [==============================] - 18s 180ms/step - loss: 0.0115 - acc: 0.9965 - val_loss: 0.2571 - val_acc: 0.9320\n",
            "Epoch 25/100\n",
            "100/100 [==============================] - 18s 180ms/step - loss: 0.0140 - acc: 0.9940 - val_loss: 0.2805 - val_acc: 0.9390\n",
            "Epoch 26/100\n",
            "100/100 [==============================] - 18s 179ms/step - loss: 0.0121 - acc: 0.9960 - val_loss: 0.2847 - val_acc: 0.9250\n",
            "Epoch 27/100\n",
            "100/100 [==============================] - 18s 176ms/step - loss: 0.0130 - acc: 0.9965 - val_loss: 0.2681 - val_acc: 0.9320\n",
            "Epoch 28/100\n",
            "100/100 [==============================] - 18s 179ms/step - loss: 0.0169 - acc: 0.9940 - val_loss: 0.3013 - val_acc: 0.9300\n",
            "Epoch 29/100\n",
            "100/100 [==============================] - 18s 179ms/step - loss: 0.0108 - acc: 0.9960 - val_loss: 0.2732 - val_acc: 0.9310\n",
            "Epoch 30/100\n",
            "100/100 [==============================] - 18s 178ms/step - loss: 0.0098 - acc: 0.9970 - val_loss: 0.4050 - val_acc: 0.9160\n",
            "Epoch 31/100\n",
            "100/100 [==============================] - 18s 180ms/step - loss: 0.0113 - acc: 0.9965 - val_loss: 0.3452 - val_acc: 0.9220\n",
            "Epoch 32/100\n",
            "100/100 [==============================] - 18s 180ms/step - loss: 0.0132 - acc: 0.9950 - val_loss: 0.2732 - val_acc: 0.9360\n",
            "Epoch 33/100\n",
            "100/100 [==============================] - 18s 179ms/step - loss: 0.0078 - acc: 0.9975 - val_loss: 0.2843 - val_acc: 0.9350\n",
            "Epoch 34/100\n",
            "100/100 [==============================] - 18s 178ms/step - loss: 0.0096 - acc: 0.9965 - val_loss: 0.2580 - val_acc: 0.9340\n",
            "Epoch 35/100\n",
            "100/100 [==============================] - 18s 179ms/step - loss: 0.0167 - acc: 0.9960 - val_loss: 0.2568 - val_acc: 0.9390\n",
            "Epoch 36/100\n",
            "100/100 [==============================] - 18s 179ms/step - loss: 0.0065 - acc: 0.9985 - val_loss: 0.2773 - val_acc: 0.9360\n",
            "Epoch 37/100\n",
            "100/100 [==============================] - 18s 179ms/step - loss: 0.0087 - acc: 0.9970 - val_loss: 0.3132 - val_acc: 0.9280\n",
            "Epoch 38/100\n",
            "100/100 [==============================] - 18s 179ms/step - loss: 0.0107 - acc: 0.9975 - val_loss: 0.3098 - val_acc: 0.9320\n",
            "Epoch 39/100\n",
            "100/100 [==============================] - 18s 180ms/step - loss: 0.0041 - acc: 0.9990 - val_loss: 0.2659 - val_acc: 0.9370\n",
            "Epoch 40/100\n",
            "100/100 [==============================] - 18s 178ms/step - loss: 0.0097 - acc: 0.9975 - val_loss: 0.2589 - val_acc: 0.9410\n",
            "Epoch 41/100\n",
            "100/100 [==============================] - 18s 181ms/step - loss: 0.0054 - acc: 0.9980 - val_loss: 0.2763 - val_acc: 0.9380\n",
            "Epoch 42/100\n",
            "100/100 [==============================] - 18s 182ms/step - loss: 0.0126 - acc: 0.9960 - val_loss: 0.2690 - val_acc: 0.9410\n",
            "Epoch 43/100\n",
            "100/100 [==============================] - 18s 180ms/step - loss: 0.0098 - acc: 0.9980 - val_loss: 0.3025 - val_acc: 0.9380\n",
            "Epoch 44/100\n",
            "100/100 [==============================] - 18s 180ms/step - loss: 0.0084 - acc: 0.9975 - val_loss: 0.2863 - val_acc: 0.9430\n",
            "Epoch 45/100\n",
            "100/100 [==============================] - 18s 179ms/step - loss: 0.0068 - acc: 0.9970 - val_loss: 0.2811 - val_acc: 0.9390\n",
            "Epoch 46/100\n",
            "100/100 [==============================] - 18s 180ms/step - loss: 0.0085 - acc: 0.9975 - val_loss: 0.3072 - val_acc: 0.9380\n",
            "Epoch 47/100\n",
            "100/100 [==============================] - 18s 179ms/step - loss: 0.0065 - acc: 0.9970 - val_loss: 0.3558 - val_acc: 0.9250\n",
            "Epoch 48/100\n",
            "100/100 [==============================] - 18s 179ms/step - loss: 0.0052 - acc: 0.9980 - val_loss: 0.2907 - val_acc: 0.9380\n",
            "Epoch 49/100\n",
            "100/100 [==============================] - 18s 179ms/step - loss: 0.0036 - acc: 0.9985 - val_loss: 0.3901 - val_acc: 0.9300\n",
            "Epoch 50/100\n",
            "100/100 [==============================] - 18s 179ms/step - loss: 0.0033 - acc: 0.9995 - val_loss: 0.3055 - val_acc: 0.9380\n",
            "Epoch 51/100\n",
            "100/100 [==============================] - 18s 180ms/step - loss: 0.0039 - acc: 0.9985 - val_loss: 0.3230 - val_acc: 0.9380\n",
            "Epoch 52/100\n",
            "100/100 [==============================] - 18s 181ms/step - loss: 0.0046 - acc: 0.9985 - val_loss: 0.7383 - val_acc: 0.8890\n",
            "Epoch 53/100\n",
            "100/100 [==============================] - 18s 180ms/step - loss: 0.0064 - acc: 0.9980 - val_loss: 0.2899 - val_acc: 0.9360\n",
            "Epoch 54/100\n",
            "100/100 [==============================] - 18s 180ms/step - loss: 0.0076 - acc: 0.9970 - val_loss: 0.3003 - val_acc: 0.9400\n",
            "Epoch 55/100\n",
            "100/100 [==============================] - 18s 181ms/step - loss: 0.0039 - acc: 0.9990 - val_loss: 0.3218 - val_acc: 0.9400\n",
            "Epoch 56/100\n",
            "100/100 [==============================] - 18s 180ms/step - loss: 0.0038 - acc: 0.9985 - val_loss: 0.3450 - val_acc: 0.9390\n",
            "Epoch 57/100\n",
            "100/100 [==============================] - 18s 179ms/step - loss: 0.0042 - acc: 0.9985 - val_loss: 0.3666 - val_acc: 0.9370\n",
            "Epoch 58/100\n",
            "100/100 [==============================] - 18s 179ms/step - loss: 0.0046 - acc: 0.9980 - val_loss: 0.4096 - val_acc: 0.9260\n",
            "Epoch 59/100\n",
            "100/100 [==============================] - 18s 181ms/step - loss: 0.0059 - acc: 0.9980 - val_loss: 0.3264 - val_acc: 0.9380\n",
            "Epoch 60/100\n",
            "100/100 [==============================] - 18s 180ms/step - loss: 0.0035 - acc: 0.9990 - val_loss: 0.3254 - val_acc: 0.9430\n",
            "Epoch 61/100\n",
            "100/100 [==============================] - 18s 180ms/step - loss: 0.0023 - acc: 0.9995 - val_loss: 0.3203 - val_acc: 0.9420\n",
            "Epoch 62/100\n",
            "100/100 [==============================] - 18s 179ms/step - loss: 0.0015 - acc: 0.9995 - val_loss: 0.3733 - val_acc: 0.9320\n",
            "Epoch 63/100\n",
            "100/100 [==============================] - 18s 181ms/step - loss: 0.0025 - acc: 0.9990 - val_loss: 0.3507 - val_acc: 0.9360\n",
            "Epoch 64/100\n",
            "100/100 [==============================] - 18s 180ms/step - loss: 0.0025 - acc: 0.9995 - val_loss: 0.4388 - val_acc: 0.9280\n",
            "Epoch 65/100\n",
            "100/100 [==============================] - 18s 180ms/step - loss: 0.0026 - acc: 0.9990 - val_loss: 0.3286 - val_acc: 0.9400\n",
            "Epoch 66/100\n",
            "100/100 [==============================] - 18s 182ms/step - loss: 0.0018 - acc: 0.9995 - val_loss: 0.3613 - val_acc: 0.9350\n",
            "Epoch 67/100\n",
            "100/100 [==============================] - 18s 181ms/step - loss: 0.0016 - acc: 0.9995 - val_loss: 0.3530 - val_acc: 0.9360\n",
            "Epoch 68/100\n",
            "100/100 [==============================] - 18s 180ms/step - loss: 0.0034 - acc: 0.9980 - val_loss: 0.3491 - val_acc: 0.9390\n",
            "Epoch 69/100\n",
            "100/100 [==============================] - 18s 179ms/step - loss: 8.1007e-04 - acc: 1.0000 - val_loss: 0.3329 - val_acc: 0.9400\n",
            "Epoch 70/100\n",
            "100/100 [==============================] - 18s 181ms/step - loss: 0.0030 - acc: 0.9990 - val_loss: 0.3684 - val_acc: 0.9320\n",
            "Epoch 71/100\n",
            "100/100 [==============================] - 18s 179ms/step - loss: 0.0040 - acc: 0.9985 - val_loss: 0.3325 - val_acc: 0.9370\n",
            "Epoch 72/100\n",
            "100/100 [==============================] - 18s 180ms/step - loss: 0.0049 - acc: 0.9980 - val_loss: 0.3962 - val_acc: 0.9280\n",
            "Epoch 73/100\n",
            "100/100 [==============================] - 18s 179ms/step - loss: 0.0032 - acc: 0.9990 - val_loss: 0.3539 - val_acc: 0.9380\n",
            "Epoch 74/100\n",
            "100/100 [==============================] - 18s 180ms/step - loss: 0.0065 - acc: 0.9995 - val_loss: 0.3472 - val_acc: 0.9310\n",
            "Epoch 75/100\n",
            "100/100 [==============================] - 18s 180ms/step - loss: 0.0024 - acc: 0.9990 - val_loss: 0.3642 - val_acc: 0.9330\n",
            "Epoch 76/100\n",
            "100/100 [==============================] - 18s 181ms/step - loss: 0.0032 - acc: 0.9990 - val_loss: 0.3520 - val_acc: 0.9390\n",
            "Epoch 77/100\n",
            "100/100 [==============================] - 18s 181ms/step - loss: 0.0068 - acc: 0.9995 - val_loss: 0.3706 - val_acc: 0.9340\n",
            "Epoch 78/100\n",
            "100/100 [==============================] - 18s 179ms/step - loss: 0.0037 - acc: 0.9995 - val_loss: 0.3577 - val_acc: 0.9410\n",
            "Epoch 79/100\n",
            "100/100 [==============================] - 18s 180ms/step - loss: 0.0042 - acc: 0.9990 - val_loss: 0.4297 - val_acc: 0.9350\n",
            "Epoch 80/100\n",
            "100/100 [==============================] - 18s 179ms/step - loss: 0.0096 - acc: 0.9975 - val_loss: 0.4383 - val_acc: 0.9270\n",
            "Epoch 81/100\n",
            "100/100 [==============================] - 18s 180ms/step - loss: 0.0029 - acc: 0.9995 - val_loss: 0.3849 - val_acc: 0.9330\n",
            "Epoch 82/100\n",
            "100/100 [==============================] - 18s 179ms/step - loss: 0.0014 - acc: 0.9995 - val_loss: 0.3908 - val_acc: 0.9410\n",
            "Epoch 83/100\n",
            "100/100 [==============================] - 18s 181ms/step - loss: 0.0043 - acc: 0.9995 - val_loss: 0.3677 - val_acc: 0.9430\n",
            "Epoch 84/100\n",
            "100/100 [==============================] - 18s 180ms/step - loss: 0.0027 - acc: 0.9985 - val_loss: 0.3983 - val_acc: 0.9360\n",
            "Epoch 85/100\n",
            "100/100 [==============================] - 18s 182ms/step - loss: 0.0026 - acc: 0.9995 - val_loss: 0.3870 - val_acc: 0.9370\n",
            "Epoch 86/100\n",
            "100/100 [==============================] - 18s 182ms/step - loss: 7.9676e-04 - acc: 1.0000 - val_loss: 0.4407 - val_acc: 0.9300\n",
            "Epoch 87/100\n",
            "100/100 [==============================] - 18s 179ms/step - loss: 0.0047 - acc: 0.9990 - val_loss: 0.4293 - val_acc: 0.9280\n",
            "Epoch 88/100\n",
            "100/100 [==============================] - 18s 180ms/step - loss: 2.8268e-04 - acc: 1.0000 - val_loss: 0.4367 - val_acc: 0.9270\n",
            "Epoch 89/100\n",
            "100/100 [==============================] - 18s 180ms/step - loss: 7.4201e-04 - acc: 1.0000 - val_loss: 0.3830 - val_acc: 0.9380\n",
            "Epoch 90/100\n",
            "100/100 [==============================] - 18s 181ms/step - loss: 0.0038 - acc: 0.9985 - val_loss: 0.4201 - val_acc: 0.9340\n",
            "Epoch 91/100\n",
            "100/100 [==============================] - 18s 179ms/step - loss: 9.8916e-04 - acc: 1.0000 - val_loss: 0.4763 - val_acc: 0.9320\n",
            "Epoch 92/100\n",
            "100/100 [==============================] - 18s 181ms/step - loss: 8.5687e-04 - acc: 1.0000 - val_loss: 0.4047 - val_acc: 0.9350\n",
            "Epoch 93/100\n",
            "100/100 [==============================] - 18s 181ms/step - loss: 0.0018 - acc: 0.9985 - val_loss: 0.4233 - val_acc: 0.9410\n",
            "Epoch 94/100\n",
            "100/100 [==============================] - 18s 181ms/step - loss: 3.0708e-04 - acc: 1.0000 - val_loss: 0.4628 - val_acc: 0.9350\n",
            "Epoch 95/100\n",
            "100/100 [==============================] - 18s 179ms/step - loss: 0.0017 - acc: 0.9995 - val_loss: 0.4363 - val_acc: 0.9370\n",
            "Epoch 96/100\n",
            "100/100 [==============================] - 18s 180ms/step - loss: 9.5565e-04 - acc: 0.9995 - val_loss: 0.4470 - val_acc: 0.9310\n",
            "Epoch 97/100\n",
            "100/100 [==============================] - 18s 180ms/step - loss: 0.0013 - acc: 0.9995 - val_loss: 0.4177 - val_acc: 0.9380\n",
            "Epoch 98/100\n",
            "100/100 [==============================] - 18s 180ms/step - loss: 0.0039 - acc: 0.9995 - val_loss: 0.4207 - val_acc: 0.9420\n",
            "Epoch 99/100\n",
            "100/100 [==============================] - 18s 179ms/step - loss: 6.8216e-04 - acc: 1.0000 - val_loss: 0.3927 - val_acc: 0.9360\n",
            "Epoch 100/100\n",
            "100/100 [==============================] - 18s 180ms/step - loss: 0.0018 - acc: 0.9990 - val_loss: 0.4255 - val_acc: 0.9310\n"
          ]
        }
      ]
    },
    {
      "cell_type": "code",
      "metadata": {
        "colab": {
          "base_uri": "https://localhost:8080/",
          "height": 545
        },
        "id": "8xpB4hEZP0Zk",
        "outputId": "589f9e40-61e5-4583-d57a-2edd93364a15"
      },
      "source": [
        "acc = history.history['acc']\n",
        "val_acc = history.history['val_acc']\n",
        "loss = history.history['loss']\n",
        "val_loss = history.history['val_loss']\n",
        "\n",
        "epochs = range(len(acc))\n",
        "\n",
        "plt.plot(epochs, acc, 'bo', label='Training acc')\n",
        "plt.plot(epochs, val_acc, 'b', label='Validation acc')\n",
        "plt.title('Training and validation accuracy')\n",
        "plt.legend()\n",
        "\n",
        "plt.figure()\n",
        "\n",
        "plt.plot(epochs, loss, 'bo', label='Training loss')\n",
        "plt.plot(epochs, val_loss, 'b', label='Validation loss')\n",
        "plt.title('Training and validation loss')\n",
        "plt.legend()\n",
        "\n",
        "plt.show()"
      ],
      "execution_count": 55,
      "outputs": [
        {
          "output_type": "display_data",
          "data": {
            "image/png": "[encoded data removed]",
            "text/plain": [
              "<Figure size 432x288 with 1 Axes>"
            ]
          },
          "metadata": {
            "needs_background": "light"
          }
        },
        {
          "output_type": "display_data",
          "data": {
            "image/png": "[encoded data removed]",
            "text/plain": [
              "<Figure size 432x288 with 1 Axes>"
            ]
          },
          "metadata": {
            "needs_background": "light"
          }
        }
      ]
    },
    {
      "cell_type": "code",
      "metadata": {
        "colab": {
          "base_uri": "https://localhost:8080/",
          "height": 545
        },
        "id": "IajvLMFpuEo5",
        "outputId": "0b5ba5ae-b6ff-4b71-ca4b-bd46edb7ea25"
      },
      "source": [
        "def smooth_curve(points, factor=0.8):\n",
        "  smoothed_points = []\n",
        "  for point in points:\n",
        "    if smoothed_points:\n",
        "      previous = smoothed_points[-1]\n",
        "      smoothed_points.append(previous * factor + point * (1 - factor))\n",
        "    else:\n",
        "      smoothed_points.append(point)\n",
        "  return smoothed_points\n",
        "\n",
        "plt.plot(epochs,\n",
        "         smooth_curve(acc), 'bo', label='Smoothed training acc')\n",
        "plt.plot(epochs,\n",
        "         smooth_curve(val_acc), 'b', label='Smoothed validation acc')\n",
        "plt.title('Training and validation accuracy')\n",
        "plt.legend()\n",
        "\n",
        "plt.figure()\n",
        "\n",
        "plt.plot(epochs,\n",
        "         smooth_curve(loss), 'bo', label='Smoothed training loss')\n",
        "plt.plot(epochs,\n",
        "         smooth_curve(val_loss), 'b', label='Smoothed validation loss')\n",
        "plt.title('Training and validation loss')\n",
        "plt.legend()\n",
        "\n",
        "plt.show()"
      ],
      "execution_count": 56,
      "outputs": [
        {
          "output_type": "display_data",
          "data": {
            "image/png": "[encoded data removed]",
            "text/plain": [
              "<Figure size 432x288 with 1 Axes>"
            ]
          },
          "metadata": {
            "needs_background": "light"
          }
        },
        {
          "output_type": "display_data",
          "data": {
            "image/png": "[encoded data removed]",
            "text/plain": [
              "<Figure size 432x288 with 1 Axes>"
            ]
          },
          "metadata": {
            "needs_background": "light"
          }
        }
      ]
    },
    {
      "cell_type": "code",
      "metadata": {
        "colab": {
          "base_uri": "https://localhost:8080/"
        },
        "id": "Hm4fEGcIugQz",
        "outputId": "96ae2166-c4c6-4392-b3f9-46b663285d7f"
      },
      "source": [
        "test_generator = test_datagen.flow_from_directory(\n",
        "        test_dir,\n",
        "        target_size=(150, 150),\n",
        "        batch_size=20,\n",
        "        class_mode='binary')\n",
        "\n",
        "test_loss, test_acc = model.evaluate(test_generator, steps=50)\n",
        "print('test acc:', test_acc)"
      ],
      "execution_count": 58,
      "outputs": [
        {
          "output_type": "stream",
          "name": "stdout",
          "text": [
            "Found 1000 images belonging to 2 classes.\n",
            "50/50 [==============================] - 413s 8s/step - loss: 0.4782 - acc: 0.9320\n",
            "test acc: 0.9319999814033508\n"
          ]
        }
      ]
    },
    {
      "cell_type": "markdown",
      "metadata": {
        "id": "Tterk5tuumxq"
      },
      "source": [
        "93%의 테스트 정확도\n",
        "\n",
        "## 정리\n",
        "\n",
        "다음은 앞의 두 절에 있는 예제로부터 배운 것들입니다.\n",
        "\n",
        "* 컨브넷은 컴퓨터 비전 작업에 가장 뛰어난 머신 러닝 모델입니다. 아주 작은 데이터셋에서도 처음부터 훈련해서 괜찮은 성능을 낼 수 있습니다.\n",
        "* 작은 데이터셋에서는 과대적합이 큰 문제입니다. 데이터 증식은 이미지 데이터를 다룰 때 과대적합을 막을 수 있는 강력한 방법입니다.\n",
        "* 특성 추출 방식으로 새로운 데이터셋에 기존의 컨브넷을 쉽게 재사용할 수 있습니다. 작은 이미지 데이터셋으로 작업할 때 효과적인 기법입니다.\n",
        "* 특성 추출을 보완하기 위해 미세 조정을 사용할 수 있습니다. 미세 조정은 기존 모델에서 사전에 학습한 표현의 일부를 새로운 문제에 적응시킵니다. 이 기법은 조금 더 성능을 끌어올립니다.\n"
      ]
    },
    {
      "cell_type": "code",
      "metadata": {
        "id": "r-dgQxbIu9QM"
      },
      "source": [
        ""
      ],
      "execution_count": null,
      "outputs": []
    }
  ]
}
