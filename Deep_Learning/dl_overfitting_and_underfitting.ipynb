{
  "nbformat": 4,
  "nbformat_minor": 0,
  "metadata": {
    "colab": {
      "name": "dl_overfitting-and-underfitting.ipynb",
      "provenance": [],
      "machine_shape": "hm",
      "authorship_tag": "ABX9TyMELstdbBUvd5STkMlxrw6Z",
      "include_colab_link": true
    },
    "kernelspec": {
      "name": "python3",
      "display_name": "Python 3"
    },
    "language_info": {
      "name": "python"
    },
    "accelerator": "TPU"
  },
  "cells": [
    {
      "cell_type": "markdown",
      "metadata": {
        "id": "view-in-github",
        "colab_type": "text"
      },
      "source": [
        "<a href=\"https://colab.research.google.com/github/bnv20/cakd3/blob/main/dl_overfitting_and_underfitting.ipynb\" target=\"_parent\"><img src=\"https://colab.research.google.com/assets/colab-badge.svg\" alt=\"Open In Colab\"/></a>"
      ]
    },
    {
      "cell_type": "code",
      "metadata": {
        "colab": {
          "base_uri": "https://localhost:8080/"
        },
        "id": "JBigJb36Ote5",
        "outputId": "2b450e9d-21c3-4290-a4e6-58349c10ee81"
      },
      "source": [
        "from tensorflow.keras.datasets import imdb\n",
        "import numpy as np\n",
        "\n",
        "(train_data, train_labels), (test_data, test_labels) = imdb.load_data(num_words=10000)\n",
        "\n",
        "def vectorize_sequences(sequences, dimension=10000):\n",
        "    # 크기가 (len(sequences), dimension))이고 모든 원소가 0인 행렬을 만듭니다\n",
        "    results = np.zeros((len(sequences), dimension))\n",
        "    for i, sequence in enumerate(sequences):\n",
        "        results[i, sequence] = 1.  # results[i]에서 특정 인덱스의 위치를 1로 만듭니다\n",
        "    return results\n",
        "\n",
        "# 훈련 데이터를 벡터로 변환합니다\n",
        "x_train = vectorize_sequences(train_data)\n",
        "# 테스트 데이터를 벡터로 변환합니다\n",
        "x_test = vectorize_sequences(test_data)\n",
        "# 레이블을 벡터로 변환합니다\n",
        "y_train = np.asarray(train_labels).astype('float32')\n",
        "y_test = np.asarray(test_labels).astype('float32')"
      ],
      "execution_count": 1,
      "outputs": [
        {
          "output_type": "stream",
          "name": "stdout",
          "text": [
            "Downloading data from https://storage.googleapis.com/tensorflow/tf-keras-datasets/imdb.npz\n",
            "17465344/17464789 [==============================] - 0s 0us/step\n",
            "17473536/17464789 [==============================] - 0s 0us/step\n"
          ]
        }
      ]
    },
    {
      "cell_type": "code",
      "metadata": {
        "colab": {
          "base_uri": "https://localhost:8080/"
        },
        "id": "qD20OrwjWFw6",
        "outputId": "4fcc6778-5658-4428-bffb-b6dda3096a5e"
      },
      "source": [
        "x_train.shape\n",
        "x_test.shape"
      ],
      "execution_count": 15,
      "outputs": [
        {
          "output_type": "execute_result",
          "data": {
            "text/plain": [
              "(25000, 10000)"
            ]
          },
          "metadata": {},
          "execution_count": 15
        }
      ]
    },
    {
      "cell_type": "code",
      "metadata": {
        "id": "zmg7qpNRQA7a"
      },
      "source": [
        "from tensorflow.keras import models\n",
        "from tensorflow.keras import layers\n",
        "\n",
        "original_model = models.Sequential()\n",
        "original_model.add(layers.Dense(16,activation='relu',input_shape=(10000,)))\n",
        "original_model.add(layers.Dense(16,activation='relu'))\n",
        "original_model.add(layers.Dense(1,activation='sigmoid'))\n",
        "\n",
        "original_model.compile(optimizer='rmsprop',\n",
        "                       loss='binary_crossentropy',\n",
        "                       metrics=['acc'])"
      ],
      "execution_count": 3,
      "outputs": []
    },
    {
      "cell_type": "code",
      "metadata": {
        "id": "X-E_iQO4Q6z4"
      },
      "source": [
        "smaller_model = models.Sequential()\n",
        "smaller_model.add(layers.Dense(6,activation='relu',input_shape=(10000,)))\n",
        "smaller_model.add(layers.Dense(6,activation='relu'))\n",
        "smaller_model.add(layers.Dense(1,activation='sigmoid'))\n",
        "\n",
        "smaller_model.compile(optimizer='rmsprop',\n",
        "                       loss='binary_crossentropy',\n",
        "                       metrics=['acc'])"
      ],
      "execution_count": 4,
      "outputs": []
    },
    {
      "cell_type": "code",
      "metadata": {
        "colab": {
          "base_uri": "https://localhost:8080/"
        },
        "id": "ETKQBuB8RVJ4",
        "outputId": "3c4fa720-d6c9-4843-8c58-874d2d1b84f4"
      },
      "source": [
        "original_hist = original_model.fit(x_train, y_train,\n",
        "                                   epochs=20,\n",
        "                                   batch_size=512,\n",
        "                                   validation_data=(x_test,y_test))"
      ],
      "execution_count": 5,
      "outputs": [
        {
          "output_type": "stream",
          "name": "stdout",
          "text": [
            "Epoch 1/20\n",
            "49/49 [==============================] - 3s 33ms/step - loss: 0.4703 - acc: 0.8123 - val_loss: 0.3490 - val_acc: 0.8795\n",
            "Epoch 2/20\n",
            "49/49 [==============================] - 1s 16ms/step - loss: 0.2654 - acc: 0.9097 - val_loss: 0.2994 - val_acc: 0.8832\n",
            "Epoch 3/20\n",
            "49/49 [==============================] - 1s 16ms/step - loss: 0.2037 - acc: 0.9274 - val_loss: 0.3011 - val_acc: 0.8797\n",
            "Epoch 4/20\n",
            "49/49 [==============================] - 1s 16ms/step - loss: 0.1692 - acc: 0.9399 - val_loss: 0.2941 - val_acc: 0.8843\n",
            "Epoch 5/20\n",
            "49/49 [==============================] - 1s 15ms/step - loss: 0.1472 - acc: 0.9478 - val_loss: 0.3101 - val_acc: 0.8818\n",
            "Epoch 6/20\n",
            "49/49 [==============================] - 1s 17ms/step - loss: 0.1291 - acc: 0.9553 - val_loss: 0.3385 - val_acc: 0.8739\n",
            "Epoch 7/20\n",
            "49/49 [==============================] - 1s 17ms/step - loss: 0.1118 - acc: 0.9624 - val_loss: 0.3803 - val_acc: 0.8704\n",
            "Epoch 8/20\n",
            "49/49 [==============================] - 1s 17ms/step - loss: 0.1013 - acc: 0.9650 - val_loss: 0.4113 - val_acc: 0.8670\n",
            "Epoch 9/20\n",
            "49/49 [==============================] - 1s 16ms/step - loss: 0.0876 - acc: 0.9709 - val_loss: 0.4528 - val_acc: 0.8533\n",
            "Epoch 10/20\n",
            "49/49 [==============================] - 1s 14ms/step - loss: 0.0745 - acc: 0.9762 - val_loss: 0.4394 - val_acc: 0.8647\n",
            "Epoch 11/20\n",
            "49/49 [==============================] - 1s 16ms/step - loss: 0.0657 - acc: 0.9788 - val_loss: 0.5214 - val_acc: 0.8597\n",
            "Epoch 12/20\n",
            "49/49 [==============================] - 1s 16ms/step - loss: 0.0590 - acc: 0.9810 - val_loss: 0.5166 - val_acc: 0.8545\n",
            "Epoch 13/20\n",
            "49/49 [==============================] - 1s 17ms/step - loss: 0.0501 - acc: 0.9858 - val_loss: 0.5419 - val_acc: 0.8598\n",
            "Epoch 14/20\n",
            "49/49 [==============================] - 1s 16ms/step - loss: 0.0430 - acc: 0.9877 - val_loss: 0.5718 - val_acc: 0.8555\n",
            "Epoch 15/20\n",
            "49/49 [==============================] - 1s 15ms/step - loss: 0.0375 - acc: 0.9892 - val_loss: 0.6070 - val_acc: 0.8567\n",
            "Epoch 16/20\n",
            "49/49 [==============================] - 1s 16ms/step - loss: 0.0300 - acc: 0.9918 - val_loss: 0.6632 - val_acc: 0.8560\n",
            "Epoch 17/20\n",
            "49/49 [==============================] - 1s 17ms/step - loss: 0.0280 - acc: 0.9918 - val_loss: 0.6857 - val_acc: 0.8544\n",
            "Epoch 18/20\n",
            "49/49 [==============================] - 1s 16ms/step - loss: 0.0263 - acc: 0.9918 - val_loss: 0.7135 - val_acc: 0.8536\n",
            "Epoch 19/20\n",
            "49/49 [==============================] - 1s 16ms/step - loss: 0.0181 - acc: 0.9958 - val_loss: 0.7516 - val_acc: 0.8524\n",
            "Epoch 20/20\n",
            "49/49 [==============================] - 1s 16ms/step - loss: 0.0174 - acc: 0.9955 - val_loss: 0.8039 - val_acc: 0.8522\n"
          ]
        }
      ]
    },
    {
      "cell_type": "code",
      "metadata": {
        "colab": {
          "base_uri": "https://localhost:8080/"
        },
        "id": "0i4TbU7wRyAh",
        "outputId": "a37aafff-50d6-4c54-d178-e26da0a2ff02"
      },
      "source": [
        "smaller_model_hist = smaller_model.fit(x_train,y_train,\n",
        "                                       epochs=20,\n",
        "                                       batch_size=512,\n",
        "                                       validation_data=(x_test,y_test))"
      ],
      "execution_count": 7,
      "outputs": [
        {
          "output_type": "stream",
          "name": "stdout",
          "text": [
            "Epoch 1/20\n",
            "49/49 [==============================] - 2s 36ms/step - loss: 0.5927 - acc: 0.7136 - val_loss: 0.5403 - val_acc: 0.8481\n",
            "Epoch 2/20\n",
            "49/49 [==============================] - 1s 21ms/step - loss: 0.4785 - acc: 0.8540 - val_loss: 0.4733 - val_acc: 0.8430\n",
            "Epoch 3/20\n",
            "49/49 [==============================] - 1s 16ms/step - loss: 0.4081 - acc: 0.9013 - val_loss: 0.4201 - val_acc: 0.8673\n",
            "Epoch 4/20\n",
            "49/49 [==============================] - 1s 20ms/step - loss: 0.3300 - acc: 0.9250 - val_loss: 0.3547 - val_acc: 0.8849\n",
            "Epoch 5/20\n",
            "49/49 [==============================] - 1s 19ms/step - loss: 0.2544 - acc: 0.9354 - val_loss: 0.3135 - val_acc: 0.8870\n",
            "Epoch 6/20\n",
            "49/49 [==============================] - 1s 21ms/step - loss: 0.2031 - acc: 0.9433 - val_loss: 0.2977 - val_acc: 0.8857\n",
            "Epoch 7/20\n",
            "49/49 [==============================] - 1s 20ms/step - loss: 0.1712 - acc: 0.9498 - val_loss: 0.3001 - val_acc: 0.8811\n",
            "Epoch 8/20\n",
            "49/49 [==============================] - 1s 19ms/step - loss: 0.1515 - acc: 0.9544 - val_loss: 0.3017 - val_acc: 0.8814\n",
            "Epoch 9/20\n",
            "49/49 [==============================] - 1s 19ms/step - loss: 0.1351 - acc: 0.9589 - val_loss: 0.3117 - val_acc: 0.8804\n",
            "Epoch 10/20\n",
            "49/49 [==============================] - 1s 18ms/step - loss: 0.1224 - acc: 0.9645 - val_loss: 0.3227 - val_acc: 0.8770\n",
            "Epoch 11/20\n",
            "49/49 [==============================] - 1s 18ms/step - loss: 0.1116 - acc: 0.9671 - val_loss: 0.3373 - val_acc: 0.8764\n",
            "Epoch 12/20\n",
            "49/49 [==============================] - 1s 19ms/step - loss: 0.1013 - acc: 0.9711 - val_loss: 0.3655 - val_acc: 0.8682\n",
            "Epoch 13/20\n",
            "49/49 [==============================] - 1s 18ms/step - loss: 0.0924 - acc: 0.9745 - val_loss: 0.3692 - val_acc: 0.8699\n",
            "Epoch 14/20\n",
            "49/49 [==============================] - 1s 19ms/step - loss: 0.0838 - acc: 0.9776 - val_loss: 0.3853 - val_acc: 0.8708\n",
            "Epoch 15/20\n",
            "49/49 [==============================] - 1s 19ms/step - loss: 0.0755 - acc: 0.9802 - val_loss: 0.4190 - val_acc: 0.8679\n",
            "Epoch 16/20\n",
            "49/49 [==============================] - 1s 18ms/step - loss: 0.0683 - acc: 0.9835 - val_loss: 0.4285 - val_acc: 0.8634\n",
            "Epoch 17/20\n",
            "49/49 [==============================] - 1s 19ms/step - loss: 0.0618 - acc: 0.9847 - val_loss: 0.4519 - val_acc: 0.8653\n",
            "Epoch 18/20\n",
            "49/49 [==============================] - 1s 19ms/step - loss: 0.0552 - acc: 0.9873 - val_loss: 0.4741 - val_acc: 0.8630\n",
            "Epoch 19/20\n",
            "49/49 [==============================] - 1s 18ms/step - loss: 0.0500 - acc: 0.9890 - val_loss: 0.4905 - val_acc: 0.8591\n",
            "Epoch 20/20\n",
            "49/49 [==============================] - 1s 16ms/step - loss: 0.0448 - acc: 0.9902 - val_loss: 0.5139 - val_acc: 0.8568\n"
          ]
        }
      ]
    },
    {
      "cell_type": "code",
      "metadata": {
        "id": "9ruytRzHSDOh"
      },
      "source": [
        "epochs = range(1,21)\n",
        "original_val_loss = original_hist.history['val_loss']\n",
        "smaller_model_val_loss = smaller_model_hist.history['val_loss']"
      ],
      "execution_count": 9,
      "outputs": []
    },
    {
      "cell_type": "code",
      "metadata": {
        "colab": {
          "base_uri": "https://localhost:8080/",
          "height": 279
        },
        "id": "JjEpKkX2Sfb5",
        "outputId": "4fbe24c8-0429-4145-cbeb-676ad3d856df"
      },
      "source": [
        "import matplotlib.pyplot as plt\n",
        "\n",
        "plt.plot(epochs, original_val_loss, 'b+', label='Original model')\n",
        "plt.plot(epochs, smaller_model_val_loss, 'bo', label='Small model')\n",
        "plt.xlabel('Epochs')\n",
        "plt.ylabel('Validation loss')\n",
        "plt.legend()\n",
        "plt.show()"
      ],
      "execution_count": 10,
      "outputs": [
        {
          "output_type": "display_data",
          "data": {
            "image/png": "[encoded data removed]",
            "text/plain": [
              "<Figure size 432x288 with 1 Axes>"
            ]
          },
          "metadata": {
            "needs_background": "light"
          }
        }
      ]
    },
    {
      "cell_type": "code",
      "metadata": {
        "id": "2naLZ8mMTSKZ"
      },
      "source": [
        "bigger_model = models.Sequential()\n",
        "bigger_model.add(layers.Dense(1024,activation='relu',input_shape=(10000,)))\n",
        "bigger_model.add(layers.Dense(1024,activation='relu'))\n",
        "bigger_model.add(layers.Dense(1,activation='sigmoid'))\n",
        "\n",
        "bigger_model.compile(optimizer='rmsprop',\n",
        "                       loss='binary_crossentropy',\n",
        "                       metrics=['acc'])"
      ],
      "execution_count": 11,
      "outputs": []
    },
    {
      "cell_type": "code",
      "metadata": {
        "colab": {
          "base_uri": "https://localhost:8080/"
        },
        "id": "9xi8XmcRUtQj",
        "outputId": "b94aebe3-2dcf-44f5-a41a-acc1db1541da"
      },
      "source": [
        "bigger_model_hist = bigger_model.fit(x_train, y_train,\n",
        "                                     epochs=20,\n",
        "                                     batch_size=512,\n",
        "                                     validation_data=(x_test, y_test))"
      ],
      "execution_count": 12,
      "outputs": [
        {
          "output_type": "stream",
          "name": "stdout",
          "text": [
            "Epoch 1/20\n",
            "49/49 [==============================] - 8s 146ms/step - loss: 0.5561 - acc: 0.7995 - val_loss: 0.3030 - val_acc: 0.8754\n",
            "Epoch 2/20\n",
            "49/49 [==============================] - 6s 131ms/step - loss: 0.2206 - acc: 0.9109 - val_loss: 0.3157 - val_acc: 0.8701\n",
            "Epoch 3/20\n",
            "49/49 [==============================] - 6s 131ms/step - loss: 0.1181 - acc: 0.9554 - val_loss: 0.2940 - val_acc: 0.8848\n",
            "Epoch 4/20\n",
            "49/49 [==============================] - 7s 138ms/step - loss: 0.0631 - acc: 0.9842 - val_loss: 0.4437 - val_acc: 0.8854\n",
            "Epoch 5/20\n",
            "49/49 [==============================] - 7s 138ms/step - loss: 0.0027 - acc: 0.9994 - val_loss: 0.7952 - val_acc: 0.8576\n",
            "Epoch 6/20\n",
            "49/49 [==============================] - 6s 132ms/step - loss: 0.1988 - acc: 0.9847 - val_loss: 0.7236 - val_acc: 0.8367\n",
            "Epoch 7/20\n",
            "49/49 [==============================] - 6s 131ms/step - loss: 9.0024e-04 - acc: 0.9999 - val_loss: 0.7002 - val_acc: 0.8743\n",
            "Epoch 8/20\n",
            "49/49 [==============================] - 6s 131ms/step - loss: 5.7638e-05 - acc: 1.0000 - val_loss: 0.8066 - val_acc: 0.8799\n",
            "Epoch 9/20\n",
            "49/49 [==============================] - 6s 129ms/step - loss: 6.5897e-06 - acc: 1.0000 - val_loss: 0.9550 - val_acc: 0.8799\n",
            "Epoch 10/20\n",
            "49/49 [==============================] - 6s 132ms/step - loss: 0.2408 - acc: 0.9866 - val_loss: 0.9659 - val_acc: 0.8622\n",
            "Epoch 11/20\n",
            "49/49 [==============================] - 6s 126ms/step - loss: 2.0673e-04 - acc: 0.9999 - val_loss: 0.7831 - val_acc: 0.8822\n",
            "Epoch 12/20\n",
            "49/49 [==============================] - 6s 124ms/step - loss: 5.1271e-06 - acc: 1.0000 - val_loss: 0.8168 - val_acc: 0.8830\n",
            "Epoch 13/20\n",
            "49/49 [==============================] - 6s 126ms/step - loss: 1.9745e-06 - acc: 1.0000 - val_loss: 0.8976 - val_acc: 0.8822\n",
            "Epoch 14/20\n",
            "49/49 [==============================] - 6s 125ms/step - loss: 5.7345e-07 - acc: 1.0000 - val_loss: 1.0229 - val_acc: 0.8830\n",
            "Epoch 15/20\n",
            "49/49 [==============================] - 6s 124ms/step - loss: 1.3009e-07 - acc: 1.0000 - val_loss: 1.1486 - val_acc: 0.8833\n",
            "Epoch 16/20\n",
            "49/49 [==============================] - 6s 126ms/step - loss: 3.4357e-08 - acc: 1.0000 - val_loss: 1.2410 - val_acc: 0.8828\n",
            "Epoch 17/20\n",
            "49/49 [==============================] - 6s 126ms/step - loss: 1.4820e-08 - acc: 1.0000 - val_loss: 1.2890 - val_acc: 0.8830\n",
            "Epoch 18/20\n",
            "49/49 [==============================] - 6s 121ms/step - loss: 9.1677e-09 - acc: 1.0000 - val_loss: 1.3190 - val_acc: 0.8826\n",
            "Epoch 19/20\n",
            "49/49 [==============================] - 6s 119ms/step - loss: 6.6798e-09 - acc: 1.0000 - val_loss: 1.3393 - val_acc: 0.8824\n",
            "Epoch 20/20\n",
            "49/49 [==============================] - 6s 113ms/step - loss: 5.2977e-09 - acc: 1.0000 - val_loss: 1.3546 - val_acc: 0.8823\n"
          ]
        }
      ]
    },
    {
      "cell_type": "code",
      "metadata": {
        "colab": {
          "base_uri": "https://localhost:8080/",
          "height": 282
        },
        "id": "Ylj4XlNlUwoa",
        "outputId": "c511be09-dab2-4f57-fe6f-2340608d92b7"
      },
      "source": [
        "bigger_model_val_loss = bigger_model_hist.history['val_loss']\n",
        "\n",
        "plt.plot(epochs, original_val_loss, 'b+', label='Original model')\n",
        "plt.plot(epochs, bigger_model_val_loss, 'bo', label='Bigger model')\n",
        "plt.xlabel('Epochs')\n",
        "plt.ylabel('Validation loss')\n",
        "plt.legend()\n",
        "plt.show()"
      ],
      "execution_count": 13,
      "outputs": [
        {
          "output_type": "display_data",
          "data": {
            "image/png": "[encoded data removed]",
            "text/plain": [
              "<Figure size 432x288 with 1 Axes>"
            ]
          },
          "metadata": {
            "needs_background": "light"
          }
        }
      ]
    },
    {
      "cell_type": "code",
      "metadata": {
        "colab": {
          "base_uri": "https://localhost:8080/",
          "height": 279
        },
        "id": "IcxGV-y0VeeR",
        "outputId": "06249bb7-21b9-44f3-9347-5a69dbb038ac"
      },
      "source": [
        "original_train_loss = original_hist.history['loss']\n",
        "bigger_model_train_loss = bigger_model_hist.history['loss']\n",
        "\n",
        "plt.plot(epochs,original_train_loss,'b+',label='Original model')\n",
        "plt.plot(epochs,bigger_model_train_loss,'bo',label='Bigger model')\n",
        "plt.xlabel('Epochs')\n",
        "plt.ylabel('Traing loss')\n",
        "plt.legend()\n",
        "plt.show()"
      ],
      "execution_count": 16,
      "outputs": [
        {
          "output_type": "display_data",
          "data": {
            "image/png": "[encoded data removed]",
            "text/plain": [
              "<Figure size 432x288 with 1 Axes>"
            ]
          },
          "metadata": {
            "needs_background": "light"
          }
        }
      ]
    },
    {
      "cell_type": "markdown",
      "metadata": {
        "id": "Sh_E7u4eapwy"
      },
      "source": [
        "용량이 큰 네트워크는 훈련 손실이 빠르게 0에 가까워진다. 용량이 많은 네트워크일수록 더 빠르게 훈련 데이터를 모델링힐 수 있어서 훈련 손실이 낮아진다. 하지만 더욱 과대적합에 민감해진다.(훈련과 검증 손실 사이에 큰 차이가 발생)"
      ]
    },
    {
      "cell_type": "code",
      "metadata": {
        "id": "waVrEEmobGCA"
      },
      "source": [
        "from tensorflow.keras import regularizers\n",
        "\n",
        "l2_model = models.Sequential()\n",
        "l2_model.add(layers.Dense(16,kernel_regularizer=regularizers.l2(0.001),\n",
        "                          activation='relu',input_shape=(10000,)))\n",
        "l2_model.add(layers.Dense(16,kernel_regularizer=regularizers.l2(0.001),\n",
        "                          activation='relu'))\n",
        "l2_model.add(layers.Dense(1,activation='sigmoid'))"
      ],
      "execution_count": 18,
      "outputs": []
    },
    {
      "cell_type": "code",
      "metadata": {
        "id": "siyn0bNNddR4"
      },
      "source": [
        "l2_model.compile(optimizer='rmsprop',\n",
        "                 loss='binary_crossentropy',\n",
        "                 metrics=['acc'])"
      ],
      "execution_count": 20,
      "outputs": []
    },
    {
      "cell_type": "code",
      "metadata": {
        "colab": {
          "base_uri": "https://localhost:8080/"
        },
        "id": "1fCwWUK6dtRx",
        "outputId": "3c06662c-e71d-4f01-b52f-fa68c5ace0e7"
      },
      "source": [
        "l2_model_hist = l2_model.fit(x_train,y_train,\n",
        "                             epochs=20,\n",
        "                             batch_size=512,\n",
        "                             validation_data=(x_test,y_test))"
      ],
      "execution_count": 21,
      "outputs": [
        {
          "output_type": "stream",
          "name": "stdout",
          "text": [
            "Epoch 1/20\n",
            "49/49 [==============================] - 2s 30ms/step - loss: 0.5673 - acc: 0.8247 - val_loss: 0.4564 - val_acc: 0.8653\n",
            "Epoch 2/20\n",
            "49/49 [==============================] - 1s 22ms/step - loss: 0.3762 - acc: 0.8928 - val_loss: 0.3641 - val_acc: 0.8845\n",
            "Epoch 3/20\n",
            "49/49 [==============================] - 1s 19ms/step - loss: 0.3095 - acc: 0.9110 - val_loss: 0.3486 - val_acc: 0.8840\n",
            "Epoch 4/20\n",
            "49/49 [==============================] - 1s 18ms/step - loss: 0.2808 - acc: 0.9178 - val_loss: 0.3367 - val_acc: 0.8884\n",
            "Epoch 5/20\n",
            "49/49 [==============================] - 1s 19ms/step - loss: 0.2637 - acc: 0.9257 - val_loss: 0.3423 - val_acc: 0.8861\n",
            "Epoch 6/20\n",
            "49/49 [==============================] - 1s 20ms/step - loss: 0.2532 - acc: 0.9288 - val_loss: 0.3510 - val_acc: 0.8820\n",
            "Epoch 7/20\n",
            "49/49 [==============================] - 1s 19ms/step - loss: 0.2441 - acc: 0.9344 - val_loss: 0.3487 - val_acc: 0.8843\n",
            "Epoch 8/20\n",
            "49/49 [==============================] - 1s 19ms/step - loss: 0.2375 - acc: 0.9359 - val_loss: 0.3658 - val_acc: 0.8754\n",
            "Epoch 9/20\n",
            "49/49 [==============================] - 1s 18ms/step - loss: 0.2317 - acc: 0.9385 - val_loss: 0.3680 - val_acc: 0.8761\n",
            "Epoch 10/20\n",
            "49/49 [==============================] - 1s 18ms/step - loss: 0.2292 - acc: 0.9384 - val_loss: 0.3637 - val_acc: 0.8780\n",
            "Epoch 11/20\n",
            "49/49 [==============================] - 1s 19ms/step - loss: 0.2222 - acc: 0.9415 - val_loss: 0.4207 - val_acc: 0.8613\n",
            "Epoch 12/20\n",
            "49/49 [==============================] - 1s 19ms/step - loss: 0.2203 - acc: 0.9404 - val_loss: 0.3850 - val_acc: 0.8720\n",
            "Epoch 13/20\n",
            "49/49 [==============================] - 1s 20ms/step - loss: 0.2160 - acc: 0.9430 - val_loss: 0.3757 - val_acc: 0.8770\n",
            "Epoch 14/20\n",
            "49/49 [==============================] - 1s 19ms/step - loss: 0.2143 - acc: 0.9436 - val_loss: 0.3786 - val_acc: 0.8760\n",
            "Epoch 15/20\n",
            "49/49 [==============================] - 1s 18ms/step - loss: 0.2097 - acc: 0.9458 - val_loss: 0.4106 - val_acc: 0.8654\n",
            "Epoch 16/20\n",
            "49/49 [==============================] - 1s 18ms/step - loss: 0.2117 - acc: 0.9439 - val_loss: 0.3908 - val_acc: 0.8725\n",
            "Epoch 17/20\n",
            "49/49 [==============================] - 1s 19ms/step - loss: 0.2041 - acc: 0.9472 - val_loss: 0.3926 - val_acc: 0.8731\n",
            "Epoch 18/20\n",
            "49/49 [==============================] - 1s 19ms/step - loss: 0.2058 - acc: 0.9458 - val_loss: 0.3942 - val_acc: 0.8729\n",
            "Epoch 19/20\n",
            "49/49 [==============================] - 1s 20ms/step - loss: 0.2016 - acc: 0.9482 - val_loss: 0.4442 - val_acc: 0.8614\n",
            "Epoch 20/20\n",
            "49/49 [==============================] - 1s 17ms/step - loss: 0.1992 - acc: 0.9490 - val_loss: 0.4021 - val_acc: 0.8710\n"
          ]
        }
      ]
    },
    {
      "cell_type": "code",
      "metadata": {
        "colab": {
          "base_uri": "https://localhost:8080/",
          "height": 279
        },
        "id": "qKSWbi0reGvX",
        "outputId": "85c2ff81-ccef-4073-be89-21a9ca611e00"
      },
      "source": [
        "l2_model_val_loss = l2_model_hist.history['val_loss']\n",
        "\n",
        "plt.plot(epochs,original_val_loss,'b+',label='Original model')\n",
        "plt.plot(epochs,l2_model_val_loss,'bo',label='L2-regularized model')\n",
        "plt.xlabel('Epochs')\n",
        "plt.ylabel('Validation loss')\n",
        "plt.legend()\n",
        "plt.show()"
      ],
      "execution_count": 22,
      "outputs": [
        {
          "output_type": "display_data",
          "data": {
            "image/png": "[encoded data removed]",
            "text/plain": [
              "<Figure size 432x288 with 1 Axes>"
            ]
          },
          "metadata": {
            "needs_background": "light"
          }
        }
      ]
    },
    {
      "cell_type": "markdown",
      "metadata": {
        "id": "Q5JdGgA0e9xa"
      },
      "source": [
        "두 모델이 동일한 파라미터 수를 가지고 있더라도 L2 규제를 사용한 모델이 기본 모델 보다 훨씬 더 과대적합에 잘 견디고 있음"
      ]
    },
    {
      "cell_type": "code",
      "metadata": {
        "id": "eKVVg-xse20L"
      },
      "source": [
        "# [과제] l1(0.001) 모델과 비교"
      ],
      "execution_count": null,
      "outputs": []
    },
    {
      "cell_type": "code",
      "metadata": {
        "id": "i6YLiGqKhQHU"
      },
      "source": [
        "dpt_model = models.Sequential()\n",
        "dpt_model.add(layers.Dense(16, activation='relu',input_shape=(10000,)))\n",
        "dpt_model.add(layers.Dropout(0.5))\n",
        "dpt_model.add(layers.Dense(16, activation='relu'))\n",
        "dpt_model.add(layers.Dropout(0.5))\n",
        "dpt_model.add(layers.Dense(1,activation='sigmoid'))\n",
        "\n",
        "dpt_model.compile(optimizer='rmsprop',\n",
        "                  loss='binary_crossentropy',\n",
        "                  metrics=['acc'])"
      ],
      "execution_count": 23,
      "outputs": []
    },
    {
      "cell_type": "code",
      "metadata": {
        "colab": {
          "base_uri": "https://localhost:8080/"
        },
        "id": "kuJk9N1-iLbJ",
        "outputId": "9e08657a-7f4c-49fb-e834-83e1e57ea51e"
      },
      "source": [
        "dpt_model_hist = dpt_model.fit(x_train,y_train,\n",
        "                               epochs=20,\n",
        "                               batch_size=512,\n",
        "                               validation_data=(x_test,y_test))"
      ],
      "execution_count": 24,
      "outputs": [
        {
          "output_type": "stream",
          "name": "stdout",
          "text": [
            "Epoch 1/20\n",
            "49/49 [==============================] - 2s 27ms/step - loss: 0.5920 - acc: 0.6935 - val_loss: 0.4426 - val_acc: 0.8666\n",
            "Epoch 2/20\n",
            "49/49 [==============================] - 1s 17ms/step - loss: 0.4449 - acc: 0.8244 - val_loss: 0.3380 - val_acc: 0.8833\n",
            "Epoch 3/20\n",
            "49/49 [==============================] - 1s 18ms/step - loss: 0.3576 - acc: 0.8693 - val_loss: 0.2960 - val_acc: 0.8876\n",
            "Epoch 4/20\n",
            "49/49 [==============================] - 1s 18ms/step - loss: 0.2986 - acc: 0.8963 - val_loss: 0.2934 - val_acc: 0.8857\n",
            "Epoch 5/20\n",
            "49/49 [==============================] - 1s 18ms/step - loss: 0.2589 - acc: 0.9123 - val_loss: 0.2866 - val_acc: 0.8833\n",
            "Epoch 6/20\n",
            "49/49 [==============================] - 1s 16ms/step - loss: 0.2274 - acc: 0.9242 - val_loss: 0.2957 - val_acc: 0.8881\n",
            "Epoch 7/20\n",
            "49/49 [==============================] - 1s 16ms/step - loss: 0.2030 - acc: 0.9336 - val_loss: 0.3096 - val_acc: 0.8844\n",
            "Epoch 8/20\n",
            "49/49 [==============================] - 1s 17ms/step - loss: 0.1831 - acc: 0.9369 - val_loss: 0.3299 - val_acc: 0.8847\n",
            "Epoch 9/20\n",
            "49/49 [==============================] - 1s 17ms/step - loss: 0.1740 - acc: 0.9427 - val_loss: 0.3417 - val_acc: 0.8823\n",
            "Epoch 10/20\n",
            "49/49 [==============================] - 1s 18ms/step - loss: 0.1589 - acc: 0.9486 - val_loss: 0.3730 - val_acc: 0.8746\n",
            "Epoch 11/20\n",
            "49/49 [==============================] - 1s 19ms/step - loss: 0.1456 - acc: 0.9505 - val_loss: 0.4165 - val_acc: 0.8812\n",
            "Epoch 12/20\n",
            "49/49 [==============================] - 1s 18ms/step - loss: 0.1383 - acc: 0.9528 - val_loss: 0.4169 - val_acc: 0.8781\n",
            "Epoch 13/20\n",
            "49/49 [==============================] - 1s 17ms/step - loss: 0.1289 - acc: 0.9562 - val_loss: 0.4681 - val_acc: 0.8785\n",
            "Epoch 14/20\n",
            "49/49 [==============================] - 1s 17ms/step - loss: 0.1244 - acc: 0.9588 - val_loss: 0.4592 - val_acc: 0.8774\n",
            "Epoch 15/20\n",
            "49/49 [==============================] - 1s 17ms/step - loss: 0.1249 - acc: 0.9584 - val_loss: 0.4942 - val_acc: 0.8768\n",
            "Epoch 16/20\n",
            "49/49 [==============================] - 1s 19ms/step - loss: 0.1199 - acc: 0.9605 - val_loss: 0.5100 - val_acc: 0.8766\n",
            "Epoch 17/20\n",
            "49/49 [==============================] - 1s 17ms/step - loss: 0.1125 - acc: 0.9638 - val_loss: 0.5187 - val_acc: 0.8756\n",
            "Epoch 18/20\n",
            "49/49 [==============================] - 1s 17ms/step - loss: 0.1064 - acc: 0.9642 - val_loss: 0.5501 - val_acc: 0.8743\n",
            "Epoch 19/20\n",
            "49/49 [==============================] - 1s 17ms/step - loss: 0.1041 - acc: 0.9641 - val_loss: 0.5645 - val_acc: 0.8708\n",
            "Epoch 20/20\n",
            "49/49 [==============================] - 1s 17ms/step - loss: 0.1071 - acc: 0.9626 - val_loss: 0.5727 - val_acc: 0.8718\n"
          ]
        }
      ]
    },
    {
      "cell_type": "code",
      "metadata": {
        "colab": {
          "base_uri": "https://localhost:8080/",
          "height": 279
        },
        "id": "E8xT4RIbiaZ7",
        "outputId": "f0b30f02-e6bc-4e65-c933-906dfdf5a1dc"
      },
      "source": [
        "dpt_model_val_loss = dpt_model_hist.history['val_loss']\n",
        "plt.plot(epochs,original_val_loss,'b+',label='Original model')\n",
        "plt.plot(epochs,dpt_model_val_loss,'bo',label='Dropout-regularized model')\n",
        "plt.xlabel('Epochs')\n",
        "plt.ylabel('Validation loss')\n",
        "plt.legend()\n",
        "plt.show()"
      ],
      "execution_count": 25,
      "outputs": [
        {
          "output_type": "display_data",
          "data": {
            "image/png": "[encoded data removed]",
            "text/plain": [
              "<Figure size 432x288 with 1 Axes>"
            ]
          },
          "metadata": {
            "needs_background": "light"
          }
        }
      ]
    },
    {
      "cell_type": "markdown",
      "metadata": {
        "id": "S1m1Z8dJi6D7"
      },
      "source": [
        "신경망에서 과대적합을 방지하기 위한 방법\n",
        "- 훈련 데이터를 더 모은다.\n",
        "- 네트워크의 용량을 감소 시킨다.\n",
        "- 가중치 규제를 추가한다.\n",
        "- 드롭아웃을 추가한다."
      ]
    }
  ]
}
