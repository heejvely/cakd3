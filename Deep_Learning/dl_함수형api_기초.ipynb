{
  "nbformat": 4,
  "nbformat_minor": 0,
  "metadata": {
    "colab": {
      "name": "dl_함수형api_기초.ipynb",
      "provenance": [],
      "machine_shape": "hm",
      "mount_file_id": "1hprO6xItDWMqcVaoN-SnBZgGddEuaA-1",
      "authorship_tag": "ABX9TyPsOnnXGW98xtah4t5guVGO",
      "include_colab_link": true
    },
    "kernelspec": {
      "name": "python3",
      "display_name": "Python 3"
    },
    "language_info": {
      "name": "python"
    },
    "accelerator": "GPU"
  },
  "cells": [
    {
      "cell_type": "markdown",
      "metadata": {
        "id": "view-in-github",
        "colab_type": "text"
      },
      "source": [
        "<a href=\"https://colab.research.google.com/github/bnv20/cakd3/blob/main/dl_%ED%95%A8%EC%88%98%ED%98%95api_%EA%B8%B0%EC%B4%88.ipynb\" target=\"_parent\"><img src=\"https://colab.research.google.com/assets/colab-badge.svg\" alt=\"Open In Colab\"/></a>"
      ]
    },
    {
      "cell_type": "code",
      "metadata": {
        "colab": {
          "base_uri": "https://localhost:8080/"
        },
        "id": "qIL0nOctAkgY",
        "outputId": "5123ee35-498b-45b1-aa1b-d5acb552a8c4"
      },
      "source": [
        "from tensorflow.keras.models import Sequential, Model\n",
        "from tensorflow.keras import layers\n",
        "from tensorflow.keras import Input\n",
        "\n",
        "seq_model = Sequential()\n",
        "seq_model.add(layers.Dense(32,activation='relu',input_shape=(64,)))\n",
        "seq_model.add(layers.Dense(32,activation='relu'))\n",
        "seq_model.add(layers.Dense(10,activation='softmax'))\n",
        "\n",
        "seq_model.summary()\n",
        "\n"
      ],
      "execution_count": 1,
      "outputs": [
        {
          "output_type": "stream",
          "name": "stdout",
          "text": [
            "Model: \"sequential\"\n",
            "_________________________________________________________________\n",
            "Layer (type)                 Output Shape              Param #   \n",
            "=================================================================\n",
            "dense (Dense)                (None, 32)                2080      \n",
            "_________________________________________________________________\n",
            "dense_1 (Dense)              (None, 32)                1056      \n",
            "_________________________________________________________________\n",
            "dense_2 (Dense)              (None, 10)                330       \n",
            "=================================================================\n",
            "Total params: 3,466\n",
            "Trainable params: 3,466\n",
            "Non-trainable params: 0\n",
            "_________________________________________________________________\n"
          ]
        }
      ]
    },
    {
      "cell_type": "code",
      "metadata": {
        "colab": {
          "base_uri": "https://localhost:8080/"
        },
        "id": "KaDU-MdTCJas",
        "outputId": "ef72ca56-76e7-4655-abf8-3bd4152c6f80"
      },
      "source": [
        "# 함수형 api\n",
        "\n",
        "from tensorflow.keras.models import Model\n",
        "from tensorflow.keras import layers\n",
        "from tensorflow.keras import Input\n",
        "\n",
        "input_tensor = Input(shape=(64,))\n",
        "x = layers.Dense(32, activation='relu')(input_tensor)\n",
        "x = layers.Dense(32, activation='relu')(x)\n",
        "output_tensor = layers.Dense(10,activation='softmax')(x)\n",
        "\n",
        "model = Model(input_tensor,output_tensor)\n",
        "model.summary()"
      ],
      "execution_count": 2,
      "outputs": [
        {
          "output_type": "stream",
          "name": "stdout",
          "text": [
            "Model: \"model\"\n",
            "_________________________________________________________________\n",
            "Layer (type)                 Output Shape              Param #   \n",
            "=================================================================\n",
            "input_1 (InputLayer)         [(None, 64)]              0         \n",
            "_________________________________________________________________\n",
            "dense_3 (Dense)              (None, 32)                2080      \n",
            "_________________________________________________________________\n",
            "dense_4 (Dense)              (None, 32)                1056      \n",
            "_________________________________________________________________\n",
            "dense_5 (Dense)              (None, 10)                330       \n",
            "=================================================================\n",
            "Total params: 3,466\n",
            "Trainable params: 3,466\n",
            "Non-trainable params: 0\n",
            "_________________________________________________________________\n"
          ]
        }
      ]
    },
    {
      "cell_type": "code",
      "metadata": {
        "colab": {
          "base_uri": "https://localhost:8080/"
        },
        "id": "2NGOp-WeD1Qi",
        "outputId": "6d1baaf3-0ab7-4704-874a-a374f4c7921e"
      },
      "source": [
        "import numpy as np\n",
        "data = np.random.random((1000,64))\n",
        "data.shape"
      ],
      "execution_count": 4,
      "outputs": [
        {
          "output_type": "execute_result",
          "data": {
            "text/plain": [
              "(1000, 64)"
            ]
          },
          "metadata": {},
          "execution_count": 4
        }
      ]
    },
    {
      "cell_type": "code",
      "metadata": {
        "colab": {
          "base_uri": "https://localhost:8080/"
        },
        "id": "yAHsc592C-gA",
        "outputId": "4c35103c-3f21-4105-f807-4747ee39e160"
      },
      "source": [
        "import numpy as np\n",
        "model.compile(optimizer='rmsprop',loss='categorical_crossentropy')\n",
        "\n",
        "x_train = np.random.random((1000,64))\n",
        "y_train = np.random.random((1000,10))\n",
        "\n",
        "model.fit(x_train,y_train, epochs=10, batch_size=128)\n",
        "score = model.evaluate(x_train,y_train)"
      ],
      "execution_count": 5,
      "outputs": [
        {
          "output_type": "stream",
          "name": "stdout",
          "text": [
            "Epoch 1/10\n",
            "8/8 [==============================] - 2s 2ms/step - loss: 11.7517\n",
            "Epoch 2/10\n",
            "8/8 [==============================] - 0s 2ms/step - loss: 12.2881\n",
            "Epoch 3/10\n",
            "8/8 [==============================] - 0s 2ms/step - loss: 13.4372\n",
            "Epoch 4/10\n",
            "8/8 [==============================] - 0s 2ms/step - loss: 15.3194\n",
            "Epoch 5/10\n",
            "8/8 [==============================] - 0s 2ms/step - loss: 17.8700\n",
            "Epoch 6/10\n",
            "8/8 [==============================] - 0s 2ms/step - loss: 20.6129\n",
            "Epoch 7/10\n",
            "8/8 [==============================] - 0s 2ms/step - loss: 23.5283\n",
            "Epoch 8/10\n",
            "8/8 [==============================] - 0s 2ms/step - loss: 26.7562\n",
            "Epoch 9/10\n",
            "8/8 [==============================] - 0s 2ms/step - loss: 30.2686\n",
            "Epoch 10/10\n",
            "8/8 [==============================] - 0s 2ms/step - loss: 34.3164\n",
            "32/32 [==============================] - 0s 1ms/step - loss: 36.8701\n"
          ]
        }
      ]
    },
    {
      "cell_type": "code",
      "metadata": {
        "colab": {
          "base_uri": "https://localhost:8080/"
        },
        "id": "DGrzWbMXETWc",
        "outputId": "157e4ad1-c546-49b9-fcb9-67c04f688fe7"
      },
      "source": [
        "score"
      ],
      "execution_count": 6,
      "outputs": [
        {
          "output_type": "execute_result",
          "data": {
            "text/plain": [
              "36.87006378173828"
            ]
          },
          "metadata": {},
          "execution_count": 6
        }
      ]
    },
    {
      "cell_type": "code",
      "metadata": {
        "id": "p0lgdFS3EdCp"
      },
      "source": [
        "# 다중 입력모델\n",
        "\n",
        "from tensorflow.keras.models import Model\n",
        "from tensorflow.keras import layers\n",
        "from tensorflow.keras import Input\n",
        "\n",
        "text_vocabulary_size = 10000\n",
        "question_vocabulary_size = 10000\n",
        "answer_vocabulary_size = 500\n",
        "\n",
        "text_input = Input(shape=(None,),\n",
        "                   dtype='int32',\n",
        "                   name='text')\n",
        "embedded_text = layers.Embedding(\n",
        "    text_vocabulary_size,64)(text_input)\n",
        "\n",
        "encoded_text = layers.LSTM(32)(embedded_text)\n",
        "\n",
        "question_input = Input(shape=(None,),\n",
        "                       dtype='int32',\n",
        "                       name='question')\n",
        "embedded_question = layers.Embedding(\n",
        "    question_vocabulary_size,32)(question_input)\n",
        "encoded_question = layers.LSTM(16)(embedded_question)\n",
        "\n",
        "concatenated = layers.concatenate([encoded_text, encoded_question], axis=-1)\n",
        "\n",
        "answer = layers.Dense(answer_vocabulary_size, activation='softmax')(concatenated)\n",
        "\n",
        "model = Model([text_input,question_input], answer)\n",
        "model.compile(optimizer='rmsprop',\n",
        "              loss='categorical_crossentropy',\n",
        "              metrics=['acc'])\n",
        "  \n"
      ],
      "execution_count": 7,
      "outputs": []
    },
    {
      "cell_type": "code",
      "metadata": {
        "colab": {
          "base_uri": "https://localhost:8080/"
        },
        "id": "3qjpFXWiHDKp",
        "outputId": "082b9f85-1bb0-415a-afe7-fb3076f4b62a"
      },
      "source": [
        "import numpy as np\n",
        "text_vocabulary_size = 10000\n",
        "question_vocabulary_size = 10000\n",
        "answer_vocabulary_size = 500\n",
        "num_samples = 1000\n",
        "max_length = 100\n",
        "\n",
        "text = np.random.randint(1, text_vocabulary_size,\n",
        "                         size=(num_samples,max_length))\n",
        "text.shape"
      ],
      "execution_count": 9,
      "outputs": [
        {
          "output_type": "execute_result",
          "data": {
            "text/plain": [
              "(1000, 100)"
            ]
          },
          "metadata": {},
          "execution_count": 9
        }
      ]
    },
    {
      "cell_type": "code",
      "metadata": {
        "colab": {
          "base_uri": "https://localhost:8080/"
        },
        "id": "6uycJQHZHodd",
        "outputId": "d17fa0b3-215e-4562-dee0-d2e8e3568676"
      },
      "source": [
        "from tensorflow.keras.utils import to_categorical\n",
        "\n",
        "num_sample = 1000\n",
        "max_length = 100\n",
        "\n",
        "text = np.random.randint(1, text_vocabulary_size,\n",
        "                         size=(num_samples, max_length))\n",
        "\n",
        "question = np.random.randint(1,question_vocabulary_size,\n",
        "                             size=(num_samples, max_length))\n",
        "\n",
        "answers = np.random.randint(0, answer_vocabulary_size, size=num_samples)\n",
        "\n",
        "answers = to_categorical(answers)\n",
        "\n",
        "model.fit([text,question],answers,epochs=10,batch_size=128)\n",
        "\n"
      ],
      "execution_count": 10,
      "outputs": [
        {
          "output_type": "stream",
          "name": "stdout",
          "text": [
            "Epoch 1/10\n",
            "8/8 [==============================] - 4s 13ms/step - loss: 6.2144 - acc: 0.0030\n",
            "Epoch 2/10\n",
            "8/8 [==============================] - 0s 12ms/step - loss: 6.1975 - acc: 0.0430\n",
            "Epoch 3/10\n",
            "8/8 [==============================] - 0s 12ms/step - loss: 6.1475 - acc: 0.0100\n",
            "Epoch 4/10\n",
            "8/8 [==============================] - 0s 11ms/step - loss: 6.0608 - acc: 0.0070\n",
            "Epoch 5/10\n",
            "8/8 [==============================] - 0s 11ms/step - loss: 5.9508 - acc: 0.0120\n",
            "Epoch 6/10\n",
            "8/8 [==============================] - 0s 11ms/step - loss: 5.8309 - acc: 0.0360\n",
            "Epoch 7/10\n",
            "8/8 [==============================] - 0s 11ms/step - loss: 5.7379 - acc: 0.0360\n",
            "Epoch 8/10\n",
            "8/8 [==============================] - 0s 11ms/step - loss: 5.6756 - acc: 0.0320\n",
            "Epoch 9/10\n",
            "8/8 [==============================] - 0s 11ms/step - loss: 5.5934 - acc: 0.0340\n",
            "Epoch 10/10\n",
            "8/8 [==============================] - 0s 11ms/step - loss: 5.5320 - acc: 0.0310\n"
          ]
        },
        {
          "output_type": "execute_result",
          "data": {
            "text/plain": [
              "<keras.callbacks.History at 0x7f67aaad5d90>"
            ]
          },
          "metadata": {},
          "execution_count": 10
        }
      ]
    },
    {
      "cell_type": "code",
      "metadata": {
        "id": "r4WndKmQLGFs"
      },
      "source": [
        "# [과제] 다중 출력모델"
      ],
      "execution_count": null,
      "outputs": []
    }
  ]
}
