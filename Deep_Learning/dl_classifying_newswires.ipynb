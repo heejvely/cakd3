{
  "nbformat": 4,
  "nbformat_minor": 0,
  "metadata": {
    "colab": {
      "name": "dl_classifying-newswires.ipynb",
      "provenance": [],
      "machine_shape": "hm",
      "mount_file_id": "13yWGJr7jbmyvDz_loro88OJUSk0aSoVC",
      "authorship_tag": "ABX9TyOJpzfEBHj83FJTwBrM3aIA",
      "include_colab_link": true
    },
    "kernelspec": {
      "name": "python3",
      "display_name": "Python 3"
    },
    "language_info": {
      "name": "python"
    },
    "accelerator": "TPU"
  },
  "cells": [
    {
      "cell_type": "markdown",
      "metadata": {
        "id": "view-in-github",
        "colab_type": "text"
      },
      "source": [
        "<a href=\"https://colab.research.google.com/github/bnv20/cakd3/blob/main/dl_classifying_newswires.ipynb\" target=\"_parent\"><img src=\"https://colab.research.google.com/assets/colab-badge.svg\" alt=\"Open In Colab\"/></a>"
      ]
    },
    {
      "cell_type": "code",
      "metadata": {
        "id": "Ps2aotVI8mdc"
      },
      "source": [
        "import tensorflow as tf\n",
        "from tensorflow import keras"
      ],
      "execution_count": 1,
      "outputs": []
    },
    {
      "cell_type": "code",
      "metadata": {
        "colab": {
          "base_uri": "https://localhost:8080/",
          "height": 35
        },
        "id": "sUO9gbZg9b4y",
        "outputId": "0fe5b5bc-ae70-4396-ce93-69ca7d484183"
      },
      "source": [
        "tf.keras.__version__"
      ],
      "execution_count": 5,
      "outputs": [
        {
          "output_type": "execute_result",
          "data": {
            "application/vnd.google.colaboratory.intrinsic+json": {
              "type": "string"
            },
            "text/plain": [
              "'2.6.0'"
            ]
          },
          "metadata": {},
          "execution_count": 5
        }
      ]
    },
    {
      "cell_type": "code",
      "metadata": {
        "colab": {
          "base_uri": "https://localhost:8080/"
        },
        "id": "ZveEieda9xSO",
        "outputId": "2c3f0b6f-11d7-45e9-b891-c78360645ca3"
      },
      "source": [
        "from tensorflow.keras.datasets import reuters\n",
        "(train_data,train_labels),(test_data,test_labels)=reuters.load_data(num_words=10000)\n"
      ],
      "execution_count": 8,
      "outputs": [
        {
          "output_type": "stream",
          "name": "stdout",
          "text": [
            "Downloading data from https://storage.googleapis.com/tensorflow/tf-keras-datasets/reuters.npz\n",
            "2113536/2110848 [==============================] - 0s 0us/step\n",
            "2121728/2110848 [==============================] - 0s 0us/step\n"
          ]
        }
      ]
    },
    {
      "cell_type": "code",
      "metadata": {
        "colab": {
          "base_uri": "https://localhost:8080/"
        },
        "id": "HxulgrQp-kYa",
        "outputId": "018f9a3a-1381-4681-a6aa-6f008306fb8b"
      },
      "source": [
        "len(train_data)"
      ],
      "execution_count": 9,
      "outputs": [
        {
          "output_type": "execute_result",
          "data": {
            "text/plain": [
              "8982"
            ]
          },
          "metadata": {},
          "execution_count": 9
        }
      ]
    },
    {
      "cell_type": "code",
      "metadata": {
        "colab": {
          "base_uri": "https://localhost:8080/"
        },
        "id": "_JSnEEXL-r58",
        "outputId": "fa5001ce-76af-4886-8653-a41f66a446e3"
      },
      "source": [
        "len(test_data)"
      ],
      "execution_count": 10,
      "outputs": [
        {
          "output_type": "execute_result",
          "data": {
            "text/plain": [
              "2246"
            ]
          },
          "metadata": {},
          "execution_count": 10
        }
      ]
    },
    {
      "cell_type": "code",
      "metadata": {
        "colab": {
          "base_uri": "https://localhost:8080/"
        },
        "id": "YgBbPDRg-tl7",
        "outputId": "bf6092b7-d011-4b44-8f85-1ad8761aaa30"
      },
      "source": [
        "print(train_data[0])"
      ],
      "execution_count": 11,
      "outputs": [
        {
          "output_type": "stream",
          "name": "stdout",
          "text": [
            "[1, 2, 2, 8, 43, 10, 447, 5, 25, 207, 270, 5, 3095, 111, 16, 369, 186, 90, 67, 7, 89, 5, 19, 102, 6, 19, 124, 15, 90, 67, 84, 22, 482, 26, 7, 48, 4, 49, 8, 864, 39, 209, 154, 6, 151, 6, 83, 11, 15, 22, 155, 11, 15, 7, 48, 9, 4579, 1005, 504, 6, 258, 6, 272, 11, 15, 22, 134, 44, 11, 15, 16, 8, 197, 1245, 90, 67, 52, 29, 209, 30, 32, 132, 6, 109, 15, 17, 12]\n"
          ]
        }
      ]
    },
    {
      "cell_type": "code",
      "metadata": {
        "colab": {
          "base_uri": "https://localhost:8080/"
        },
        "id": "kVfvw2pU-6TT",
        "outputId": "fe1dd254-3802-4b1c-9467-7a6040908de8"
      },
      "source": [
        "import pandas as pd\n",
        "pd.Series(train_labels).nunique()"
      ],
      "execution_count": 12,
      "outputs": [
        {
          "output_type": "execute_result",
          "data": {
            "text/plain": [
              "46"
            ]
          },
          "metadata": {},
          "execution_count": 12
        }
      ]
    },
    {
      "cell_type": "code",
      "metadata": {
        "id": "cTEhGPkd_JNU"
      },
      "source": [
        "import numpy as np\n",
        "\n",
        "def vectorize_sequences(sequences, dimension=10000):\n",
        "  results = np.zeros((len(sequences),dimension))\n",
        "  for i,sequence in enumerate(sequences):\n",
        "    results[i,sequence] = 1.\n",
        "  return results\n",
        "\n",
        "x_train = vectorize_sequences(train_data)\n",
        "x_test = vectorize_sequences(test_data)"
      ],
      "execution_count": 17,
      "outputs": []
    },
    {
      "cell_type": "code",
      "metadata": {
        "colab": {
          "base_uri": "https://localhost:8080/"
        },
        "id": "BBpUgDMn_6zk",
        "outputId": "d5ac8b46-81dd-424f-e894-9b2e3a4daccf"
      },
      "source": [
        "len(x_train[0])"
      ],
      "execution_count": 18,
      "outputs": [
        {
          "output_type": "execute_result",
          "data": {
            "text/plain": [
              "10000"
            ]
          },
          "metadata": {},
          "execution_count": 18
        }
      ]
    },
    {
      "cell_type": "code",
      "metadata": {
        "id": "EYUGTEY5AASr"
      },
      "source": [
        "def to_one_hot(labels,dimension=46):\n",
        "  results = np.zeros((len(labels),dimension))\n",
        "  for i, label in enumerate(labels):\n",
        "    results[i,label] = 1. \n",
        "  return results\n",
        "\n",
        "one_hot_train_labels = to_one_hot(train_labels)\n",
        "one_hot_test_labels = to_one_hot(test_labels) "
      ],
      "execution_count": 15,
      "outputs": []
    },
    {
      "cell_type": "code",
      "metadata": {
        "colab": {
          "base_uri": "https://localhost:8080/"
        },
        "id": "SCaMdXcEA7FL",
        "outputId": "7eaa8e37-1d39-4991-8946-3459b5cd4045"
      },
      "source": [
        "len(one_hot_train_labels[0])"
      ],
      "execution_count": 16,
      "outputs": [
        {
          "output_type": "execute_result",
          "data": {
            "text/plain": [
              "46"
            ]
          },
          "metadata": {},
          "execution_count": 16
        }
      ]
    },
    {
      "cell_type": "code",
      "metadata": {
        "id": "diArzEqABEmU"
      },
      "source": [
        "# keras 내장함수\n",
        "from tensorflow.keras.utils import to_categorical\n",
        "\n",
        "one_hot_train_labels = to_categorical(train_labels)\n",
        "one_hot_test_labels = to_categorical(test_labels)"
      ],
      "execution_count": 21,
      "outputs": []
    },
    {
      "cell_type": "code",
      "metadata": {
        "id": "rOQYpIdKBanc"
      },
      "source": [
        "from tensorflow.keras import models\n",
        "from tensorflow.keras import layers\n",
        "\n",
        "model = models.Sequential()\n",
        "model.add(layers.Dense(64,activation='relu',input_shape=(10000,)))\n",
        "model.add(layers.Dense(64,activation='relu'))\n",
        "model.add(layers.Dense(46,activation='softmax'))"
      ],
      "execution_count": 22,
      "outputs": []
    },
    {
      "cell_type": "code",
      "metadata": {
        "id": "f64AtM4yDKHi"
      },
      "source": [
        "model.compile(optimizer='rmsprop',\n",
        "              loss='categorical_crossentropy',\n",
        "              metrics=['accuracy'])"
      ],
      "execution_count": 23,
      "outputs": []
    },
    {
      "cell_type": "code",
      "metadata": {
        "id": "EvKpMM_sEBgC"
      },
      "source": [
        "x_val = x_train[:1000]\n",
        "partial_x_train = x_train[1000:]\n",
        "\n",
        "y_val = one_hot_train_labels[:1000]\n",
        "partial_y_train = one_hot_train_labels[1000:]"
      ],
      "execution_count": 24,
      "outputs": []
    },
    {
      "cell_type": "code",
      "metadata": {
        "colab": {
          "base_uri": "https://localhost:8080/"
        },
        "id": "_E_BuPCDEl8s",
        "outputId": "af956e1c-7972-48a3-ada4-b09d647ea2a1"
      },
      "source": [
        "history = model.fit(partial_x_train,\n",
        "                    partial_y_train,\n",
        "                    epochs=20,\n",
        "                    batch_size=512,\n",
        "                    validation_data=(x_val,y_val))"
      ],
      "execution_count": 25,
      "outputs": [
        {
          "output_type": "stream",
          "name": "stdout",
          "text": [
            "Epoch 1/20\n",
            "16/16 [==============================] - 1s 23ms/step - loss: 2.5225 - accuracy: 0.5324 - val_loss: 1.7150 - val_accuracy: 0.6360\n",
            "Epoch 2/20\n",
            "16/16 [==============================] - 0s 12ms/step - loss: 1.3941 - accuracy: 0.7057 - val_loss: 1.3001 - val_accuracy: 0.7190\n",
            "Epoch 3/20\n",
            "16/16 [==============================] - 0s 11ms/step - loss: 1.0308 - accuracy: 0.7823 - val_loss: 1.1362 - val_accuracy: 0.7500\n",
            "Epoch 4/20\n",
            "16/16 [==============================] - 0s 11ms/step - loss: 0.8108 - accuracy: 0.8280 - val_loss: 1.0518 - val_accuracy: 0.7740\n",
            "Epoch 5/20\n",
            "16/16 [==============================] - 0s 11ms/step - loss: 0.6486 - accuracy: 0.8607 - val_loss: 0.9845 - val_accuracy: 0.7910\n",
            "Epoch 6/20\n",
            "16/16 [==============================] - 0s 11ms/step - loss: 0.5212 - accuracy: 0.8921 - val_loss: 0.9441 - val_accuracy: 0.8000\n",
            "Epoch 7/20\n",
            "16/16 [==============================] - 0s 11ms/step - loss: 0.4236 - accuracy: 0.9128 - val_loss: 0.9046 - val_accuracy: 0.8110\n",
            "Epoch 8/20\n",
            "16/16 [==============================] - 0s 11ms/step - loss: 0.3413 - accuracy: 0.9277 - val_loss: 0.9107 - val_accuracy: 0.8160\n",
            "Epoch 9/20\n",
            "16/16 [==============================] - 0s 11ms/step - loss: 0.2777 - accuracy: 0.9410 - val_loss: 0.9072 - val_accuracy: 0.8140\n",
            "Epoch 10/20\n",
            "16/16 [==============================] - 0s 11ms/step - loss: 0.2375 - accuracy: 0.9446 - val_loss: 0.9805 - val_accuracy: 0.7970\n",
            "Epoch 11/20\n",
            "16/16 [==============================] - 0s 11ms/step - loss: 0.2075 - accuracy: 0.9486 - val_loss: 0.9409 - val_accuracy: 0.8100\n",
            "Epoch 12/20\n",
            "16/16 [==============================] - 0s 11ms/step - loss: 0.1774 - accuracy: 0.9526 - val_loss: 0.9705 - val_accuracy: 0.8000\n",
            "Epoch 13/20\n",
            "16/16 [==============================] - 0s 11ms/step - loss: 0.1607 - accuracy: 0.9531 - val_loss: 0.9970 - val_accuracy: 0.8110\n",
            "Epoch 14/20\n",
            "16/16 [==============================] - 0s 11ms/step - loss: 0.1472 - accuracy: 0.9541 - val_loss: 1.0107 - val_accuracy: 0.8010\n",
            "Epoch 15/20\n",
            "16/16 [==============================] - 0s 11ms/step - loss: 0.1342 - accuracy: 0.9569 - val_loss: 1.0486 - val_accuracy: 0.7960\n",
            "Epoch 16/20\n",
            "16/16 [==============================] - 0s 11ms/step - loss: 0.1296 - accuracy: 0.9560 - val_loss: 1.0861 - val_accuracy: 0.8020\n",
            "Epoch 17/20\n",
            "16/16 [==============================] - 0s 11ms/step - loss: 0.1212 - accuracy: 0.9562 - val_loss: 1.0817 - val_accuracy: 0.7980\n",
            "Epoch 18/20\n",
            "16/16 [==============================] - 0s 11ms/step - loss: 0.1158 - accuracy: 0.9565 - val_loss: 1.0854 - val_accuracy: 0.7950\n",
            "Epoch 19/20\n",
            "16/16 [==============================] - 0s 11ms/step - loss: 0.1158 - accuracy: 0.9578 - val_loss: 1.2007 - val_accuracy: 0.7790\n",
            "Epoch 20/20\n",
            "16/16 [==============================] - 0s 11ms/step - loss: 0.1120 - accuracy: 0.9577 - val_loss: 1.1847 - val_accuracy: 0.7860\n"
          ]
        }
      ]
    },
    {
      "cell_type": "code",
      "metadata": {
        "colab": {
          "base_uri": "https://localhost:8080/",
          "height": 295
        },
        "id": "0ZfdGaAVFD5J",
        "outputId": "3ee3f0a3-d938-4212-ef3d-c369cbbec95a"
      },
      "source": [
        "import matplotlib.pyplot as plt\n",
        "\n",
        "loss = history.history['loss']\n",
        "val_loss = history.history['val_loss']\n",
        "\n",
        "epochs = range(1,len(loss)+1)\n",
        "\n",
        "plt.plot(epochs,loss,'bo',label ='Training loss')\n",
        "plt.plot(epochs,val_loss,'b',label = 'Validation loss')\n",
        "plt.title('Training and validation loss')\n",
        "plt.xlabel('Epochs')\n",
        "plt.ylabel('Loss')\n",
        "plt.legend()\n",
        "plt.show()"
      ],
      "execution_count": 26,
      "outputs": [
        {
          "output_type": "display_data",
          "data": {
            "image/png": "[encoded data removed]",
            "text/plain": [
              "<Figure size 432x288 with 1 Axes>"
            ]
          },
          "metadata": {
            "needs_background": "light"
          }
        }
      ]
    },
    {
      "cell_type": "code",
      "metadata": {
        "colab": {
          "base_uri": "https://localhost:8080/",
          "height": 295
        },
        "id": "L-_zdG56F73u",
        "outputId": "bc87a3c7-8310-4786-8132-d3ac03611f47"
      },
      "source": [
        "plt.clf() # 그래프를 초기화\n",
        "\n",
        "acc = history.history['accuracy']\n",
        "val_acc = history.history['val_accuracy']\n",
        "\n",
        "plt.plot(epochs, acc,'bo',label='Training acc')\n",
        "plt.plot(epochs, val_acc, 'b', label='Validation acc')\n",
        "plt.title('Training and validation accuracy')\n",
        "plt.xlabel('Epochs')\n",
        "plt.ylabel('Accuracy')\n",
        "plt.legend()\n",
        "plt.show()"
      ],
      "execution_count": 27,
      "outputs": [
        {
          "output_type": "display_data",
          "data": {
            "image/png": "[encoded data removed]",
            "text/plain": [
              "<Figure size 432x288 with 1 Axes>"
            ]
          },
          "metadata": {
            "needs_background": "light"
          }
        }
      ]
    },
    {
      "cell_type": "code",
      "metadata": {
        "colab": {
          "base_uri": "https://localhost:8080/"
        },
        "id": "KO6lQL9_GqhN",
        "outputId": "2950cd93-bbc6-4000-ce51-c2fbaba6c563"
      },
      "source": [
        "# 이 모델은 9번째 에포크 이후에 과대적합이 시작됩니다. 9번째 에포크로 새로운 모델을 훈련하고 테스트 세트로 평가\n",
        "model = models.Sequential()\n",
        "model.add(layers.Dense(64,activation='relu',input_shape=(10000,)))\n",
        "model.add(layers.Dense(64,activation='relu'))\n",
        "model.add(layers.Dense(46,activation='softmax'))\n",
        "\n",
        "model.compile(optimizer='rmsprop',\n",
        "              loss = 'categorical_crossentropy',\n",
        "              metrics = ['accuracy'])\n",
        "model.fit(partial_x_train,\n",
        "          partial_y_train,\n",
        "          epochs=9,\n",
        "          batch_size=512,\n",
        "          validation_data=(x_test,one_hot_test_labels))"
      ],
      "execution_count": 28,
      "outputs": [
        {
          "output_type": "stream",
          "name": "stdout",
          "text": [
            "Epoch 1/9\n",
            "16/16 [==============================] - 1s 45ms/step - loss: 2.6510 - accuracy: 0.5183 - val_loss: 1.8342 - val_accuracy: 0.6211\n",
            "Epoch 2/9\n",
            "16/16 [==============================] - 0s 12ms/step - loss: 1.4608 - accuracy: 0.7021 - val_loss: 1.4196 - val_accuracy: 0.6848\n",
            "Epoch 3/9\n",
            "16/16 [==============================] - 0s 12ms/step - loss: 1.0871 - accuracy: 0.7730 - val_loss: 1.2219 - val_accuracy: 0.7440\n",
            "Epoch 4/9\n",
            "16/16 [==============================] - 0s 12ms/step - loss: 0.8580 - accuracy: 0.8197 - val_loss: 1.1314 - val_accuracy: 0.7507\n",
            "Epoch 5/9\n",
            "16/16 [==============================] - 0s 12ms/step - loss: 0.6927 - accuracy: 0.8552 - val_loss: 1.0421 - val_accuracy: 0.7743\n",
            "Epoch 6/9\n",
            "16/16 [==============================] - 0s 12ms/step - loss: 0.5519 - accuracy: 0.8856 - val_loss: 1.0194 - val_accuracy: 0.7711\n",
            "Epoch 7/9\n",
            "16/16 [==============================] - 0s 12ms/step - loss: 0.4431 - accuracy: 0.9068 - val_loss: 1.0039 - val_accuracy: 0.7729\n",
            "Epoch 8/9\n",
            "16/16 [==============================] - 0s 12ms/step - loss: 0.3625 - accuracy: 0.9248 - val_loss: 0.9869 - val_accuracy: 0.7796\n",
            "Epoch 9/9\n",
            "16/16 [==============================] - 0s 12ms/step - loss: 0.3005 - accuracy: 0.9372 - val_loss: 0.9835 - val_accuracy: 0.7872\n"
          ]
        },
        {
          "output_type": "execute_result",
          "data": {
            "text/plain": [
              "<keras.callbacks.History at 0x7f1bedf82310>"
            ]
          },
          "metadata": {},
          "execution_count": 28
        }
      ]
    },
    {
      "cell_type": "code",
      "metadata": {
        "colab": {
          "base_uri": "https://localhost:8080/"
        },
        "id": "yATkXfIvLAWz",
        "outputId": "3513f72f-73ad-477a-aa4f-b6e0917a7026"
      },
      "source": [
        "results = model.evaluate(x_test,one_hot_test_labels)\n",
        "results"
      ],
      "execution_count": 29,
      "outputs": [
        {
          "output_type": "stream",
          "name": "stdout",
          "text": [
            "71/71 [==============================] - 0s 1ms/step - loss: 0.9835 - accuracy: 0.7872\n"
          ]
        },
        {
          "output_type": "execute_result",
          "data": {
            "text/plain": [
              "[0.9835342168807983, 0.7871772050857544]"
            ]
          },
          "metadata": {},
          "execution_count": 29
        }
      ]
    },
    {
      "cell_type": "code",
      "metadata": {
        "colab": {
          "base_uri": "https://localhost:8080/"
        },
        "id": "1eRxantwLwhl",
        "outputId": "f35ed424-7738-4b3a-b900-bd0d67c7b4b8"
      },
      "source": [
        "predictions = model.predict(x_test)\n",
        "predictions"
      ],
      "execution_count": 30,
      "outputs": [
        {
          "output_type": "execute_result",
          "data": {
            "text/plain": [
              "array([[1.17838696e-04, 3.91379028e-04, 1.71837728e-05, ...,\n",
              "        1.62265333e-05, 5.76680759e-05, 1.63083532e-05],\n",
              "       [4.34117299e-03, 1.16314255e-02, 3.91956914e-04, ...,\n",
              "        1.69122703e-02, 8.10641213e-05, 3.19649298e-05],\n",
              "       [4.89567453e-03, 8.83551180e-01, 8.85573623e-04, ...,\n",
              "        2.46427990e-05, 5.03789808e-04, 1.67361250e-05],\n",
              "       ...,\n",
              "       [3.29745759e-04, 4.95967222e-04, 1.80930452e-04, ...,\n",
              "        1.00888528e-05, 3.29121976e-05, 1.53113451e-05],\n",
              "       [3.48189496e-03, 4.29063290e-02, 1.07317034e-03, ...,\n",
              "        7.86677934e-04, 5.81078115e-04, 2.65948678e-04],\n",
              "       [6.36607234e-04, 6.56367660e-01, 5.00649447e-03, ...,\n",
              "        2.53587605e-05, 8.49096614e-05, 1.24576090e-05]], dtype=float32)"
            ]
          },
          "metadata": {},
          "execution_count": 30
        }
      ]
    },
    {
      "cell_type": "code",
      "metadata": {
        "colab": {
          "base_uri": "https://localhost:8080/"
        },
        "id": "qhsKX-qCL-q1",
        "outputId": "bc88dc48-4bf6-44e0-c8a9-6b692cec403e"
      },
      "source": [
        "predictions[0].shape"
      ],
      "execution_count": 31,
      "outputs": [
        {
          "output_type": "execute_result",
          "data": {
            "text/plain": [
              "(46,)"
            ]
          },
          "metadata": {},
          "execution_count": 31
        }
      ]
    },
    {
      "cell_type": "code",
      "metadata": {
        "colab": {
          "base_uri": "https://localhost:8080/"
        },
        "id": "PWW8844yMPNd",
        "outputId": "c488021c-4da1-4b44-9358-aff7ed3159c6"
      },
      "source": [
        "np.sum(predictions[0])"
      ],
      "execution_count": 32,
      "outputs": [
        {
          "output_type": "execute_result",
          "data": {
            "text/plain": [
              "1.0000001"
            ]
          },
          "metadata": {},
          "execution_count": 32
        }
      ]
    },
    {
      "cell_type": "code",
      "metadata": {
        "colab": {
          "base_uri": "https://localhost:8080/"
        },
        "id": "-9sw47OlMVWd",
        "outputId": "c3f345a6-192c-480d-9575-5287148e9a48"
      },
      "source": [
        "np.argmax(predictions[0])"
      ],
      "execution_count": 33,
      "outputs": [
        {
          "output_type": "execute_result",
          "data": {
            "text/plain": [
              "3"
            ]
          },
          "metadata": {},
          "execution_count": 33
        }
      ]
    },
    {
      "cell_type": "code",
      "metadata": {
        "colab": {
          "base_uri": "https://localhost:8080/"
        },
        "id": "nbBShMAoMlAU",
        "outputId": "2f126652-cc40-46ca-fd81-e6dde7e5f9e8"
      },
      "source": [
        "model = models.Sequential()\n",
        "model.add(layers.Dense(64, activation='relu', input_shape=(10000,)))\n",
        "model.add(layers.Dense(4, activation='relu'))\n",
        "model.add(layers.Dense(46, activation='softmax'))\n",
        "\n",
        "model.compile(optimizer='rmsprop',\n",
        "              loss='categorical_crossentropy',\n",
        "              metrics=['accuracy'])\n",
        "model.fit(partial_x_train,\n",
        "          partial_y_train,\n",
        "          epochs=20,\n",
        "          batch_size=128,\n",
        "          validation_data=(x_val, y_val))"
      ],
      "execution_count": 34,
      "outputs": [
        {
          "output_type": "stream",
          "name": "stdout",
          "text": [
            "Epoch 1/20\n",
            "63/63 [==============================] - 1s 10ms/step - loss: 3.1661 - accuracy: 0.3911 - val_loss: 2.5822 - val_accuracy: 0.4440\n",
            "Epoch 2/20\n",
            "63/63 [==============================] - 0s 6ms/step - loss: 2.0145 - accuracy: 0.5591 - val_loss: 1.7296 - val_accuracy: 0.6360\n",
            "Epoch 3/20\n",
            "63/63 [==============================] - 0s 6ms/step - loss: 1.3798 - accuracy: 0.6790 - val_loss: 1.4506 - val_accuracy: 0.6610\n",
            "Epoch 4/20\n",
            "63/63 [==============================] - 0s 6ms/step - loss: 1.1720 - accuracy: 0.6973 - val_loss: 1.3927 - val_accuracy: 0.6620\n",
            "Epoch 5/20\n",
            "63/63 [==============================] - 0s 6ms/step - loss: 1.0412 - accuracy: 0.7310 - val_loss: 1.3672 - val_accuracy: 0.6800\n",
            "Epoch 6/20\n",
            "63/63 [==============================] - 0s 6ms/step - loss: 0.9416 - accuracy: 0.7669 - val_loss: 1.3274 - val_accuracy: 0.6980\n",
            "Epoch 7/20\n",
            "63/63 [==============================] - 0s 6ms/step - loss: 0.8561 - accuracy: 0.7942 - val_loss: 1.3592 - val_accuracy: 0.6960\n",
            "Epoch 8/20\n",
            "63/63 [==============================] - 0s 6ms/step - loss: 0.7871 - accuracy: 0.8066 - val_loss: 1.3385 - val_accuracy: 0.7070\n",
            "Epoch 9/20\n",
            "63/63 [==============================] - 0s 6ms/step - loss: 0.7275 - accuracy: 0.8145 - val_loss: 1.3757 - val_accuracy: 0.7050\n",
            "Epoch 10/20\n",
            "63/63 [==============================] - 0s 6ms/step - loss: 0.6754 - accuracy: 0.8185 - val_loss: 1.4018 - val_accuracy: 0.7080\n",
            "Epoch 11/20\n",
            "63/63 [==============================] - 0s 6ms/step - loss: 0.6316 - accuracy: 0.8282 - val_loss: 1.4546 - val_accuracy: 0.7100\n",
            "Epoch 12/20\n",
            "63/63 [==============================] - 0s 6ms/step - loss: 0.5921 - accuracy: 0.8361 - val_loss: 1.4794 - val_accuracy: 0.7110\n",
            "Epoch 13/20\n",
            "63/63 [==============================] - 0s 6ms/step - loss: 0.5557 - accuracy: 0.8467 - val_loss: 1.5555 - val_accuracy: 0.7060\n",
            "Epoch 14/20\n",
            "63/63 [==============================] - 0s 6ms/step - loss: 0.5246 - accuracy: 0.8612 - val_loss: 1.5539 - val_accuracy: 0.7190\n",
            "Epoch 15/20\n",
            "63/63 [==============================] - 0s 6ms/step - loss: 0.4982 - accuracy: 0.8647 - val_loss: 1.6247 - val_accuracy: 0.7120\n",
            "Epoch 16/20\n",
            "63/63 [==============================] - 0s 6ms/step - loss: 0.4745 - accuracy: 0.8691 - val_loss: 1.7076 - val_accuracy: 0.7080\n",
            "Epoch 17/20\n",
            "63/63 [==============================] - 0s 6ms/step - loss: 0.4513 - accuracy: 0.8731 - val_loss: 1.7639 - val_accuracy: 0.7130\n",
            "Epoch 18/20\n",
            "63/63 [==============================] - 0s 6ms/step - loss: 0.4340 - accuracy: 0.8747 - val_loss: 1.8132 - val_accuracy: 0.7100\n",
            "Epoch 19/20\n",
            "63/63 [==============================] - 0s 6ms/step - loss: 0.4140 - accuracy: 0.8806 - val_loss: 1.8971 - val_accuracy: 0.7040\n",
            "Epoch 20/20\n",
            "63/63 [==============================] - 0s 5ms/step - loss: 0.4001 - accuracy: 0.8830 - val_loss: 1.9412 - val_accuracy: 0.7020\n"
          ]
        },
        {
          "output_type": "execute_result",
          "data": {
            "text/plain": [
              "<keras.callbacks.History at 0x7f1bdad6c4d0>"
            ]
          },
          "metadata": {},
          "execution_count": 34
        }
      ]
    },
    {
      "cell_type": "markdown",
      "metadata": {
        "id": "DX6HbSSON3cU"
      },
      "source": [
        "검증 정확도의 최고 값은 8% 정도 감소. 그 이유는 많은 정보(46개 클래스의 분할 초평면 복원하기에 충분한 정보)를 중간층의 저차원 표현 공간으로 압축하려 했기 때문임. 이 네트워크는 필요한 정보 대부분을 4차원 표현 안에 구겨 넣었지만 전부는 넣지 못함.\n"
      ]
    },
    {
      "cell_type": "markdown",
      "metadata": {
        "id": "NfPkRfjpOv_E"
      },
      "source": [
        "* N개의 클래스로 데이터 포인트를 분류하려면 네트워크의 마지막 `Dense` 층의 크기는 N이어야 합니다.\n",
        "* 단일 레이블, 다중 분류 문제에서는 N개의 클래스에 대한 확률 분포를 출력하기 위해 `softmax` 활성화 함수를 사용해야 합니다.\n",
        "* 이런 문제에는 항상 범주형 크로스엔트로피를 사용해야 합니다. 이 함수는 모델이 출력한 확률 분포와 타깃 분포 사이의 거리를 최소화합니다.\n",
        "* 다중 분류에서 레이블을 다루는 두 가지 방법이 있습니다.\n",
        "    * 레이블을 범주형 인코딩(또는 원-핫 인코딩)으로 인코딩하고 `categorical_crossentropy` 손실 함수를 사용합니다.\n",
        "    * 레이블을 정수로 인코딩하고 `sparse_categorical_crossentropy` 손실 함수를 사용합니다.\n",
        "* 많은 수의 범주를 분류할 때 중간층의 크기가 너무 작아 네트워크에 정보의 병목이 생기지 않도록 해야 합니다."
      ]
    }
  ]
}
