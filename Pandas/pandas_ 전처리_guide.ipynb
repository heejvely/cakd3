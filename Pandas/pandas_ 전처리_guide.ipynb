{
 "cells": [
  {
   "cell_type": "code",
   "execution_count": null,
   "id": "bc85841c",
   "metadata": {},
   "outputs": [],
   "source": [
    "import pandas as pd\n",
    "pd.options.display.max_rows = 5\n",
    "pd.options.display.max_columns = 10\n",
    "df_auto = pd.read_csv('dataset/auto-mpg.csv')\n",
    "df_auto"
   ]
  },
  {
   "cell_type": "code",
   "execution_count": null,
   "id": "2394810d",
   "metadata": {},
   "outputs": [],
   "source": [
    "# Q. df_auto 데이터세트에 대한 파악 내용을 기술하세요."
   ]
  },
  {
   "cell_type": "code",
   "execution_count": null,
   "id": "5b78fafa",
   "metadata": {},
   "outputs": [],
   "source": [
    "df_auto.columns"
   ]
  },
  {
   "cell_type": "code",
   "execution_count": null,
   "id": "815474f4",
   "metadata": {},
   "outputs": [],
   "source": [
    "columns = ['car name','mpg', 'cylinders', 'displacement', 'horsepower', 'weight',\n",
    "       'acceleration', 'model year', 'origin']\n",
    "mtcars = df_auto[columns]\n",
    "mtcars.to_csv('dataset/mtcars1.csv')\n",
    "# mtcars.to_csv('dataset/mtcars.csv',index=None)\n",
    "mtcars = pd.read_csv('dataset/mtcars1.csv',index_col=0)\n",
    "mtcars"
   ]
  },
  {
   "cell_type": "code",
   "execution_count": null,
   "id": "57a8d237",
   "metadata": {},
   "outputs": [],
   "source": [
    "# 원하는 행과 열 선택\n",
    "import warnings\n",
    "warnings.filterwarnings('ignore')\n",
    "mtcar_3 = df_auto.head(3)\n",
    "mtcar_3.drop('car name',axis=1,inplace=True)\n",
    "mtcar_3"
   ]
  },
  {
   "cell_type": "code",
   "execution_count": null,
   "id": "cea0ccd2",
   "metadata": {},
   "outputs": [],
   "source": [
    "# 행,열 선택\n",
    "mtcars_2 = mtcars[['car name','mpg', 'model year']][5:8]\n",
    "mtcars_2\n"
   ]
  },
  {
   "cell_type": "code",
   "execution_count": null,
   "id": "5dddeb5d",
   "metadata": {},
   "outputs": [],
   "source": [
    "mtcars_3 = mtcars.iloc[5:8,3:6]\n",
    "mtcars_3"
   ]
  },
  {
   "cell_type": "code",
   "execution_count": null,
   "id": "359ca48c",
   "metadata": {},
   "outputs": [],
   "source": [
    "# 과제\n",
    "# Q. iloc, loc 사용하여 다른 방법으로 \n",
    "# mtcars[['car name','mpg', 'model year']][5:8] 와 동일하게 출력하세요."
   ]
  },
  {
   "cell_type": "code",
   "execution_count": null,
   "id": "e87b1b6b",
   "metadata": {},
   "outputs": [],
   "source": [
    "mcar = mtcars.copy()\n",
    "mcar"
   ]
  },
  {
   "cell_type": "code",
   "execution_count": null,
   "id": "e1d80ff0",
   "metadata": {},
   "outputs": [],
   "source": [
    "mcar1 =mcar.set_index('car name')\n",
    "mcar1"
   ]
  },
  {
   "cell_type": "code",
   "execution_count": null,
   "id": "a2d0319c",
   "metadata": {},
   "outputs": [],
   "source": [
    "mcar = mcar1.reset_index()\n",
    "mcar"
   ]
  },
  {
   "cell_type": "code",
   "execution_count": null,
   "id": "fe088382",
   "metadata": {},
   "outputs": [],
   "source": [
    "mcar.to_csv('dataset/mcar.csv',index=None)\n",
    "mcar = pd.read_csv('dataset/mcar.csv')\n",
    "mcar"
   ]
  },
  {
   "cell_type": "code",
   "execution_count": null,
   "id": "76b96d8d",
   "metadata": {},
   "outputs": [],
   "source": [
    "pd.set_option('max_rows', 5) \n",
    "pd.set_option('max_columns', 10)\n",
    "mcar"
   ]
  },
  {
   "cell_type": "code",
   "execution_count": null,
   "id": "4156d1b2",
   "metadata": {},
   "outputs": [],
   "source": [
    "pd.set_option('max_rows', 10) \n",
    "pd.set_option('max_columns', 10)\n",
    "mcar.describe()"
   ]
  },
  {
   "cell_type": "code",
   "execution_count": null,
   "id": "cb465844",
   "metadata": {},
   "outputs": [],
   "source": [
    "mcar.info()"
   ]
  },
  {
   "cell_type": "code",
   "execution_count": null,
   "id": "72375ae8",
   "metadata": {},
   "outputs": [],
   "source": [
    "# 자동차 연비에 영향을 주는 변수를 선택하여 연비 예측 모델을 생성\n",
    "mcar1 = mcar.drop(['car name','horsepower'],axis=1)\n",
    "mcar1.head()"
   ]
  },
  {
   "cell_type": "code",
   "execution_count": null,
   "id": "4c62bdc1",
   "metadata": {},
   "outputs": [],
   "source": [
    "import seaborn as sns\n",
    "sns.pairplot(mcar1)"
   ]
  },
  {
   "cell_type": "code",
   "execution_count": null,
   "id": "8213ecaf",
   "metadata": {},
   "outputs": [],
   "source": [
    "mcar1.corr()"
   ]
  },
  {
   "cell_type": "code",
   "execution_count": null,
   "id": "32a62913",
   "metadata": {},
   "outputs": [],
   "source": [
    "# 최적의 컬럼 선택하여 분석용 데이터 셋 구축 - Feature engineering\n",
    "mcar2 = mcar1[['mpg','weight']]\n",
    "mcar2.head()"
   ]
  },
  {
   "cell_type": "code",
   "execution_count": null,
   "id": "71841074",
   "metadata": {},
   "outputs": [],
   "source": [
    "# Counter\n",
    "from collections import Counter\n",
    "my_list = ['a','b','c','a','b','c','a']\n",
    "count = Counter(my_list)\n",
    "print(count)\n",
    "words = dict(count.most_common(n=2))\n",
    "print(words)"
   ]
  },
  {
   "cell_type": "code",
   "execution_count": null,
   "id": "48d52b9b",
   "metadata": {},
   "outputs": [],
   "source": [
    "# 반올림\n",
    "import pandas as pd\n",
    "import numpy as np\n",
    "\n",
    "col1 = np.random.uniform(10,20,size=10) # 10 ~ 20 사이 실수 10개\n",
    "col2 = np.random.uniform(10,20,size=10)\n",
    "sr1 = pd.Series(col1,name='col1')\n",
    "sr2 = pd.Series(col2,name='col2')\n",
    "df = pd.concat([sr1,sr2],axis=1)\n",
    "df = df.round({'col1':2,'col2':1})\n",
    "df.head(3)"
   ]
  },
  {
   "cell_type": "code",
   "execution_count": null,
   "id": "df117e19",
   "metadata": {},
   "outputs": [],
   "source": [
    "# df.iloc[1:3,:] = None\n",
    "df.iloc[1:3,:] = np.nan\n",
    "df.head()"
   ]
  },
  {
   "cell_type": "code",
   "execution_count": null,
   "id": "939a16a2",
   "metadata": {},
   "outputs": [],
   "source": [
    "df.fillna(0,inplace=True)\n",
    "# df = df.astype(int)\n",
    "df = df.astype({'col1':'int','col2':'int'})\n",
    "df.head()"
   ]
  },
  {
   "cell_type": "code",
   "execution_count": null,
   "id": "125ac4a9",
   "metadata": {},
   "outputs": [],
   "source": [
    "df['col0'] = list('abcdefghij')\n",
    "df.set_index('col0',inplace=True)\n",
    "df.head()"
   ]
  },
  {
   "cell_type": "code",
   "execution_count": null,
   "id": "2ebcfc50",
   "metadata": {},
   "outputs": [],
   "source": [
    "df1 = df.copy()\n",
    "df1.loc['c','col2'] = np.nan\n",
    "df1.head()"
   ]
  },
  {
   "cell_type": "code",
   "execution_count": null,
   "id": "d003ce22",
   "metadata": {},
   "outputs": [],
   "source": [
    "# Q. col2의 평균값으로 null 값 대체하세요.\n",
    "# df3 = df1.replace(np.nan,df1['col2'].mean())\n",
    "df3 =  df1.fillna(df1['col2'].mean())\n",
    "df3 = df3.round({'col2':2})\n",
    "df3.head()"
   ]
  },
  {
   "cell_type": "code",
   "execution_count": null,
   "id": "e61576f0",
   "metadata": {},
   "outputs": [],
   "source": [
    "# Q. col2를 정수로 변환하여 출력\n",
    "# df3 = df3.astype({'col2':'int'})\n",
    "df3['col2'] = df3.col2.astype(int)\n",
    "df3.head()"
   ]
  },
  {
   "cell_type": "code",
   "execution_count": null,
   "id": "387711a8",
   "metadata": {},
   "outputs": [],
   "source": [
    "df3.iloc[1:3,1:2] = np.nan\n",
    "df3.head()"
   ]
  },
  {
   "cell_type": "code",
   "execution_count": null,
   "id": "3ae66e36",
   "metadata": {},
   "outputs": [],
   "source": [
    "# null값 삭제\n",
    "df3.dropna(subset=['col2'],inplace=True)\n",
    "df3.head()"
   ]
  },
  {
   "cell_type": "code",
   "execution_count": null,
   "id": "f6de880a",
   "metadata": {},
   "outputs": [],
   "source": [
    "df1['col2'] = df1.col2.astype(int)\n",
    "df1"
   ]
  },
  {
   "cell_type": "code",
   "execution_count": null,
   "id": "aee49d91",
   "metadata": {},
   "outputs": [],
   "source": [
    "df2 = df1.reset_index()\n",
    "df2.head()"
   ]
  },
  {
   "cell_type": "code",
   "execution_count": null,
   "id": "8eb44e82",
   "metadata": {},
   "outputs": [],
   "source": [
    "df3 = df2.reindex(index=[1,2],columns=['col1','col2'])\n",
    "df3"
   ]
  },
  {
   "cell_type": "code",
   "execution_count": null,
   "id": "302676da",
   "metadata": {},
   "outputs": [],
   "source": [
    "df4 = df2.reindex(index=[3,4],columns=['col1','col2'])\n",
    "df4"
   ]
  },
  {
   "cell_type": "code",
   "execution_count": null,
   "id": "bb44cbed",
   "metadata": {},
   "outputs": [],
   "source": [
    "# Q. df2에서 col1과 col2만 출력하세요.\n",
    "# df5 = df2.reindex(columns=['col1','col2'])\n",
    "df5 = df2.reindex(['col1','col2'],axis=1)\n",
    "df5.head()"
   ]
  },
  {
   "cell_type": "code",
   "execution_count": null,
   "id": "568919d6",
   "metadata": {},
   "outputs": [],
   "source": [
    "# df6 = df2.reindex([1,3],axis='index')\n",
    "df6 = df2.reindex([1,3],axis=0)\n",
    "df6"
   ]
  },
  {
   "cell_type": "code",
   "execution_count": null,
   "id": "059e6ace",
   "metadata": {},
   "outputs": [],
   "source": [
    "import numpy as np\n",
    "import pandas as pd\n",
    "data1 = np.arange(1,21).reshape(4,5)\n",
    "data2 = np.arange(11,31).reshape(5,4)\n",
    "df1 = pd.DataFrame(data1, columns=list('abcde'))\n",
    "df2 = pd.DataFrame(data2, columns=list('dehi'))\n",
    "print(df1,'\\n')\n",
    "print(df2)\n",
    "                   "
   ]
  },
  {
   "cell_type": "code",
   "execution_count": null,
   "id": "240087fa",
   "metadata": {},
   "outputs": [],
   "source": [
    "con1 = pd.concat([df1,df2],axis=0)\n",
    "# con1 = pd.concat([df1,df2],axis=0,ignore_index=True)\n",
    "con1"
   ]
  },
  {
   "cell_type": "code",
   "execution_count": null,
   "id": "dcd6a279",
   "metadata": {},
   "outputs": [],
   "source": [
    "con2 = pd.concat([df1,df2],axis=1)\n",
    "con2.head()"
   ]
  },
  {
   "cell_type": "code",
   "execution_count": null,
   "id": "16b5925f",
   "metadata": {},
   "outputs": [],
   "source": [
    "df1['ind'] = [1,2,3,4]\n",
    "df1"
   ]
  },
  {
   "cell_type": "code",
   "execution_count": null,
   "id": "5de239fa",
   "metadata": {},
   "outputs": [],
   "source": [
    "df2['ind'] = [1,2,3,4,5]\n",
    "df2"
   ]
  },
  {
   "cell_type": "code",
   "execution_count": null,
   "id": "e8ec3600",
   "metadata": {},
   "outputs": [],
   "source": [
    "# merge() 를 이용한 결합\n",
    "pd.merge(df1,df2,on='ind',how='outer')\n",
    "pd.merge(df1,df2,on='ind') # drfault"
   ]
  },
  {
   "cell_type": "code",
   "execution_count": null,
   "id": "f3cadd06",
   "metadata": {},
   "outputs": [],
   "source": [
    "df1 = df1.drop('ind',axis=1)\n",
    "df2 = df2.drop('ind',axis=1)"
   ]
  },
  {
   "cell_type": "code",
   "execution_count": null,
   "id": "aa4639a7",
   "metadata": {},
   "outputs": [],
   "source": [
    "# join은 인덱스 기준으로 결합(default는 교집합)\n",
    "# df1.join(df2,lsuffix='_1',rsuffix='_2')\n",
    "df1.join(df2,lsuffix='_1',rsuffix='_2',how='inner')"
   ]
  },
  {
   "cell_type": "code",
   "execution_count": null,
   "id": "6d71f637",
   "metadata": {},
   "outputs": [],
   "source": [
    "df1.join(df2,lsuffix='_1',rsuffix='_2',how='outer')"
   ]
  },
  {
   "cell_type": "code",
   "execution_count": null,
   "id": "81110cd6",
   "metadata": {},
   "outputs": [],
   "source": [
    "df1['ind'] = [1,2,3,4]\n",
    "df2['ind'] = [1,2,3,4,5]"
   ]
  },
  {
   "cell_type": "code",
   "execution_count": null,
   "id": "e8e64698",
   "metadata": {},
   "outputs": [],
   "source": [
    "df1.set_index('ind').join(df2.set_index('ind'),lsuffix='_1',rsuffix='_2')"
   ]
  },
  {
   "cell_type": "code",
   "execution_count": null,
   "id": "bcc72f84",
   "metadata": {},
   "outputs": [],
   "source": [
    "df1.set_index('ind').join(df2.set_index('ind'),lsuffix='_1',rsuffix='_2',how='outer')"
   ]
  },
  {
   "cell_type": "code",
   "execution_count": null,
   "id": "79bd71f3",
   "metadata": {},
   "outputs": [],
   "source": [
    "df1.set_index('ind').join(df2.set_index('ind'),lsuffix='_1',rsuffix='_2',on='ind',how='outer')"
   ]
  },
  {
   "cell_type": "code",
   "execution_count": null,
   "id": "0a1a41fb",
   "metadata": {},
   "outputs": [],
   "source": [
    "df1"
   ]
  },
  {
   "cell_type": "code",
   "execution_count": null,
   "id": "ae653ce3",
   "metadata": {},
   "outputs": [],
   "source": [
    "# Q. a, b 컬럼의 평균을 구하세요.\n",
    "df1[['a','b']].mean()"
   ]
  },
  {
   "cell_type": "code",
   "execution_count": null,
   "id": "4c3b9c5e",
   "metadata": {},
   "outputs": [],
   "source": [
    "df1.count()"
   ]
  },
  {
   "cell_type": "code",
   "execution_count": null,
   "id": "4ab1d74d",
   "metadata": {},
   "outputs": [],
   "source": [
    "data = np.arange(1,22).reshape(7,3)\n",
    "df = pd.DataFrame(data,columns=list('abc'),index=list('1122333'))\n",
    "df"
   ]
  },
  {
   "cell_type": "code",
   "execution_count": null,
   "id": "7ab5172f",
   "metadata": {},
   "outputs": [],
   "source": [
    "df.reset_index(inplace=True)\n",
    "df"
   ]
  },
  {
   "cell_type": "code",
   "execution_count": null,
   "id": "46831de8",
   "metadata": {},
   "outputs": [],
   "source": [
    "# 과제\n",
    "# Q1. index를 기준으로 3개 그룹으로 구분하여 a:평균, b:최대값, c:합계를 \n",
    "# 각각 계산하여 출력하세요.\n",
    "# d_g = df.groupby('index').mean()\n",
    "agg_format={'a':'mean','b':'max','c':'sum'}\n",
    "df_g = df.groupby('index').agg(agg_format)\n",
    "df_g"
   ]
  },
  {
   "cell_type": "code",
   "execution_count": null,
   "id": "617fa197",
   "metadata": {},
   "outputs": [],
   "source": [
    "# 과제\n",
    "# Q2. deck 열의 NaN 갯수를 계산하세요.\n",
    "import seaborn as sns\n",
    "titanic_df = sns.load_dataset('titanic')\n",
    "titanic_df.head()"
   ]
  },
  {
   "cell_type": "code",
   "execution_count": null,
   "id": "48deed0f",
   "metadata": {},
   "outputs": [],
   "source": [
    "titanic_df.deck.isnull().sum()"
   ]
  },
  {
   "cell_type": "code",
   "execution_count": null,
   "id": "ad7d39c0",
   "metadata": {},
   "outputs": [],
   "source": [
    "# 과제\n",
    "# Q3. titanic_df의 처음 5개 행에서 null 값을 찾아 출력하세요.(True, False로)\n",
    "titanic_df.head().isnull()"
   ]
  },
  {
   "cell_type": "code",
   "execution_count": null,
   "id": "66ba705d",
   "metadata": {},
   "outputs": [],
   "source": [
    "# 과제\n",
    "# Q4. titanic_df의 각 칼럼별 null의 갯수를 for 반복문을 사용해서 구한 후 \n",
    "# 출력하세요. (missing_count는 예외 처리하고 처리 방식은 0을 출력함 \n",
    "# - null 값이 없으면 0  )\n",
    "missing_df = titanic_df.isnull()\n",
    "# print(missing_df)\n",
    "for col in missing_df.columns:\n",
    "    missing_count = missing_df[col].value_counts()\n",
    "    try:\n",
    "        print(col, ': ',missing_count[True])\n",
    "    except:\n",
    "        print(col, ': ', 0)"
   ]
  },
  {
   "cell_type": "code",
   "execution_count": null,
   "id": "15b1d296",
   "metadata": {},
   "outputs": [],
   "source": [
    "# 과제\n",
    "# Q5. 'mpg'를 'kpl' 로 환산하여 새로운 열을 생성하고 처음 3개 행을 소수점 아래 \n",
    "# 둘째 자리에서 반올림하여 출력하세요.\n",
    "import pandas as pd\n",
    "auto_df = pd.read_csv('./dataset/auto-mpg.csv')\n",
    "auto_df.head()\n",
    "mpg_to_kpl = 1.60934 / 3.78541 \n",
    "auto_df['kpl'] = (auto_df.mpg * mpg_to_kpl).round(2)\n",
    "print(auto_df.head())"
   ]
  },
  {
   "cell_type": "code",
   "execution_count": null,
   "id": "cf6e3930",
   "metadata": {},
   "outputs": [],
   "source": [
    "# 과제\n",
    "# Q6. titanic_df 데이터 셋을 전처리하고 탐색하여 데이터 셋에 대한 설명 및\n",
    "# 분석 과제를 기술하세요 (전처리 최소 5개 이상) "
   ]
  },
  {
   "cell_type": "code",
   "execution_count": null,
   "id": "6e83a0a7",
   "metadata": {},
   "outputs": [],
   "source": [
    "# groupby\n",
    "import seaborn as sns\n",
    "titanic_df = sns.load_dataset('titanic')\n",
    "titanic_df.head()"
   ]
  },
  {
   "cell_type": "code",
   "execution_count": null,
   "id": "e52ac9d2",
   "metadata": {},
   "outputs": [],
   "source": [
    "tdf = titanic_df.copy()\n",
    "tdf.sex.value_counts()"
   ]
  },
  {
   "cell_type": "code",
   "execution_count": null,
   "id": "77e6d60c",
   "metadata": {},
   "outputs": [],
   "source": [
    "tdf.groupby('sex').count()[['survived']]"
   ]
  },
  {
   "cell_type": "code",
   "execution_count": null,
   "id": "4e1494e6",
   "metadata": {},
   "outputs": [],
   "source": [
    "tdf.groupby('sex').apply(lambda x:x.count())[['survived']]"
   ]
  },
  {
   "cell_type": "code",
   "execution_count": null,
   "id": "a2338d71",
   "metadata": {},
   "outputs": [],
   "source": [
    "# Q. sibsp, parch 컬럼의 각 원소에 1을 추가해 주세요.\n",
    "tdf_e1 = tdf[['parch', 'sibsp']].apply(lambda x : x + 1)\n",
    "tdf_e1.head()"
   ]
  },
  {
   "cell_type": "code",
   "execution_count": null,
   "id": "ada736bd",
   "metadata": {},
   "outputs": [],
   "source": [
    "def uppercase(x):\n",
    "    return x.upper()\n",
    "\n",
    "tdf.sex.apply(uppercase)[:2]"
   ]
  },
  {
   "cell_type": "code",
   "execution_count": null,
   "id": "a12e4667",
   "metadata": {},
   "outputs": [],
   "source": [
    "len(tdf.age.unique())"
   ]
  },
  {
   "cell_type": "code",
   "execution_count": null,
   "id": "99f307b8",
   "metadata": {},
   "outputs": [],
   "source": [
    "# Q. 'age' 컬럼을 범주화하여 새로운 'age_class' 컬럼을 생성하세요.\n",
    "# (null값은 별도로 처리 필요)\n",
    "\n",
    "def agegroup(x):\n",
    "    cat = ''\n",
    "    if x < 10:\n",
    "        cat = 'child'\n",
    "    elif x < 25:\n",
    "        cat = 'young'\n",
    "    elif x < 40:\n",
    "        cat = 'adult'\n",
    "    elif x < 60:\n",
    "        cat = 'senior'\n",
    "    else:\n",
    "        cat = 'old'\n",
    "        \n",
    "    return cat\n",
    "\n",
    "age_class = tdf.age.apply(lambda x:agegroup(x))\n",
    "\n",
    "tdf['age_class'] = age_class\n",
    "\n",
    "tdf.head()\n"
   ]
  },
  {
   "cell_type": "code",
   "execution_count": null,
   "id": "0ecd2b15",
   "metadata": {},
   "outputs": [],
   "source": [
    "tdf.age_class.value_counts()"
   ]
  },
  {
   "cell_type": "code",
   "execution_count": null,
   "id": "d9fd9f78",
   "metadata": {},
   "outputs": [],
   "source": [
    "# Q. 'survived','pclass','sex' 컬럼으로 데이터프레임 df1을 생성하세요 \n",
    "df1 = tdf[['survived','pclass','sex' ]]"
   ]
  },
  {
   "cell_type": "code",
   "execution_count": null,
   "id": "421823f7",
   "metadata": {},
   "outputs": [],
   "source": [
    "# Q. df1에서 pclass가 3인 승객의 개수를 구하세요.\n",
    "df1.pclass.value_counts()[3]"
   ]
  },
  {
   "cell_type": "code",
   "execution_count": null,
   "id": "6d83e078",
   "metadata": {},
   "outputs": [],
   "source": [
    "df1 = tdf[['survived','pclass','sex']]\n",
    "len(df1.query('pclass==3'))\n"
   ]
  },
  {
   "cell_type": "code",
   "execution_count": null,
   "id": "522fbeae",
   "metadata": {},
   "outputs": [],
   "source": [
    "len(list(filter(lambda x:x == 3, df1.pclass)))"
   ]
  },
  {
   "cell_type": "code",
   "execution_count": null,
   "id": "82965517",
   "metadata": {},
   "outputs": [],
   "source": [
    "tdf.columns"
   ]
  },
  {
   "cell_type": "code",
   "execution_count": null,
   "id": "3e929360",
   "metadata": {},
   "outputs": [],
   "source": [
    "tdf.embark_town.isnull().sum()"
   ]
  },
  {
   "cell_type": "code",
   "execution_count": null,
   "id": "3cc4e09e",
   "metadata": {},
   "outputs": [],
   "source": [
    "# Q. embark_town 열의 NaN 값을 바로 앞에 있는 값으로 변경하세요.\n",
    "tdf.embark_town.fillna(method='ffill',inplace=True) # 829\n",
    "# tdf.embark_town.fillna(method='bfill',inplace=True) # 829\n",
    "tdf.embark_town[827:831]\n"
   ]
  },
  {
   "cell_type": "code",
   "execution_count": null,
   "id": "b2a421e6",
   "metadata": {},
   "outputs": [],
   "source": [
    "import pandas as pd\n",
    "fifa = pd.read_csv('dataset/FIFA.csv')\n",
    "fifa.head()"
   ]
  },
  {
   "cell_type": "code",
   "execution_count": null,
   "id": "d9a9833a",
   "metadata": {},
   "outputs": [],
   "source": [
    "fifa.shape"
   ]
  },
  {
   "cell_type": "code",
   "execution_count": null,
   "id": "754c283c",
   "metadata": {},
   "outputs": [],
   "source": [
    "# height의 값을 cm로 변환하여 새로운 컬럼 'height_cm'을 생성하세요.\n",
    "\n",
    "def ht_ex(x):\n",
    "    f, i = map(int, x.split('\\''))\n",
    "    return f*30.48 + i*2.54\n",
    "\n",
    "fifa['Height_cm'] = fifa['Height'].apply(ht_ex)\n",
    "fifa.head()\n"
   ]
  },
  {
   "cell_type": "code",
   "execution_count": null,
   "id": "7a8c25d4",
   "metadata": {},
   "outputs": [],
   "source": [
    "def ftinch_to_cm(ftinch):\n",
    "    ftinchlist = ftinch.split(\"'\")\n",
    "    ft = int(ftinchlist[0])\n",
    "    inch = int(ftinchlist[1])\n",
    "    ftcm=ft*30.48\n",
    "    incm = inch*2.54\n",
    "    total = ftcm + incm\n",
    "    return total\n",
    "\n",
    "\n",
    "fifa['Height_cm']=fifa.Height.apply(lambda x:ftinch_to_cm(x))\n",
    "fifa.head()"
   ]
  },
  {
   "cell_type": "code",
   "execution_count": null,
   "id": "7a120ca0",
   "metadata": {},
   "outputs": [],
   "source": [
    "fifa.info()"
   ]
  },
  {
   "cell_type": "code",
   "execution_count": null,
   "id": "2f002ce9",
   "metadata": {},
   "outputs": [],
   "source": [
    "# 과제\n",
    "# Q. FiFA Player들의 연봉을 예측하는 모델을 구축하려고 한다. \n",
    "# 주어진 FIFA 데이터셋을 전처리 및 탐색하여 모델에 적합한 분석용 데이터셋을 \n",
    "# 작성하고 그 근거를 기술하세요.(전처리 10개 이상)"
   ]
  },
  {
   "cell_type": "code",
   "execution_count": null,
   "id": "53810784",
   "metadata": {},
   "outputs": [],
   "source": [
    "# 과제\n",
    "# 명일 발표자료 준비(5분 발표시간 15분)"
   ]
  },
  {
   "cell_type": "code",
   "execution_count": null,
   "id": "d170fa6d",
   "metadata": {},
   "outputs": [],
   "source": [
    "# 중복\n",
    "import pandas as pd\n",
    "import numpy as np\n",
    "arr = np.array([1,2,1,2,2,3,3,3])\n",
    "data = arr.reshape(4,2)\n",
    "df = pd.DataFrame(data,columns=['a','b'])\n",
    "df"
   ]
  },
  {
   "cell_type": "code",
   "execution_count": null,
   "id": "f62c6b29",
   "metadata": {},
   "outputs": [],
   "source": [
    "df1 = df.copy()\n",
    "df1.drop_duplicates()"
   ]
  },
  {
   "cell_type": "code",
   "execution_count": null,
   "id": "cd5b7e29",
   "metadata": {},
   "outputs": [],
   "source": [
    "df2 = df.copy()\n",
    "df2.drop_duplicates(subset=['b'])"
   ]
  },
  {
   "cell_type": "code",
   "execution_count": null,
   "id": "a3c7091b",
   "metadata": {},
   "outputs": [],
   "source": [
    "df3 = df.copy()\n",
    "df3.drop_duplicates(subset='b',keep='last')"
   ]
  },
  {
   "cell_type": "code",
   "execution_count": null,
   "id": "5b0bbd7b",
   "metadata": {},
   "outputs": [],
   "source": [
    "# 컬럼 이름 변경\n",
    "import seaborn as sns\n",
    "\n",
    "titanic = sns.load_dataset('titanic')\n",
    "titanic.head()"
   ]
  },
  {
   "cell_type": "code",
   "execution_count": null,
   "id": "0f1e1b77",
   "metadata": {},
   "outputs": [],
   "source": [
    "titanic.sex.value_counts()"
   ]
  },
  {
   "cell_type": "code",
   "execution_count": null,
   "id": "d4dd74b4",
   "metadata": {},
   "outputs": [],
   "source": [
    "# 특정 컬럼의 값을 변경\n",
    "titanic['sex'] = titanic.sex.replace({'male':0,'female':1})\n",
    "titanic.head()"
   ]
  },
  {
   "cell_type": "code",
   "execution_count": null,
   "id": "923a3373",
   "metadata": {},
   "outputs": [],
   "source": [
    "# 열 이름 변경 : 'sex':'gender','age':'age_cat'\n",
    "titanic.rename(columns={'sex':'gender','age':'age_cat','class':'c_level'},inplace=True)\n",
    "titanic.head()"
   ]
  },
  {
   "cell_type": "code",
   "execution_count": null,
   "id": "25acac47",
   "metadata": {},
   "outputs": [],
   "source": [
    "# 컬럼명을 대문자로 변경\n",
    "titanic.columns = map(lambda x : str(x).upper(),titanic.columns)\n",
    "titanic.head()"
   ]
  },
  {
   "cell_type": "code",
   "execution_count": null,
   "id": "f8f6c77f",
   "metadata": {},
   "outputs": [],
   "source": [
    "titanic.rename(columns=str.upper,inplace=True)\n",
    "titanic.head()"
   ]
  },
  {
   "cell_type": "code",
   "execution_count": null,
   "id": "2cd123d2",
   "metadata": {},
   "outputs": [],
   "source": [
    "titanic.rename(columns=str.lower,inplace=True)\n",
    "titanic.head()"
   ]
  },
  {
   "cell_type": "code",
   "execution_count": null,
   "id": "72747e65",
   "metadata": {},
   "outputs": [],
   "source": [
    "titanic.rename(str.upper, axis='columns').head(3)"
   ]
  },
  {
   "cell_type": "code",
   "execution_count": null,
   "id": "75698d80",
   "metadata": {},
   "outputs": [],
   "source": [
    "# 컬럼 선택 : 'survived','pclass','gender','age_cat\n",
    "titanic = titanic[['survived','pclass','gender','c_level']]\n",
    "titanic.head()"
   ]
  },
  {
   "cell_type": "code",
   "execution_count": null,
   "id": "9b09ff38",
   "metadata": {},
   "outputs": [],
   "source": [
    "# 컬럼 순서 변경 : 'pclass','gender','age_cat','survived'\n",
    "new_order = ['pclass','gender','c_level','survived']\n",
    "df = titanic[new_order]\n",
    "df.head()"
   ]
  },
  {
   "cell_type": "code",
   "execution_count": null,
   "id": "3eeb3b3c",
   "metadata": {},
   "outputs": [],
   "source": [
    "df.info()"
   ]
  },
  {
   "cell_type": "code",
   "execution_count": null,
   "id": "2869cd9f",
   "metadata": {},
   "outputs": [],
   "source": [
    "import warnings\n",
    "warnings.filterwarnings('ignore')\n",
    "df['gender'].replace([1,0],['female','male'],inplace=True)\n",
    "df.head()"
   ]
  },
  {
   "cell_type": "code",
   "execution_count": null,
   "id": "2a015b14",
   "metadata": {},
   "outputs": [],
   "source": [
    "# 인코딩 - LabelEncoder\n",
    "from sklearn.preprocessing import LabelEncoder\n",
    "\n",
    "le = LabelEncoder()\n",
    "features = ['gender','c_level']\n",
    "for feature in features:\n",
    "    df[feature] = le.fit_transform(df[feature])\n",
    "df.head()"
   ]
  },
  {
   "cell_type": "code",
   "execution_count": null,
   "id": "3409b7c2",
   "metadata": {},
   "outputs": [],
   "source": [
    "df.gender.value_counts()"
   ]
  },
  {
   "cell_type": "code",
   "execution_count": null,
   "id": "04c82813",
   "metadata": {},
   "outputs": [],
   "source": [
    "df.c_level.value_counts()"
   ]
  },
  {
   "cell_type": "code",
   "execution_count": null,
   "id": "f481803f",
   "metadata": {},
   "outputs": [],
   "source": [
    "# 과제\n",
    "# Q. embarked, who, adult_male에 대하여 LabelEncoding 하세요"
   ]
  },
  {
   "cell_type": "code",
   "execution_count": null,
   "id": "ac522dd2",
   "metadata": {},
   "outputs": [],
   "source": [
    "df = titanic[['sex','class']]\n",
    "df1 = df.copy()\n",
    "df1.rename(columns={'class':'c_level'},inplace=True)\n",
    "df1.head()"
   ]
  },
  {
   "cell_type": "code",
   "execution_count": null,
   "id": "00c6d7c8",
   "metadata": {},
   "outputs": [],
   "source": [
    "# 인코딩 - OneHotEncoder\n",
    "pd.get_dummies(df1).head()"
   ]
  },
  {
   "cell_type": "code",
   "execution_count": null,
   "id": "8384b453",
   "metadata": {},
   "outputs": [],
   "source": [
    "from sklearn.datasets import load_boston\n",
    "boston = load_boston()\n",
    "print(boston.keys())\n",
    "boston.target\n",
    "boston.DESCR\n",
    "print(boston.feature_names)\n",
    "df_boston = pd.DataFrame(boston.data, columns=boston.feature_names)\n",
    "df_boston['target'] = boston.target\n",
    "df_boston.head()"
   ]
  },
  {
   "cell_type": "code",
   "execution_count": null,
   "id": "64155e04",
   "metadata": {},
   "outputs": [],
   "source": [
    "df_boston.info()"
   ]
  },
  {
   "cell_type": "code",
   "execution_count": null,
   "id": "9c7c8460",
   "metadata": {},
   "outputs": [],
   "source": [
    "# 스케일링 - 정규화\n",
    "from sklearn.preprocessing import MinMaxScaler\n",
    "\n",
    "scaler = MinMaxScaler()\n",
    "df_boston['RM'] = scaler.fit_transform(df_boston[['RM']])\n",
    "df_boston.head()"
   ]
  },
  {
   "cell_type": "code",
   "execution_count": null,
   "id": "a6652b97",
   "metadata": {},
   "outputs": [],
   "source": [
    "df_boston.RM.mean()"
   ]
  },
  {
   "cell_type": "code",
   "execution_count": null,
   "id": "8bc6a01a",
   "metadata": {},
   "outputs": [],
   "source": [
    "# 과제\n",
    "# Q. df_boston 전체 컬럼에 대하여 정규화를 수행하세요."
   ]
  },
  {
   "cell_type": "code",
   "execution_count": null,
   "id": "c2c8ce56",
   "metadata": {},
   "outputs": [],
   "source": [
    "# 스케일링 - 표준화\n",
    "from sklearn.preprocessing import StandardScaler\n",
    "scaler = StandardScaler()\n",
    "df_boston['INDUS'] = scaler.fit_transform(df_boston[['INDUS']])\n",
    "df_boston.head()"
   ]
  },
  {
   "cell_type": "code",
   "execution_count": null,
   "id": "2fc5e9e0",
   "metadata": {},
   "outputs": [],
   "source": [
    "df_boston.INDUS.mean()\n",
    "df_boston.INDUS.std()"
   ]
  },
  {
   "cell_type": "code",
   "execution_count": null,
   "id": "82b2e30d",
   "metadata": {},
   "outputs": [],
   "source": [
    "# 과제\n",
    "# Q. df_boston 전체 컬럼에 대하여 표준화를 수행하세요."
   ]
  },
  {
   "cell_type": "code",
   "execution_count": null,
   "id": "032f24c5",
   "metadata": {},
   "outputs": [],
   "source": [
    "import matplotlib.pyplot as plt\n",
    "import seaborn as sns\n",
    "\n",
    "plt.figure(figsize=(10,8))\n",
    "sns.distplot(df_boston[['target']])"
   ]
  },
  {
   "cell_type": "code",
   "execution_count": null,
   "id": "69956846",
   "metadata": {},
   "outputs": [],
   "source": [
    "# 로그 변환\n",
    "import numpy as np\n",
    "df_boston['target'] = np.log1p(df_boston[['target']])\n",
    "sns.distplot(df_boston[['target']])"
   ]
  },
  {
   "cell_type": "code",
   "execution_count": null,
   "id": "83898d2a",
   "metadata": {},
   "outputs": [],
   "source": [
    "# 로그 변환 환원\n",
    "df_boston['target'] = np.expm1(df_boston[['target']])\n",
    "df_boston.head()"
   ]
  },
  {
   "cell_type": "markdown",
   "id": "f7a49a83",
   "metadata": {},
   "source": [
    "### 그룹 연산\n",
    "* 복잡한 데이터를 어떤 기준에 따라 여러 그룹으로 나누어서 관찰할 수 있으며 이런 방식으로 분할 처리하는 것을 그룹 연산이라 함\n",
    "* 그룹 연산은 데이터를 집계, 변환, 필터링하는데 효율적이며 판다스 groupby() 메소드를 사용함\n",
    "* 그룹 객체 만들기(분할)\n",
    "* 그룹 연산 메소드(적용-결합)"
   ]
  },
  {
   "cell_type": "code",
   "execution_count": null,
   "id": "0f00becd",
   "metadata": {},
   "outputs": [],
   "source": [
    "import pandas as pd\n",
    "import seaborn as sns\n",
    "\n",
    "# titanic 데이터셋에서 age, sex 등 5개 열을 선택하여 데이터프레임 만들기\n",
    "titanic = sns.load_dataset('titanic')\n",
    "df = titanic.loc[:, ['age','sex', 'class', 'fare', 'survived']]\n",
    "# df = titanic[['age','sex', 'class', 'fare', 'survived']]\n",
    "df.head()"
   ]
  },
  {
   "cell_type": "code",
   "execution_count": null,
   "id": "3dc34a0d",
   "metadata": {},
   "outputs": [],
   "source": [
    "# 파이썬 예약어\n",
    "import keyword\n",
    "print(keyword.kwlist)"
   ]
  },
  {
   "cell_type": "code",
   "execution_count": null,
   "id": "d0f4ccf7",
   "metadata": {},
   "outputs": [],
   "source": [
    "# df.class는 예약어로 처리되기 때문에 df['class']로 처리\n",
    "# df.class 형태로 사용하려면 예약어를 다른 이름으로 변경하여 사용\n",
    "# df.class.value_counts() \n",
    "df['class'].value_counts()"
   ]
  },
  {
   "cell_type": "code",
   "execution_count": null,
   "id": "22226ccb",
   "metadata": {},
   "outputs": [],
   "source": [
    "df=df.rename(columns={'class':'c_level'})\n",
    "df.c_level.value_counts()"
   ]
  },
  {
   "cell_type": "code",
   "execution_count": null,
   "id": "29e1f7db",
   "metadata": {},
   "outputs": [],
   "source": [
    "len(df)\n",
    "grouped = df.groupby(['class'])\n",
    "print(grouped)"
   ]
  },
  {
   "cell_type": "code",
   "execution_count": null,
   "id": "d320929b",
   "metadata": {},
   "outputs": [],
   "source": [
    "list(grouped)"
   ]
  },
  {
   "cell_type": "code",
   "execution_count": null,
   "id": "627632f2",
   "metadata": {},
   "outputs": [],
   "source": [
    "for key, group in grouped:\n",
    "    print('* key :', key)\n",
    "    print('* number :', len(group))\n",
    "    print(group.head(),'\\n')"
   ]
  },
  {
   "cell_type": "code",
   "execution_count": null,
   "id": "eaa78b37",
   "metadata": {},
   "outputs": [],
   "source": [
    "average = grouped.mean()\n",
    "average"
   ]
  },
  {
   "cell_type": "code",
   "execution_count": null,
   "id": "faa13945",
   "metadata": {},
   "outputs": [],
   "source": [
    "max = grouped.max()\n",
    "max"
   ]
  },
  {
   "cell_type": "markdown",
   "id": "c38544d0",
   "metadata": {},
   "source": [
    "#### Q. 'Third'그룹만을 선택해서 group3 이름으로 저장하고 통계요약표를 출력하세요."
   ]
  },
  {
   "cell_type": "code",
   "execution_count": null,
   "id": "68991b0b",
   "metadata": {},
   "outputs": [],
   "source": [
    "li = list(grouped)\n",
    "li[2][1].describe()"
   ]
  },
  {
   "cell_type": "code",
   "execution_count": null,
   "id": "b679c9c3",
   "metadata": {},
   "outputs": [],
   "source": [
    "# a = grouped.groups['Third']\n",
    "# group3 = df.loc[a]\n",
    "group3 = grouped.get_group('Third')\n",
    "group3.describe()"
   ]
  },
  {
   "cell_type": "code",
   "execution_count": null,
   "id": "83746593",
   "metadata": {},
   "outputs": [],
   "source": [
    "group1 = grouped.get_group('First')\n",
    "group1.describe()"
   ]
  },
  {
   "cell_type": "markdown",
   "id": "9c2b4954",
   "metadata": {},
   "source": [
    "#### Q. class 열, sex 열을 기준으로 분할하여 grouped_two에 저장하세요."
   ]
  },
  {
   "cell_type": "code",
   "execution_count": null,
   "id": "ec998b31",
   "metadata": {},
   "outputs": [],
   "source": [
    "grouped_two = df.groupby(['class', 'sex'])\n",
    "grouped_two"
   ]
  },
  {
   "cell_type": "code",
   "execution_count": null,
   "id": "3d39e3b1",
   "metadata": {},
   "outputs": [],
   "source": [
    "#Q. grouped_two 그룹 객체를 for문을 사용, iteration으로 출력하세요.\n",
    "for key, group in grouped_two:\n",
    "    print('* key:',key)\n",
    "    print('* value:',group)\n",
    "    print(grouped_two.head())"
   ]
  },
  {
   "cell_type": "code",
   "execution_count": null,
   "id": "96463049",
   "metadata": {},
   "outputs": [],
   "source": [
    "# Q. grouped_two 그룹 객체에 연산 메소드 적용, 각 그룹의 평균값을 구한 후 \n",
    "# 출력하세요\n",
    "average_two = grouped_two.mean()\n",
    "average_two"
   ]
  },
  {
   "cell_type": "code",
   "execution_count": null,
   "id": "e04d5c3b",
   "metadata": {},
   "outputs": [],
   "source": [
    "# Q. grouped_two 그룹 객체에서 ('Third',female) 그룹을 선택해서 group3f에 \n",
    "# 저장하고 처음 5개행을 출력하세요\n",
    "group3f = grouped_two.get_group(('Third','female'))\n",
    "group3f.head()"
   ]
  },
  {
   "cell_type": "markdown",
   "id": "f46caa0d",
   "metadata": {},
   "source": [
    "### 적용-결합\n",
    "\n",
    "데이터 집계(agg), \n",
    "- 집계 연산을 처리하는 사용자 정의 함수를 그룹 객체에 적용하려면 agg() 메서드 사용\n",
    "- 모든열에 여러 함수를 매핑 : group객체.agg([함수1,함수2,함수3,…])\n",
    "- 각 열마다 다른 함수를 매핑 : group객체.agg({‘열1’: 함수1, ‘열2’:함수2, …})\n",
    "\n",
    "변환(transform)\n",
    "- 원소의 본래 행 인덱스와 열 이름을 기준으로 연산 결과를 반환\n",
    "- 데이터 변환 연산 : group객체.transform(매핑함수)\n",
    "\n",
    "필터링(filter)\n",
    "- 그룹 객체에 filter() 메서드를 적용할 때 조건식을 가진 함수를 전달하면 조건이 참인 그룹만을 남김\n",
    "- 그룹 객체 필터링 : group 객체.filter(조건 함수식)\n",
    "\n",
    "객체에 함수 매핑(apply)\n",
    " - 판다스 객체의 개별 원소를 특정 함수에 일대일로 매핑. 사용자가 원하는 대부분의 연산을 그룹 객체에 적용\n",
    " - group 객체.apply(매핑함수)"
   ]
  },
  {
   "cell_type": "code",
   "execution_count": null,
   "id": "706c5293",
   "metadata": {},
   "outputs": [],
   "source": [
    "# Q. 최대값 - 최소값을 반환하는 사용자 함수를 정의하고 agg()함수에 인수로 \n",
    "# 전달하여 그룹별로 집계하여 agg_minmax 이름으로 저장 후 출력하세요.\n",
    "\n",
    "titanic = sns.load_dataset('titanic')\n",
    "df = titanic.loc[:, ['age','sex', 'class', 'fare', 'survived']]\n",
    "\n",
    "# class 열을 기준으로 분할\n",
    "grouped = df.groupby(['class'])\n",
    "\n",
    "def minmax(x):\n",
    "    return x.max() - x.min()\n",
    "\n",
    "agg_minmax = grouped.agg(minmax)\n",
    "agg_minmax"
   ]
  },
  {
   "cell_type": "code",
   "execution_count": null,
   "id": "2f8b6a62",
   "metadata": {},
   "outputs": [],
   "source": [
    "# 모든열에 여러 함수를 매핑 : group객체.agg([함수1,함수2,...])\n",
    "agg_all = grouped.agg(['min','max'])\n",
    "agg_all"
   ]
  },
  {
   "cell_type": "code",
   "execution_count": null,
   "id": "b70d0dbe",
   "metadata": {},
   "outputs": [],
   "source": [
    "# 각 열마다 다름 함수 매핑 : group객체.agg({'열1':함수1, '열2':함수2,...})\n",
    "# ('fare'는 'min', 'max', 'age'는 'mean')\n",
    "\n",
    "agg_dif = grouped.agg({'fare': ['min','max'], 'age': 'mean'})\n",
    "agg_dif\n"
   ]
  },
  {
   "cell_type": "code",
   "execution_count": null,
   "id": "805a36ce",
   "metadata": {},
   "outputs": [],
   "source": [
    "# Q. 데이터 개수가 200개 이상인 그룹만을 필터링하여 데이터프레임으로 반환하여 \n",
    "# grouped_filter 이름으로 저장 후 처음 5개행을 출력하세요.\n",
    "\n",
    "grouped_filter = grouped.filter(lambda x : len(x) >= 200)\n",
    "print(grouped_filter['class'].value_counts(),'\\n')\n",
    "grouped_filter.head()"
   ]
  },
  {
   "cell_type": "code",
   "execution_count": null,
   "id": "3f797b3f",
   "metadata": {},
   "outputs": [],
   "source": [
    "# Q. age 열의 평균이 30보다 작은 그룹만을 필터링하여 데이터프레임으로 반환하여 \n",
    "# age_filter 이름으로 저장 후 끝에서 5개행을 출력하세요.\n",
    "age_filter = grouped.filter(lambda x : x.age.mean()<30)\n",
    "age_filter.tail()"
   ]
  },
  {
   "cell_type": "code",
   "execution_count": null,
   "id": "667825f2",
   "metadata": {},
   "outputs": [],
   "source": [
    "# z-score : 평균값에서 표준편차의 몇배 떨어져 있는지를 평가하는 수치\n",
    "def z_score(x):\n",
    "    return (x - x.mean()) / x.std()\n",
    "\n",
    "age_zscore = grouped.age.apply(z_score)\n",
    "age_zscore.head()"
   ]
  },
  {
   "cell_type": "code",
   "execution_count": null,
   "id": "8711373c",
   "metadata": {},
   "outputs": [],
   "source": [
    "age_zscore = grouped.age.transform(z_score)\n",
    "age_zscore.head()"
   ]
  },
  {
   "cell_type": "code",
   "execution_count": null,
   "id": "e33d2c0c",
   "metadata": {},
   "outputs": [],
   "source": [
    "age_filter = grouped.apply(lambda x : x.age.mean() < 30)\n",
    "for x in age_filter.index:\n",
    "    if age_filter[x] == True:\n",
    "        age_filter_df = grouped.get_group(x)\n",
    "        print(age_filter_df.head())\n",
    "        print()    "
   ]
  },
  {
   "cell_type": "markdown",
   "id": "874dc750",
   "metadata": {},
   "source": [
    "### 피벗\n",
    "* 피벗 테이블을 구성하는 4가지 요소(행 인덱스, 열 인덱스, 데이터 값, 데이터 집계함수)에 적용할 데이터프레임의 열을 각각 지정하여 함수의 인자로 전달"
   ]
  },
  {
   "cell_type": "code",
   "execution_count": null,
   "id": "43b5c4b9",
   "metadata": {},
   "outputs": [],
   "source": [
    "pd.set_option('display.max_columns',24)\n",
    "data_pv = pd.read_pickle('dataset/data_pv.pkl')\n",
    "print(data_pv)\n",
    "\n",
    "data_pv1 = data_pv.pivot_table(index = 'Country',columns='Indicator', values='Value')\n",
    "\n",
    "print()\n",
    "print(data_pv.shape)\n",
    "print(data_pv.info())\n",
    "data_pv1.head()\n"
   ]
  },
  {
   "cell_type": "code",
   "execution_count": null,
   "id": "279d7099",
   "metadata": {},
   "outputs": [],
   "source": [
    "data_pv1.shape"
   ]
  },
  {
   "cell_type": "code",
   "execution_count": null,
   "id": "a89c8aae",
   "metadata": {},
   "outputs": [],
   "source": [
    "pdf1 = df.pivot_table(index = 'class',columns = 'sex',values= 'age')\n",
    "pdf1"
   ]
  },
  {
   "cell_type": "code",
   "execution_count": null,
   "id": "c33aa528",
   "metadata": {},
   "outputs": [],
   "source": [
    "# Q. Titanic df에서 행은 class, 열은 sex로 구성된 피봇 테이블을 출력하세요.\n",
    "pdf1 = pd.pivot_table(df,\n",
    "                     index = 'class',\n",
    "                     columns = 'sex',\n",
    "                     values= 'age',\n",
    "                     aggfunc='mean')\n",
    "pdf1"
   ]
  },
  {
   "cell_type": "code",
   "execution_count": null,
   "id": "95ced191",
   "metadata": {},
   "outputs": [],
   "source": [
    "# Q. 값에 적용하는 집계 함수를 2개 이상 지정 할 수 있다. 'mean', 'sum'을 \n",
    "# 지정하여 출력하세요.(values = 'survived')\n",
    "t2 = titanic.copy()\n",
    "t3 = pd.pivot_table(t2,\n",
    "                    index = 'class',\n",
    "                    columns = 'sex',\n",
    "                    values = 'survived',\n",
    "                    aggfunc = ['mean','sum'])\n",
    "t3"
   ]
  },
  {
   "cell_type": "code",
   "execution_count": null,
   "id": "79c70dcb",
   "metadata": {},
   "outputs": [],
   "source": [
    "# Q. 행, 열, 값에 사용할 열을 2개 이상 지정 할 수 있다. index, values, aggfunc에 \n",
    "# 각각 2개를 지정하여 출력하세요\n",
    "index=['class', 'sex']    # 행 위치에 들어갈 열\n",
    "columns='survived'        # 열 위치에 들어갈 열\n",
    "values=['age', 'fare']    # 데이터로 사용할 열\n",
    "aggfunc=['mean', 'max']    # 데이터 집계 함수\n",
    "\n",
    "pdf3 = df.pivot_table(index = index, columns = columns, values \n",
    "                      = values, aggfunc = aggfunc)\n",
    "pdf3"
   ]
  },
  {
   "cell_type": "code",
   "execution_count": null,
   "id": "6b1325b6",
   "metadata": {},
   "outputs": [],
   "source": [
    "# 과제1\n",
    "# Q. Titanic 데이터셋에 대한 탐색을 통하여 그룹 조합별 인사이트 5개 이상을\n",
    "# 도출하여 기술하세요."
   ]
  },
  {
   "cell_type": "code",
   "execution_count": null,
   "id": "a6b309fb",
   "metadata": {},
   "outputs": [],
   "source": [
    "# 과제2\n",
    "# Q. auto-mpg 데이터에서 horsepower 열의 고유값을 출력하세요.\n",
    "# Q. horsepower 열의 누락 데이터를 삭제한 후 NaN 값의 갯수를 출력하세요\n",
    "# Q. horsepower의 타입을 실수형으로 변환한 후 자료형을 확인하고 auto_df.pkl로\n",
    "# 저장 후 다시 불러와서 출력하세요."
   ]
  },
  {
   "cell_type": "code",
   "execution_count": null,
   "id": "10010108",
   "metadata": {},
   "outputs": [],
   "source": [
    "# 과제3\n",
    "# Q. horsepower 열의 최대값의 절대값으로 모든 데이터를 나누는 정규화를 수행한 후 \n",
    "# 통계요약표를 출력하세요."
   ]
  },
  {
   "cell_type": "code",
   "execution_count": null,
   "id": "8c6b61e1",
   "metadata": {},
   "outputs": [],
   "source": [
    "# 과제4\n",
    "# Q. 아래 사항을 처리 하세요.\n",
    "# origin 열의 고유값을 출력하세요.\n",
    "# 정수형 데이터를 문자형 데이터로 변환한 후 고유값을 출력하세요.\n",
    "# (1:'USA', 2:'EU', 3:'JAPAN')"
   ]
  },
  {
   "cell_type": "code",
   "execution_count": null,
   "id": "8284c4a4",
   "metadata": {},
   "outputs": [],
   "source": [
    "# 과제5\n",
    "# Q. origin 열의 자료형을 확인하고 범주형(category)으로 변환하여 출력하세요"
   ]
  },
  {
   "cell_type": "code",
   "execution_count": null,
   "id": "93b491c1",
   "metadata": {},
   "outputs": [],
   "source": [
    "# 과제6\n",
    "# Q. origin 열을 범주형에서 문자열로 변환한 후 자료형을 출력하세요."
   ]
  },
  {
   "cell_type": "code",
   "execution_count": null,
   "id": "83244433",
   "metadata": {},
   "outputs": [],
   "source": [
    "# 과제7\n",
    "# Q. horsepower를 3개의 bin으로 나누고 bin_names = ['저출력', '보통출력','고출력']\n",
    "# 으로 출력하세요.(np.histogram() 함수로 3개의 bin으로 나눔)"
   ]
  }
 ],
 "metadata": {
  "kernelspec": {
   "display_name": "Python 3",
   "language": "python",
   "name": "python3"
  },
  "language_info": {
   "codemirror_mode": {
    "name": "ipython",
    "version": 3
   },
   "file_extension": ".py",
   "mimetype": "text/x-python",
   "name": "python",
   "nbconvert_exporter": "python",
   "pygments_lexer": "ipython3",
   "version": "3.8.10"
  }
 },
 "nbformat": 4,
 "nbformat_minor": 5
}
